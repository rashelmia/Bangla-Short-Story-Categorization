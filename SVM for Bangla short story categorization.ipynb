{
 "cells": [
  {
   "cell_type": "code",
   "execution_count": 1,
   "id": "732f8855",
   "metadata": {},
   "outputs": [],
   "source": [
    "import pandas as pd\n",
    "import numpy as np\n",
    "import os "
   ]
  },
  {
   "cell_type": "code",
   "execution_count": 2,
   "id": "3e1e8807",
   "metadata": {},
   "outputs": [],
   "source": [
    "import os\n",
    "os.chdir(\"F:\\DIU\\Lstm\")"
   ]
  },
  {
   "cell_type": "code",
   "execution_count": 3,
   "id": "e7fdf629",
   "metadata": {},
   "outputs": [],
   "source": [
    "msg = pd.read_csv(\"cleaned_dataset.csv\")"
   ]
  },
  {
   "cell_type": "code",
   "execution_count": 4,
   "id": "75a515c7",
   "metadata": {},
   "outputs": [
    {
     "data": {
      "text/html": [
       "<div>\n",
       "<style scoped>\n",
       "    .dataframe tbody tr th:only-of-type {\n",
       "        vertical-align: middle;\n",
       "    }\n",
       "\n",
       "    .dataframe tbody tr th {\n",
       "        vertical-align: top;\n",
       "    }\n",
       "\n",
       "    .dataframe thead th {\n",
       "        text-align: right;\n",
       "    }\n",
       "</style>\n",
       "<table border=\"1\" class=\"dataframe\">\n",
       "  <thead>\n",
       "    <tr style=\"text-align: right;\">\n",
       "      <th></th>\n",
       "      <th>Title</th>\n",
       "      <th>Author</th>\n",
       "      <th>Text</th>\n",
       "      <th>Category</th>\n",
       "      <th>Clean_Text</th>\n",
       "    </tr>\n",
       "  </thead>\n",
       "  <tbody>\n",
       "    <tr>\n",
       "      <th>0</th>\n",
       "      <td>❤তোর মতো কেউ নেই ❤...পর্ব ৭</td>\n",
       "      <td>রিমা ব্যানার্জি 🍁✒</td>\n",
       "      <td>❤  পর্ব    ৭❤  বাড়িতে  পুজো  আছে  anniversary ...</td>\n",
       "      <td>2</td>\n",
       "      <td>পর্ব বাড়িতে পুজো টিয়া বলেছিল মাথায় রেখেই রুদ্র...</td>\n",
       "    </tr>\n",
       "    <tr>\n",
       "      <th>1</th>\n",
       "      <td>বড় হওয়ার গপ্পো</td>\n",
       "      <td>গৌরব বিশ্বাস</td>\n",
       "      <td>এ  গল্প  আমার  বড়  হওয়ার  গল্প।  পাঠকগ্ণ  নিশ্...</td>\n",
       "      <td>1</td>\n",
       "      <td>গল্প বড় হওয়ার গল্প । পাঠকগ্ণ নিশ্চই টানটান হয়ে...</td>\n",
       "    </tr>\n",
       "    <tr>\n",
       "      <th>2</th>\n",
       "      <td>রমেশের ডেলিভারি</td>\n",
       "      <td>সুজিত ঘোষ</td>\n",
       "      <td>টিং-টং  করে  দরজার  বেল  বাজালাম!ওপার  থেকে  আ...</td>\n",
       "      <td>0</td>\n",
       "      <td>টিংটং দরজার বেল বাজালামওপার আওয়াজ বললাম রমেশকি...</td>\n",
       "    </tr>\n",
       "    <tr>\n",
       "      <th>3</th>\n",
       "      <td>Your_Love_Is_My_Addiction💖 part--- 12</td>\n",
       "      <td>মানাই ঘোষ \"তিথি\"</td>\n",
       "      <td>Your  _Love_Is_My_Addiction💖  part---  12  .  ...</td>\n",
       "      <td>1</td>\n",
       "      <td>মিহুর বাবামার বিদায় গেলো মেঘ । মেঘের ঠোঁটের কো...</td>\n",
       "    </tr>\n",
       "    <tr>\n",
       "      <th>4</th>\n",
       "      <td>♥️রোমান্টিক বসের ভালোবাসা ♥️</td>\n",
       "      <td>💞রিধি সেন💞</td>\n",
       "      <td>গল্প  :  রোমান্টিক  😍বসের  ভালোবাসা  পর্ব  :  ...</td>\n",
       "      <td>1</td>\n",
       "      <td>গল্প রোমান্টিক বসের ভালোবাসা পর্ব তানিয়া উফএই ...</td>\n",
       "    </tr>\n",
       "    <tr>\n",
       "      <th>...</th>\n",
       "      <td>...</td>\n",
       "      <td>...</td>\n",
       "      <td>...</td>\n",
       "      <td>...</td>\n",
       "      <td>...</td>\n",
       "    </tr>\n",
       "    <tr>\n",
       "      <th>5806</th>\n",
       "      <td>ডায়েরির শেষ পাতাটা পর্ব-৩২</td>\n",
       "      <td>Sadia Afrin \"Sarah\"</td>\n",
       "      <td>\"\"\"    দুটা  ক্লাস  করিয়েই  ছুটি  দিয়ে  দেওয...</td>\n",
       "      <td>2</td>\n",
       "      <td>দুটা ক্লাস করিয়েই ছুটি । স্টুডেন্ট কোটা একটা ...</td>\n",
       "    </tr>\n",
       "    <tr>\n",
       "      <th>5807</th>\n",
       "      <td>The White Eyes- End of A journey.</td>\n",
       "      <td>Akash Chatterjee</td>\n",
       "      <td>The  White  Eyes  -  End  of  A  journey  (এই ...</td>\n",
       "      <td>0</td>\n",
       "      <td>গল্প পড়ার আগের অংশ আপনাদের পড়তে নাহলে বুঝতে ...</td>\n",
       "    </tr>\n",
       "    <tr>\n",
       "      <th>5808</th>\n",
       "      <td>ফেরা</td>\n",
       "      <td>মধুমিতা মুখার্জী</td>\n",
       "      <td>বহুদিন  হল  বর্দ্ধমানের  দেশের  বাড়ির  কালি  প...</td>\n",
       "      <td>0</td>\n",
       "      <td>বহুদিন বর্দ্ধমানের দেশের বাড়ির কালি পুজোয় যায়ন...</td>\n",
       "    </tr>\n",
       "    <tr>\n",
       "      <th>5809</th>\n",
       "      <td>খোপ থেকে বেরলো পোপ</td>\n",
       "      <td>Sudip Chakraborty</td>\n",
       "      <td>আপনাদের  কি  কারো  স্মরণে  আছে  কোলকাতায়  আশির...</td>\n",
       "      <td>1</td>\n",
       "      <td>আপনাদের কারো স্মরণে কোলকাতায় আশির দশকে এক সময়ে...</td>\n",
       "    </tr>\n",
       "    <tr>\n",
       "      <th>5810</th>\n",
       "      <td>💮তুমি এলে তাই💮Part-20</td>\n",
       "      <td>Mou \"মৌ\"</td>\n",
       "      <td>#  তুমি_এলে_তাই  #  বাংলা  Medium    #  পর্ব_২...</td>\n",
       "      <td>2</td>\n",
       "      <td>তুমিএলেতাই বাংলা পর্ব একমনে ভাবছে অয়ন । ভাবনা ...</td>\n",
       "    </tr>\n",
       "  </tbody>\n",
       "</table>\n",
       "<p>5811 rows × 5 columns</p>\n",
       "</div>"
      ],
      "text/plain": [
       "                                      Title               Author  \\\n",
       "0               ❤তোর মতো কেউ নেই ❤...পর্ব ৭   রিমা ব্যানার্জি 🍁✒   \n",
       "1                            বড় হওয়ার গপ্পো         গৌরব বিশ্বাস   \n",
       "2                           রমেশের ডেলিভারি            সুজিত ঘোষ   \n",
       "3     Your_Love_Is_My_Addiction💖 part--- 12     মানাই ঘোষ \"তিথি\"   \n",
       "4              ♥️রোমান্টিক বসের ভালোবাসা ♥️           💞রিধি সেন💞   \n",
       "...                                     ...                  ...   \n",
       "5806            ডায়েরির শেষ পাতাটা পর্ব-৩২  Sadia Afrin \"Sarah\"   \n",
       "5807      The White Eyes- End of A journey.     Akash Chatterjee   \n",
       "5808                                   ফেরা     মধুমিতা মুখার্জী   \n",
       "5809                     খোপ থেকে বেরলো পোপ    Sudip Chakraborty   \n",
       "5810                  💮তুমি এলে তাই💮Part-20             Mou \"মৌ\"   \n",
       "\n",
       "                                                   Text  Category  \\\n",
       "0     ❤  পর্ব    ৭❤  বাড়িতে  পুজো  আছে  anniversary ...         2   \n",
       "1     এ  গল্প  আমার  বড়  হওয়ার  গল্প।  পাঠকগ্ণ  নিশ্...         1   \n",
       "2     টিং-টং  করে  দরজার  বেল  বাজালাম!ওপার  থেকে  আ...         0   \n",
       "3     Your  _Love_Is_My_Addiction💖  part---  12  .  ...         1   \n",
       "4     গল্প  :  রোমান্টিক  😍বসের  ভালোবাসা  পর্ব  :  ...         1   \n",
       "...                                                 ...       ...   \n",
       "5806  \"\"\"    দুটা  ক্লাস  করিয়েই  ছুটি  দিয়ে  দেওয...         2   \n",
       "5807  The  White  Eyes  -  End  of  A  journey  (এই ...         0   \n",
       "5808  বহুদিন  হল  বর্দ্ধমানের  দেশের  বাড়ির  কালি  প...         0   \n",
       "5809  আপনাদের  কি  কারো  স্মরণে  আছে  কোলকাতায়  আশির...         1   \n",
       "5810  #  তুমি_এলে_তাই  #  বাংলা  Medium    #  পর্ব_২...         2   \n",
       "\n",
       "                                             Clean_Text  \n",
       "0     পর্ব বাড়িতে পুজো টিয়া বলেছিল মাথায় রেখেই রুদ্র...  \n",
       "1     গল্প বড় হওয়ার গল্প । পাঠকগ্ণ নিশ্চই টানটান হয়ে...  \n",
       "2     টিংটং দরজার বেল বাজালামওপার আওয়াজ বললাম রমেশকি...  \n",
       "3     মিহুর বাবামার বিদায় গেলো মেঘ । মেঘের ঠোঁটের কো...  \n",
       "4     গল্প রোমান্টিক বসের ভালোবাসা পর্ব তানিয়া উফএই ...  \n",
       "...                                                 ...  \n",
       "5806  দুটা ক্লাস করিয়েই ছুটি । স্টুডেন্ট কোটা একটা ...  \n",
       "5807  গল্প পড়ার আগের অংশ আপনাদের পড়তে নাহলে বুঝতে ...  \n",
       "5808  বহুদিন বর্দ্ধমানের দেশের বাড়ির কালি পুজোয় যায়ন...  \n",
       "5809  আপনাদের কারো স্মরণে কোলকাতায় আশির দশকে এক সময়ে...  \n",
       "5810  তুমিএলেতাই বাংলা পর্ব একমনে ভাবছে অয়ন । ভাবনা ...  \n",
       "\n",
       "[5811 rows x 5 columns]"
      ]
     },
     "execution_count": 4,
     "metadata": {},
     "output_type": "execute_result"
    }
   ],
   "source": [
    "msg"
   ]
  },
  {
   "cell_type": "code",
   "execution_count": 5,
   "id": "d9de1067",
   "metadata": {},
   "outputs": [],
   "source": [
    "df = msg"
   ]
  },
  {
   "cell_type": "code",
   "execution_count": 6,
   "id": "55eb5e1e",
   "metadata": {},
   "outputs": [
    {
     "data": {
      "text/plain": [
       "Title         0\n",
       "Author        0\n",
       "Text          0\n",
       "Category      0\n",
       "Clean_Text    0\n",
       "dtype: int64"
      ]
     },
     "execution_count": 6,
     "metadata": {},
     "output_type": "execute_result"
    }
   ],
   "source": [
    "# Check NA counts\n",
    "df.isnull().sum()"
   ]
  },
  {
   "cell_type": "code",
   "execution_count": 7,
   "id": "c532c987",
   "metadata": {},
   "outputs": [
    {
     "data": {
      "text/plain": [
       "1    2000\n",
       "2    2000\n",
       "0    1811\n",
       "Name: Category, dtype: int64"
      ]
     },
     "execution_count": 7,
     "metadata": {},
     "output_type": "execute_result"
    }
   ],
   "source": [
    "pd.value_counts(df.Category)"
   ]
  },
  {
   "cell_type": "code",
   "execution_count": 8,
   "id": "d915f5d6",
   "metadata": {},
   "outputs": [],
   "source": [
    "df = df.sample(frac=1).reset_index(drop=True)"
   ]
  },
  {
   "cell_type": "code",
   "execution_count": 9,
   "id": "7794bfb0",
   "metadata": {},
   "outputs": [
    {
     "data": {
      "text/html": [
       "<div>\n",
       "<style scoped>\n",
       "    .dataframe tbody tr th:only-of-type {\n",
       "        vertical-align: middle;\n",
       "    }\n",
       "\n",
       "    .dataframe tbody tr th {\n",
       "        vertical-align: top;\n",
       "    }\n",
       "\n",
       "    .dataframe thead th {\n",
       "        text-align: right;\n",
       "    }\n",
       "</style>\n",
       "<table border=\"1\" class=\"dataframe\">\n",
       "  <thead>\n",
       "    <tr style=\"text-align: right;\">\n",
       "      <th></th>\n",
       "      <th>Title</th>\n",
       "      <th>Author</th>\n",
       "      <th>Text</th>\n",
       "      <th>Category</th>\n",
       "      <th>Clean_Text</th>\n",
       "    </tr>\n",
       "  </thead>\n",
       "  <tbody>\n",
       "    <tr>\n",
       "      <th>0</th>\n",
       "      <td>হলদে রাঙা বউ পর্ব-৩৪</td>\n",
       "      <td>মন সায়রের পাড়ে</td>\n",
       "      <td>হলদে  রাঙা  বউ  #সুমিত_দরানী  পর্ব  -  ৩৪  অঙ্...</td>\n",
       "      <td>1</td>\n",
       "      <td>হলদে রাঙা বউ সুমিতদরানী পর্ব অঙ্কিতার গালে ঠাস...</td>\n",
       "    </tr>\n",
       "    <tr>\n",
       "      <th>1</th>\n",
       "      <td>#Crazy_Lover #Unlimited_Craziness #Part_14</td>\n",
       "      <td>কোয়েল ব্যানার্জী \"আয়েশা\"</td>\n",
       "      <td>#Crazy_Lover    #Unlimited_Craziness  #Childho...</td>\n",
       "      <td>2</td>\n",
       "      <td>রাজ হেলান দিয়ে বেডে কোয়েল এক হাত দিয়ে জড়িয়ে রে...</td>\n",
       "    </tr>\n",
       "    <tr>\n",
       "      <th>2</th>\n",
       "      <td>#সম্পর্কের_মায়াজাল_২_পর্ব_৪</td>\n",
       "      <td>ফারজানা আফরোজ</td>\n",
       "      <td>#সম্পর্কের_মায়াজাল_২  #ফারজানা_আফরোজ  #পর্ব_৪...</td>\n",
       "      <td>0</td>\n",
       "      <td>সম্পর্কেরমায়াজাল ফারজানাআফরোজ পর্ব এক ঘন্টা শ...</td>\n",
       "    </tr>\n",
       "    <tr>\n",
       "      <th>3</th>\n",
       "      <td>।। ক্ষত ।।</td>\n",
       "      <td>🍁 অনিন্দিতা 🍁</td>\n",
       "      <td>।।  ক্ষত  ।।  ঘড়ির  কাঁটা  জানান  দিচ্ছে  সন্...</td>\n",
       "      <td>0</td>\n",
       "      <td>। । ক্ষত । । ঘড়ির কাঁটা জানান দিচ্ছে সন্ধ্যে ...</td>\n",
       "    </tr>\n",
       "    <tr>\n",
       "      <th>4</th>\n",
       "      <td>মুক্তি</td>\n",
       "      <td>নেহা কর্মকার</td>\n",
       "      <td>জোড়া  নিম্নচাপের  কারণে  বিগত  তিনদিন  টানা  ...</td>\n",
       "      <td>0</td>\n",
       "      <td>জোড়া নিম্নচাপের কারণে বিগত তিনদিন টানা বর্ষণ ...</td>\n",
       "    </tr>\n",
       "    <tr>\n",
       "      <th>...</th>\n",
       "      <td>...</td>\n",
       "      <td>...</td>\n",
       "      <td>...</td>\n",
       "      <td>...</td>\n",
       "      <td>...</td>\n",
       "    </tr>\n",
       "    <tr>\n",
       "      <th>5806</th>\n",
       "      <td>তপস্বিনী চতুর্থ পর্ব</td>\n",
       "      <td>Sangita Dutta Roy</td>\n",
       "      <td>আগে  যা  ঘটেছে--------------------------অজ্ঞান...</td>\n",
       "      <td>2</td>\n",
       "      <td>ঘটেছেঅজ্ঞান শিবানীকে নাকছাবির চিনতে পেরে আশাবর...</td>\n",
       "    </tr>\n",
       "    <tr>\n",
       "      <th>5807</th>\n",
       "      <td>\"তুমি শুধুই আমার\" পর্ব-৩৩</td>\n",
       "      <td>রংমিলান্তি</td>\n",
       "      <td>সায়ন  অবন্তিকার  হাত  ধরে  টানতে  টানতে  লিফ্ট...</td>\n",
       "      <td>2</td>\n",
       "      <td>সায়ন অবন্তিকার হাত টানতে টানতে লিফ্টের কোথায় অ...</td>\n",
       "    </tr>\n",
       "    <tr>\n",
       "      <th>5808</th>\n",
       "      <td>\"সেই ভয়ঙ্কর রাত\" সত্য ঘটনা ... হাড় হিম করা ভ...</td>\n",
       "      <td>নীল পাখি \"(সৌ)\"</td>\n",
       "      <td>আজ  তোমাদেরকে  যে  কাহিনীটি  শোনাবো  ,  সে  টা...</td>\n",
       "      <td>0</td>\n",
       "      <td>তোমাদেরকে কাহিনীটি শোনাবো টা কাল্পনিক গল্প জীব...</td>\n",
       "    </tr>\n",
       "    <tr>\n",
       "      <th>5809</th>\n",
       "      <td>🥰 তা বলে কী প্রেম দেবো না 🥰 Part 8</td>\n",
       "      <td>আমি আমার মতো শ্রে য় সী</td>\n",
       "      <td>এইভাবেই  বেশ  কিছুদিন  কেটে  গেছে  সকলের  সাথে...</td>\n",
       "      <td>1</td>\n",
       "      <td>এইভাবেই কিছুদিন কেটে সকলের সাথে আনন্দ হৈ হুল্ল...</td>\n",
       "    </tr>\n",
       "    <tr>\n",
       "      <th>5810</th>\n",
       "      <td>Feel My Heart - 22</td>\n",
       "      <td>SOMA GHOSH</td>\n",
       "      <td>Feel  My  Heart  -  22  মন  আর  সূর্য  দুজনেই ...</td>\n",
       "      <td>2</td>\n",
       "      <td>মন সূর্য দুজনেই ছাদের রেলিং দাঁড়িয়ে । মন সাম...</td>\n",
       "    </tr>\n",
       "  </tbody>\n",
       "</table>\n",
       "<p>5811 rows × 5 columns</p>\n",
       "</div>"
      ],
      "text/plain": [
       "                                                  Title  \\\n",
       "0                                  হলদে রাঙা বউ পর্ব-৩৪   \n",
       "1            #Crazy_Lover #Unlimited_Craziness #Part_14   \n",
       "2                          #সম্পর্কের_মায়াজাল_২_পর্ব_৪   \n",
       "3                                            ।। ক্ষত ।।   \n",
       "4                                                মুক্তি   \n",
       "...                                                 ...   \n",
       "5806                               তপস্বিনী চতুর্থ পর্ব   \n",
       "5807                          \"তুমি শুধুই আমার\" পর্ব-৩৩   \n",
       "5808  \"সেই ভয়ঙ্কর রাত\" সত্য ঘটনা ... হাড় হিম করা ভ...   \n",
       "5809                 🥰 তা বলে কী প্রেম দেবো না 🥰 Part 8   \n",
       "5810                                 Feel My Heart - 22   \n",
       "\n",
       "                        Author  \\\n",
       "0             মন সায়রের পাড়ে   \n",
       "1     কোয়েল ব্যানার্জী \"আয়েশা\"   \n",
       "2                ফারজানা আফরোজ   \n",
       "3                🍁 অনিন্দিতা 🍁   \n",
       "4                 নেহা কর্মকার   \n",
       "...                        ...   \n",
       "5806         Sangita Dutta Roy   \n",
       "5807                রংমিলান্তি   \n",
       "5808           নীল পাখি \"(সৌ)\"   \n",
       "5809   আমি আমার মতো শ্রে য় সী   \n",
       "5810                SOMA GHOSH   \n",
       "\n",
       "                                                   Text  Category  \\\n",
       "0     হলদে  রাঙা  বউ  #সুমিত_দরানী  পর্ব  -  ৩৪  অঙ্...         1   \n",
       "1     #Crazy_Lover    #Unlimited_Craziness  #Childho...         2   \n",
       "2     #সম্পর্কের_মায়াজাল_২  #ফারজানা_আফরোজ  #পর্ব_৪...         0   \n",
       "3     ।।  ক্ষত  ।।  ঘড়ির  কাঁটা  জানান  দিচ্ছে  সন্...         0   \n",
       "4     জোড়া  নিম্নচাপের  কারণে  বিগত  তিনদিন  টানা  ...         0   \n",
       "...                                                 ...       ...   \n",
       "5806  আগে  যা  ঘটেছে--------------------------অজ্ঞান...         2   \n",
       "5807  সায়ন  অবন্তিকার  হাত  ধরে  টানতে  টানতে  লিফ্ট...         2   \n",
       "5808  আজ  তোমাদেরকে  যে  কাহিনীটি  শোনাবো  ,  সে  টা...         0   \n",
       "5809  এইভাবেই  বেশ  কিছুদিন  কেটে  গেছে  সকলের  সাথে...         1   \n",
       "5810  Feel  My  Heart  -  22  মন  আর  সূর্য  দুজনেই ...         2   \n",
       "\n",
       "                                             Clean_Text  \n",
       "0     হলদে রাঙা বউ সুমিতদরানী পর্ব অঙ্কিতার গালে ঠাস...  \n",
       "1     রাজ হেলান দিয়ে বেডে কোয়েল এক হাত দিয়ে জড়িয়ে রে...  \n",
       "2     সম্পর্কেরমায়াজাল ফারজানাআফরোজ পর্ব এক ঘন্টা শ...  \n",
       "3     । । ক্ষত । । ঘড়ির কাঁটা জানান দিচ্ছে সন্ধ্যে ...  \n",
       "4     জোড়া নিম্নচাপের কারণে বিগত তিনদিন টানা বর্ষণ ...  \n",
       "...                                                 ...  \n",
       "5806  ঘটেছেঅজ্ঞান শিবানীকে নাকছাবির চিনতে পেরে আশাবর...  \n",
       "5807  সায়ন অবন্তিকার হাত টানতে টানতে লিফ্টের কোথায় অ...  \n",
       "5808  তোমাদেরকে কাহিনীটি শোনাবো টা কাল্পনিক গল্প জীব...  \n",
       "5809  এইভাবেই কিছুদিন কেটে সকলের সাথে আনন্দ হৈ হুল্ল...  \n",
       "5810  মন সূর্য দুজনেই ছাদের রেলিং দাঁড়িয়ে । মন সাম...  \n",
       "\n",
       "[5811 rows x 5 columns]"
      ]
     },
     "execution_count": 9,
     "metadata": {},
     "output_type": "execute_result"
    }
   ],
   "source": [
    "df"
   ]
  },
  {
   "cell_type": "code",
   "execution_count": 10,
   "id": "7c7151f4",
   "metadata": {},
   "outputs": [
    {
     "data": {
      "text/plain": [
       "{0, 1, 2}"
      ]
     },
     "execution_count": 10,
     "metadata": {},
     "output_type": "execute_result"
    }
   ],
   "source": [
    "set(df.Category)\n"
   ]
  },
  {
   "cell_type": "code",
   "execution_count": 11,
   "id": "1c3a75f9",
   "metadata": {},
   "outputs": [],
   "source": [
    "import pandas as pd\n",
    "import numpy as np\n",
    "from nltk.tokenize import word_tokenize\n",
    "from nltk import pos_tag\n",
    "from nltk.corpus import stopwords\n",
    "from nltk.stem import WordNetLemmatizer\n",
    "from sklearn.preprocessing import LabelEncoder\n",
    "from collections import defaultdict\n",
    "from nltk.corpus import wordnet as wn\n",
    "from sklearn.feature_extraction.text import TfidfVectorizer\n",
    "from sklearn import model_selection, naive_bayes, svm\n",
    "from sklearn.metrics import accuracy_score"
   ]
  },
  {
   "cell_type": "code",
   "execution_count": 12,
   "id": "91bd8adb",
   "metadata": {},
   "outputs": [],
   "source": [
    " np.random.seed(500) \n"
   ]
  },
  {
   "cell_type": "code",
   "execution_count": 44,
   "id": "8e452856",
   "metadata": {},
   "outputs": [],
   "source": [
    "Train_X, Test_X, Train_Y, Test_Y = model_selection.train_test_split(df['Clean_Text'],df['Category'],test_size=0.3)"
   ]
  },
  {
   "cell_type": "code",
   "execution_count": 45,
   "id": "21cbea16",
   "metadata": {},
   "outputs": [],
   "source": [
    "Encoder = LabelEncoder()\n",
    "Train_Y = Encoder.fit_transform(Train_Y)\n",
    "Test_Y = Encoder.fit_transform(Test_Y)"
   ]
  },
  {
   "cell_type": "code",
   "execution_count": 46,
   "id": "cff13e18",
   "metadata": {},
   "outputs": [],
   "source": [
    "Tfidf_vect = TfidfVectorizer(max_features=5000)\n",
    "Tfidf_vect.fit(df['Clean_Text'])\n",
    "Train_X_Tfidf = Tfidf_vect.transform(Train_X)\n",
    "Test_X_Tfidf = Tfidf_vect.transform(Test_X)"
   ]
  },
  {
   "cell_type": "code",
   "execution_count": 48,
   "id": "d41d540b",
   "metadata": {},
   "outputs": [
    {
     "name": "stdout",
     "output_type": "stream",
     "text": [
      "  (0, 4834)\t0.023478576349955205\n",
      "  (0, 4826)\t0.1642054205397848\n",
      "  (0, 4755)\t0.022812805263237947\n",
      "  (0, 4751)\t0.0542994434965544\n",
      "  (0, 4743)\t0.024500178583309672\n",
      "  (0, 4685)\t0.08419655706157295\n",
      "  (0, 4683)\t0.07737640713189534\n",
      "  (0, 4652)\t0.031503997283503296\n",
      "  (0, 4642)\t0.01885736055306979\n",
      "  (0, 4626)\t0.029856035719622427\n",
      "  (0, 4610)\t0.0611097962176186\n",
      "  (0, 4601)\t0.05496058118744727\n",
      "  (0, 4600)\t0.05940049666421351\n",
      "  (0, 4598)\t0.014503579160949014\n",
      "  (0, 4581)\t0.06761027508686195\n",
      "  (0, 4570)\t0.014650286672132872\n",
      "  (0, 4552)\t0.06545389155672575\n",
      "  (0, 4540)\t0.03502211197872057\n",
      "  (0, 4488)\t0.050923311532337714\n",
      "  (0, 4480)\t0.10747026674259198\n",
      "  (0, 4394)\t0.03847179683105488\n",
      "  (0, 4346)\t0.11239070250331971\n",
      "  (0, 4321)\t0.035911661033992404\n",
      "  (0, 4316)\t0.019855640982267383\n",
      "  (0, 4295)\t0.02168629227845705\n",
      "  :\t:\n",
      "  (4066, 457)\t0.12385785509001705\n",
      "  (4066, 451)\t0.017584700376632633\n",
      "  (4066, 435)\t0.06446075019077444\n",
      "  (4066, 418)\t0.15563906264661426\n",
      "  (4066, 412)\t0.16497714113207923\n",
      "  (4066, 404)\t0.013608323648109183\n",
      "  (4066, 375)\t0.08411142872155696\n",
      "  (4066, 353)\t0.030679254141272864\n",
      "  (4066, 345)\t0.020574102609384245\n",
      "  (4066, 318)\t0.05833607971553542\n",
      "  (4066, 295)\t0.031862922255708956\n",
      "  (4066, 290)\t0.029755573977930598\n",
      "  (4066, 283)\t0.03344607401582955\n",
      "  (4066, 255)\t0.021613611749412127\n",
      "  (4066, 254)\t0.05596313282898822\n",
      "  (4066, 222)\t0.038743303056096676\n",
      "  (4066, 194)\t0.07718403105777939\n",
      "  (4066, 174)\t0.017067780151210826\n",
      "  (4066, 159)\t0.05195659847286308\n",
      "  (4066, 154)\t0.020755592202444627\n",
      "  (4066, 126)\t0.09766164171213497\n",
      "  (4066, 91)\t0.024250027415586246\n",
      "  (4066, 61)\t0.024831405465518423\n",
      "  (4066, 33)\t0.038844564194526636\n",
      "  (4066, 15)\t0.08321329468254589\n"
     ]
    }
   ],
   "source": [
    "print(Train_X_Tfidf)\n"
   ]
  },
  {
   "cell_type": "code",
   "execution_count": 49,
   "id": "acec6065",
   "metadata": {},
   "outputs": [
    {
     "data": {
      "text/plain": [
       "SVC(gamma='auto', kernel='linear')"
      ]
     },
     "execution_count": 49,
     "metadata": {},
     "output_type": "execute_result"
    }
   ],
   "source": [
    "# Classifier - Algorithm - SVM\n",
    "# fit the training dataset on the classifier\n",
    "SVM = svm.SVC(C=1.0, kernel='linear', degree=3, gamma='auto')\n",
    "SVM.fit(Train_X_Tfidf,Train_Y)"
   ]
  },
  {
   "cell_type": "code",
   "execution_count": 50,
   "id": "effe6de5",
   "metadata": {},
   "outputs": [],
   "source": [
    "# predict the labels on validation dataset\n",
    "predictions_SVM = SVM.predict(Test_X_Tfidf)"
   ]
  },
  {
   "cell_type": "code",
   "execution_count": 51,
   "id": "eb1d9197",
   "metadata": {},
   "outputs": [
    {
     "name": "stdout",
     "output_type": "stream",
     "text": [
      "SVM Accuracy Score ->  82.16743119266054\n"
     ]
    }
   ],
   "source": [
    "# Use accuracy_score function to get the accuracy\n",
    "print(\"SVM Accuracy Score -> \",accuracy_score(predictions_SVM, Test_Y)*100)"
   ]
  },
  {
   "cell_type": "code",
   "execution_count": 52,
   "id": "4ded4673",
   "metadata": {},
   "outputs": [],
   "source": [
    "categories = ['0','1','2']\n"
   ]
  },
  {
   "cell_type": "code",
   "execution_count": 53,
   "id": "96691a53",
   "metadata": {},
   "outputs": [
    {
     "name": "stdout",
     "output_type": "stream",
     "text": [
      "Accuracy metrics\n",
      "Accuracy of the classifer is 0.8216743119266054\n",
      "Confusion matrix\n",
      "[[488  32  37]\n",
      " [ 41 491  73]\n",
      " [ 27 101 454]]\n"
     ]
    }
   ],
   "source": [
    "from sklearn import metrics\n",
    "print('Accuracy metrics')\n",
    "print('Accuracy of the classifer is',metrics.accuracy_score(Test_Y, predictions_SVM))\n",
    "print('Confusion matrix')\n",
    "print(metrics.confusion_matrix(Test_Y, predictions_SVM))"
   ]
  },
  {
   "cell_type": "code",
   "execution_count": 54,
   "id": "94cd768d",
   "metadata": {},
   "outputs": [
    {
     "name": "stdout",
     "output_type": "stream",
     "text": [
      "              precision    recall  f1-score   support\n",
      "\n",
      "     Class 0       0.88      0.88      0.88       557\n",
      "     Class 1       0.79      0.81      0.80       605\n",
      "     Class 2       0.80      0.78      0.79       582\n",
      "\n",
      "    accuracy                           0.82      1744\n",
      "   macro avg       0.82      0.82      0.82      1744\n",
      "weighted avg       0.82      0.82      0.82      1744\n",
      "\n"
     ]
    }
   ],
   "source": [
    "from sklearn.metrics import classification_report\n",
    "target_names = [\"Class {}\".format(i) for i in range(3)]\n",
    "print(classification_report(Test_Y, predictions_SVM, target_names=target_names))"
   ]
  },
  {
   "cell_type": "code",
   "execution_count": 55,
   "id": "10cf25e3",
   "metadata": {},
   "outputs": [],
   "source": [
    "class_n = set(df.Category)"
   ]
  },
  {
   "cell_type": "code",
   "execution_count": 56,
   "id": "0e8780c2",
   "metadata": {},
   "outputs": [
    {
     "name": "stdout",
     "output_type": "stream",
     "text": [
      "Automatically created module for IPython interactive environment\n",
      "Confusion matrix, without normalization\n",
      "[[488  32  37]\n",
      " [ 41 491  73]\n",
      " [ 27 101 454]]\n",
      "Normalized confusion matrix\n",
      "[[0.88 0.06 0.07]\n",
      " [0.07 0.81 0.12]\n",
      " [0.05 0.17 0.78]]\n"
     ]
    },
    {
     "data": {
      "image/png": "[encoded data removed]",
      "text/plain": [
       "<Figure size 432x288 with 2 Axes>"
      ]
     },
     "metadata": {
      "needs_background": "light"
     },
     "output_type": "display_data"
    },
    {
     "data": {
      "image/png": "[encoded data removed]",
      "text/plain": [
       "<Figure size 432x288 with 2 Axes>"
      ]
     },
     "metadata": {
      "needs_background": "light"
     },
     "output_type": "display_data"
    }
   ],
   "source": [
    "print(__doc__)\n",
    "\n",
    "import numpy as np\n",
    "import matplotlib.pyplot as plt\n",
    "\n",
    "#from sklearn import svm, datasets\n",
    "#from sklearn.model_selection import train_test_split\n",
    "from sklearn.metrics import plot_confusion_matrix\n",
    "\n",
    "# import some data to play with\n",
    "#iris = datasets.load_iris()\n",
    "#X = iris.data\n",
    "#y = iris.target\n",
    "class_names = set(df.Category)\n",
    "\n",
    "# Split the data into a training set and a test set\n",
    "#X_train, X_test, y_train, y_test = train_test_split(X, y, random_state=0)\n",
    "\n",
    "# Run classifier, using a model that is too regularized (C too low) to see\n",
    "# the impact on the results\n",
    "#classifier = svm.SVC(kernel='linear', C=0.01).fit(X_train, y_train)\n",
    "\n",
    "np.set_printoptions(precision=2)\n",
    "\n",
    "# Plot non-normalized confusion matrix\n",
    "titles_options = [(\"Confusion matrix, without normalization\", None),\n",
    "                  (\"Normalized confusion matrix\", 'true')]\n",
    "for title, normalize in titles_options:\n",
    "    disp = plot_confusion_matrix(SVM, Test_X_Tfidf, Test_Y,\n",
    "                                 display_labels=class_names,\n",
    "                                 cmap=plt.cm.Blues,\n",
    "                                 normalize=normalize)\n",
    "    disp.ax_.set_title(title)\n",
    "\n",
    "    print(title)\n",
    "    print(disp.confusion_matrix)\n",
    "\n",
    "plt.show()"
   ]
  },
  {
   "cell_type": "code",
   "execution_count": null,
   "id": "40830ef4",
   "metadata": {},
   "outputs": [],
   "source": []
  }
 ],
 "metadata": {
  "kernelspec": {
   "display_name": "Python 3",
   "language": "python",
   "name": "python3"
  },
  "language_info": {
   "codemirror_mode": {
    "name": "ipython",
    "version": 3
   },
   "file_extension": ".py",
   "mimetype": "text/x-python",
   "name": "python",
   "nbconvert_exporter": "python",
   "pygments_lexer": "ipython3",
   "version": "3.8.10"
  }
 },
 "nbformat": 4,
 "nbformat_minor": 5
}

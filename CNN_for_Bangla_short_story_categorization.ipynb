{
  "nbformat": 4,
  "nbformat_minor": 0,
  "metadata": {
    "colab": {
      "name": "CNN for Bangla short story categorization.ipynb",
      "provenance": [],
      "authorship_tag": "ABX9TyO83ruq2brdYJUuUk/nVD43",
      "include_colab_link": true
    },
    "kernelspec": {
      "name": "python3",
      "display_name": "Python 3"
    },
    "language_info": {
      "name": "python"
    }
  },
  "cells": [
    {
      "cell_type": "markdown",
      "metadata": {
        "id": "view-in-github",
        "colab_type": "text"
      },
      "source": [
        "<a href=\"https://colab.research.google.com/github/rashelmia/Bangla-Short-Story-Categorization/blob/main/CNN_for_Bangla_short_story_categorization.ipynb\" target=\"_parent\"><img src=\"https://colab.research.google.com/assets/colab-badge.svg\" alt=\"Open In Colab\"/></a>"
      ]
    },
    {
      "cell_type": "code",
      "metadata": {
        "id": "Sw1in-6xiIjI"
      },
      "source": [
        ""
      ],
      "execution_count": null,
      "outputs": []
    },
    {
      "cell_type": "code",
      "metadata": {
        "colab": {
          "base_uri": "https://localhost:8080/"
        },
        "id": "TjUdvOiVDg8e",
        "outputId": "5537dc44-d08b-4acd-d4f1-d50816d29636"
      },
      "source": [
        "!pip install to_categorical"
      ],
      "execution_count": null,
      "outputs": [
        {
          "output_type": "stream",
          "text": [
            "\u001b[31mERROR: Could not find a version that satisfies the requirement to_categorical (from versions: none)\u001b[0m\n",
            "\u001b[31mERROR: No matching distribution found for to_categorical\u001b[0m\n"
          ],
          "name": "stdout"
        }
      ]
    },
    {
      "cell_type": "code",
      "metadata": {
        "id": "iHTDtRKABQMY"
      },
      "source": [
        "from sklearn.model_selection import train_test_split\n",
        "from sklearn.preprocessing import LabelBinarizer\n",
        "from keras.preprocessing.text import Tokenizer\n",
        "from keras.preprocessing.sequence import pad_sequences\n",
        "from sklearn.feature_extraction.text import TfidfVectorizer\n",
        "from keras.layers import SpatialDropout1D\n",
        "#from keras.utils import to_categorical\n",
        "from sklearn.metrics import classification_report\n",
        "from sklearn.metrics import roc_auc_score\n",
        "from sklearn.metrics import roc_curve\n",
        "from sklearn.metrics import precision_recall_curve\n",
        "from sklearn.model_selection import GridSearchCV\n",
        "from keras.models import Sequential\n",
        "from keras.layers import Dense\n",
        "from keras.layers import LSTM\n",
        "from keras.layers import Conv1D\n",
        "from keras.layers import Dropout\n",
        "from keras.layers import Bidirectional\n",
        "from keras.layers import GlobalMaxPool1D\n",
        "#from keras.utils import plot_model\n",
        "from keras.layers.embeddings import Embedding\n",
        "from keras.preprocessing import sequence\n",
        "from keras.callbacks import EarlyStopping\n",
        "from sklearn.feature_selection import RFE\n",
        "import re"
      ],
      "execution_count": null,
      "outputs": []
    },
    {
      "cell_type": "code",
      "metadata": {
        "id": "eGZj4YVWDOdR"
      },
      "source": [
        "import numpy as np # linear algebra\n",
        "import pandas as pd # data processing, CSV file I/O (e.g. pd.read_csv)\n",
        "import os\n",
        "import pandas as pd\n",
        "import numpy as np\n",
        "from matplotlib import pyplot as plt\n",
        "import seaborn as sns\n",
        "from sklearn.feature_extraction.text import CountVectorizer\n",
        "from sklearn.model_selection import train_test_split\n",
        "from sklearn.metrics import accuracy_score, confusion_matrix, classification_report"
      ],
      "execution_count": null,
      "outputs": []
    },
    {
      "cell_type": "code",
      "metadata": {
        "colab": {
          "base_uri": "https://localhost:8080/"
        },
        "id": "RR4moT6nEiTC",
        "outputId": "ba0d1086-1e4c-4255-9b6e-40c1845f44c4"
      },
      "source": [
        "from google.colab import drive\n",
        "drive.mount('/content/gdrive')\n"
      ],
      "execution_count": null,
      "outputs": [
        {
          "output_type": "stream",
          "text": [
            "Mounted at /content/gdrive\n"
          ],
          "name": "stdout"
        }
      ]
    },
    {
      "cell_type": "code",
      "metadata": {
        "id": "O5nI9-4fFK3t"
      },
      "source": [
        "df = pd.read_csv('/content/gdrive/My Drive/cleaned_dataset.csv')"
      ],
      "execution_count": null,
      "outputs": []
    },
    {
      "cell_type": "code",
      "metadata": {
        "colab": {
          "base_uri": "https://localhost:8080/",
          "height": 470
        },
        "id": "drDwuR_PGrjO",
        "outputId": "b9762b6d-2140-4114-eaae-de99bdc78675"
      },
      "source": [
        "df"
      ],
      "execution_count": null,
      "outputs": [
        {
          "output_type": "execute_result",
          "data": {
            "text/html": [
              "<div>\n",
              "<style scoped>\n",
              "    .dataframe tbody tr th:only-of-type {\n",
              "        vertical-align: middle;\n",
              "    }\n",
              "\n",
              "    .dataframe tbody tr th {\n",
              "        vertical-align: top;\n",
              "    }\n",
              "\n",
              "    .dataframe thead th {\n",
              "        text-align: right;\n",
              "    }\n",
              "</style>\n",
              "<table border=\"1\" class=\"dataframe\">\n",
              "  <thead>\n",
              "    <tr style=\"text-align: right;\">\n",
              "      <th></th>\n",
              "      <th>Title</th>\n",
              "      <th>Author</th>\n",
              "      <th>Text</th>\n",
              "      <th>Category</th>\n",
              "      <th>Clean_Text</th>\n",
              "    </tr>\n",
              "  </thead>\n",
              "  <tbody>\n",
              "    <tr>\n",
              "      <th>0</th>\n",
              "      <td>❤তোর মতো কেউ নেই ❤...পর্ব ৭</td>\n",
              "      <td>রিমা ব্যানার্জি 🍁✒</td>\n",
              "      <td>❤  পর্ব    ৭❤  বাড়িতে  পুজো  আছে  anniversary ...</td>\n",
              "      <td>2</td>\n",
              "      <td>পর্ব বাড়িতে পুজো টিয়া বলেছিল মাথায় রেখেই রুদ্র...</td>\n",
              "    </tr>\n",
              "    <tr>\n",
              "      <th>1</th>\n",
              "      <td>বড় হওয়ার গপ্পো</td>\n",
              "      <td>গৌরব বিশ্বাস</td>\n",
              "      <td>এ  গল্প  আমার  বড়  হওয়ার  গল্প।  পাঠকগ্ণ  নিশ্...</td>\n",
              "      <td>1</td>\n",
              "      <td>গল্প বড় হওয়ার গল্প । পাঠকগ্ণ নিশ্চই টানটান হয়ে...</td>\n",
              "    </tr>\n",
              "    <tr>\n",
              "      <th>2</th>\n",
              "      <td>রমেশের ডেলিভারি</td>\n",
              "      <td>সুজিত ঘোষ</td>\n",
              "      <td>টিং-টং  করে  দরজার  বেল  বাজালাম!ওপার  থেকে  আ...</td>\n",
              "      <td>0</td>\n",
              "      <td>টিংটং দরজার বেল বাজালামওপার আওয়াজ বললাম রমেশকি...</td>\n",
              "    </tr>\n",
              "    <tr>\n",
              "      <th>3</th>\n",
              "      <td>Your_Love_Is_My_Addiction💖 part--- 12</td>\n",
              "      <td>মানাই ঘোষ \"তিথি\"</td>\n",
              "      <td>Your  _Love_Is_My_Addiction💖  part---  12  .  ...</td>\n",
              "      <td>1</td>\n",
              "      <td>মিহুর বাবামার বিদায় গেলো মেঘ । মেঘের ঠোঁটের কো...</td>\n",
              "    </tr>\n",
              "    <tr>\n",
              "      <th>4</th>\n",
              "      <td>♥️রোমান্টিক বসের ভালোবাসা ♥️</td>\n",
              "      <td>💞রিধি সেন💞</td>\n",
              "      <td>গল্প  :  রোমান্টিক  😍বসের  ভালোবাসা  পর্ব  :  ...</td>\n",
              "      <td>1</td>\n",
              "      <td>গল্প রোমান্টিক বসের ভালোবাসা পর্ব তানিয়া উফএই ...</td>\n",
              "    </tr>\n",
              "    <tr>\n",
              "      <th>...</th>\n",
              "      <td>...</td>\n",
              "      <td>...</td>\n",
              "      <td>...</td>\n",
              "      <td>...</td>\n",
              "      <td>...</td>\n",
              "    </tr>\n",
              "    <tr>\n",
              "      <th>5806</th>\n",
              "      <td>ডায়েরির শেষ পাতাটা পর্ব-৩২</td>\n",
              "      <td>Sadia Afrin \"Sarah\"</td>\n",
              "      <td>\"\"\"    দুটা  ক্লাস  করিয়েই  ছুটি  দিয়ে  দেওয...</td>\n",
              "      <td>2</td>\n",
              "      <td>দুটা ক্লাস করিয়েই ছুটি । স্টুডেন্ট কোটা একটা ...</td>\n",
              "    </tr>\n",
              "    <tr>\n",
              "      <th>5807</th>\n",
              "      <td>The White Eyes- End of A journey.</td>\n",
              "      <td>Akash Chatterjee</td>\n",
              "      <td>The  White  Eyes  -  End  of  A  journey  (এই ...</td>\n",
              "      <td>0</td>\n",
              "      <td>গল্প পড়ার আগের অংশ আপনাদের পড়তে নাহলে বুঝতে ...</td>\n",
              "    </tr>\n",
              "    <tr>\n",
              "      <th>5808</th>\n",
              "      <td>ফেরা</td>\n",
              "      <td>মধুমিতা মুখার্জী</td>\n",
              "      <td>বহুদিন  হল  বর্দ্ধমানের  দেশের  বাড়ির  কালি  প...</td>\n",
              "      <td>0</td>\n",
              "      <td>বহুদিন বর্দ্ধমানের দেশের বাড়ির কালি পুজোয় যায়ন...</td>\n",
              "    </tr>\n",
              "    <tr>\n",
              "      <th>5809</th>\n",
              "      <td>খোপ থেকে বেরলো পোপ</td>\n",
              "      <td>Sudip Chakraborty</td>\n",
              "      <td>আপনাদের  কি  কারো  স্মরণে  আছে  কোলকাতায়  আশির...</td>\n",
              "      <td>1</td>\n",
              "      <td>আপনাদের কারো স্মরণে কোলকাতায় আশির দশকে এক সময়ে...</td>\n",
              "    </tr>\n",
              "    <tr>\n",
              "      <th>5810</th>\n",
              "      <td>💮তুমি এলে তাই💮Part-20</td>\n",
              "      <td>Mou \"মৌ\"</td>\n",
              "      <td>#  তুমি_এলে_তাই  #  বাংলা  Medium    #  পর্ব_২...</td>\n",
              "      <td>2</td>\n",
              "      <td>তুমিএলেতাই বাংলা পর্ব একমনে ভাবছে অয়ন । ভাবনা ...</td>\n",
              "    </tr>\n",
              "  </tbody>\n",
              "</table>\n",
              "<p>5811 rows × 5 columns</p>\n",
              "</div>"
            ],
            "text/plain": [
              "                                      Title  ...                                         Clean_Text\n",
              "0               ❤তোর মতো কেউ নেই ❤...পর্ব ৭  ...  পর্ব বাড়িতে পুজো টিয়া বলেছিল মাথায় রেখেই রুদ্র...\n",
              "1                            বড় হওয়ার গপ্পো  ...  গল্প বড় হওয়ার গল্প । পাঠকগ্ণ নিশ্চই টানটান হয়ে...\n",
              "2                           রমেশের ডেলিভারি  ...  টিংটং দরজার বেল বাজালামওপার আওয়াজ বললাম রমেশকি...\n",
              "3     Your_Love_Is_My_Addiction💖 part--- 12  ...  মিহুর বাবামার বিদায় গেলো মেঘ । মেঘের ঠোঁটের কো...\n",
              "4              ♥️রোমান্টিক বসের ভালোবাসা ♥️  ...  গল্প রোমান্টিক বসের ভালোবাসা পর্ব তানিয়া উফএই ...\n",
              "...                                     ...  ...                                                ...\n",
              "5806            ডায়েরির শেষ পাতাটা পর্ব-৩২  ...  দুটা ক্লাস করিয়েই ছুটি । স্টুডেন্ট কোটা একটা ...\n",
              "5807      The White Eyes- End of A journey.  ...  গল্প পড়ার আগের অংশ আপনাদের পড়তে নাহলে বুঝতে ...\n",
              "5808                                   ফেরা  ...  বহুদিন বর্দ্ধমানের দেশের বাড়ির কালি পুজোয় যায়ন...\n",
              "5809                     খোপ থেকে বেরলো পোপ  ...  আপনাদের কারো স্মরণে কোলকাতায় আশির দশকে এক সময়ে...\n",
              "5810                  💮তুমি এলে তাই💮Part-20  ...  তুমিএলেতাই বাংলা পর্ব একমনে ভাবছে অয়ন । ভাবনা ...\n",
              "\n",
              "[5811 rows x 5 columns]"
            ]
          },
          "metadata": {
            "tags": []
          },
          "execution_count": 5
        }
      ]
    },
    {
      "cell_type": "code",
      "metadata": {
        "id": "-NnZiLH_G67Y"
      },
      "source": [
        "df = df.sample(frac=1).reset_index(drop=True)"
      ],
      "execution_count": null,
      "outputs": []
    },
    {
      "cell_type": "code",
      "metadata": {
        "colab": {
          "base_uri": "https://localhost:8080/",
          "height": 419
        },
        "id": "tvjxR5RTG-ew",
        "outputId": "71be33c3-de0d-4405-a771-8cc1cc325506"
      },
      "source": [
        "df"
      ],
      "execution_count": null,
      "outputs": [
        {
          "output_type": "execute_result",
          "data": {
            "text/html": [
              "<div>\n",
              "<style scoped>\n",
              "    .dataframe tbody tr th:only-of-type {\n",
              "        vertical-align: middle;\n",
              "    }\n",
              "\n",
              "    .dataframe tbody tr th {\n",
              "        vertical-align: top;\n",
              "    }\n",
              "\n",
              "    .dataframe thead th {\n",
              "        text-align: right;\n",
              "    }\n",
              "</style>\n",
              "<table border=\"1\" class=\"dataframe\">\n",
              "  <thead>\n",
              "    <tr style=\"text-align: right;\">\n",
              "      <th></th>\n",
              "      <th>Title</th>\n",
              "      <th>Author</th>\n",
              "      <th>Text</th>\n",
              "      <th>Category</th>\n",
              "      <th>Clean_Text</th>\n",
              "    </tr>\n",
              "  </thead>\n",
              "  <tbody>\n",
              "    <tr>\n",
              "      <th>0</th>\n",
              "      <td>পার্ট:-21 (একুশ পর্ব)</td>\n",
              "      <td>Aaishiki Ghosh</td>\n",
              "      <td>মোহনা  আহেলীকে  ইশারা  করলে  ও  আর  সাগ্নিক  ব...</td>\n",
              "      <td>2</td>\n",
              "      <td>মোহনা আহেলীকে ইশারা সাগ্নিক বেড়িয়ে । আহেলী ড্র...</td>\n",
              "    </tr>\n",
              "    <tr>\n",
              "      <th>1</th>\n",
              "      <td>মনের গহীনে রবে ( পর্ব - আঠারো )</td>\n",
              "      <td>Jonaki. Mimi</td>\n",
              "      <td>মনের  গহীনে  রবে    ~  পর্ব  -  আঠারো  ~    : ...</td>\n",
              "      <td>2</td>\n",
              "      <td>মনের গহীনে রবে পর্ব আঠারো রেনা গাড়ির দাড়িয়ে...</td>\n",
              "    </tr>\n",
              "    <tr>\n",
              "      <th>2</th>\n",
              "      <td>প্রেমের ফাঁদে আমরা কজন</td>\n",
              "      <td>গার্গী মিশ্র</td>\n",
              "      <td>#প্রেমের  ফাঁদে  আমরা  কজন    #গার্গী  মিশ্র  ...</td>\n",
              "      <td>1</td>\n",
              "      <td>প্রেমের ফাঁদে কজন গার্গী মিশ্র রূপা একজন মেডিক...</td>\n",
              "    </tr>\n",
              "    <tr>\n",
              "      <th>3</th>\n",
              "      <td>Feel My Heart - 81</td>\n",
              "      <td>SOMA GHOSH</td>\n",
              "      <td>Feel  My  Heart  -  81  দেখতে  দেখতে  ঐশীর  বি...</td>\n",
              "      <td>2</td>\n",
              "      <td>ঐশীর বিয়েও ছমাস কেটে । তিন জুটি মরিশাস হানিমু...</td>\n",
              "    </tr>\n",
              "    <tr>\n",
              "      <th>4</th>\n",
              "      <td>রাঙাবো তোমায় পর্ব ৪২</td>\n",
              "      <td>🍁কলির \"চুপকথা\"🍂🖋️</td>\n",
              "      <td>অঞ্জলি  আদিকে  শক্ত  করে  জড়িয়ে  ধরে  ওর  বু...</td>\n",
              "      <td>2</td>\n",
              "      <td>অঞ্জলি আদিকে শক্ত জড়িয়ে বুকে মাথাটা পুল সাইড...</td>\n",
              "    </tr>\n",
              "    <tr>\n",
              "      <th>...</th>\n",
              "      <td>...</td>\n",
              "      <td>...</td>\n",
              "      <td>...</td>\n",
              "      <td>...</td>\n",
              "      <td>...</td>\n",
              "    </tr>\n",
              "    <tr>\n",
              "      <th>5806</th>\n",
              "      <td>আমার আপনজন-১৭</td>\n",
              "      <td>স্বর্নশ্রী সৌম্য \"সমাদৃতা\"</td>\n",
              "      <td>আমার  আপনজন  #পর্ব_১৭  কলমে::  রাইশ্রী  সময়টা ...</td>\n",
              "      <td>1</td>\n",
              "      <td>আপনজন পর্ব কলমে রাইশ্রী সময়টা মার্চের । গরম যে...</td>\n",
              "    </tr>\n",
              "    <tr>\n",
              "      <th>5807</th>\n",
              "      <td>মাংসাশী (পর্ব ১১)</td>\n",
              "      <td>দেবদত্ত চট্টরাজ</td>\n",
              "      <td>১১।    পর্ব  -    মন    ও    বুদ্ধির  সংঘাত  ।...</td>\n",
              "      <td>0</td>\n",
              "      <td>। পর্ব মন বুদ্ধির সংঘাত । সত্যি যখনই যু ঝা দিম...</td>\n",
              "    </tr>\n",
              "    <tr>\n",
              "      <th>5808</th>\n",
              "      <td>প্রতিশোধ</td>\n",
              "      <td>শুভ্রনীল চক্রবর্তী</td>\n",
              "      <td>অনুশ্রী  ঘরে  বসে  বসে  বই  পড়ছিল।  হঠাত  বাইর...</td>\n",
              "      <td>0</td>\n",
              "      <td>অনুশ্রী ঘরে বই পড়ছিল । হঠাত বাইরের দরজায় টোকা ...</td>\n",
              "    </tr>\n",
              "    <tr>\n",
              "      <th>5809</th>\n",
              "      <td>“ প্রাণের আলাপ ” : পর্ব - ২৫ ( তিলোত্তমা )</td>\n",
              "      <td>তিলোত্তমা 🍂💞 মিমি 💞🍂</td>\n",
              "      <td>অফুরন্ত  যানবাহনের  রেস  আর  জনমানবে  পরিপূর্ণ...</td>\n",
              "      <td>2</td>\n",
              "      <td>অফুরন্ত যানবাহনের রেস জনমানবে পরিপূর্ণ রাস্তাট...</td>\n",
              "    </tr>\n",
              "    <tr>\n",
              "      <th>5810</th>\n",
              "      <td>মনের মানুষ - পর্ব 53</td>\n",
              "      <td>তুলিকা সাঁতরা \"মেঘবালিকা\"</td>\n",
              "      <td>#মনের    মানুষ  #পর্ব-    53  তিমির  বাবু  ::শ...</td>\n",
              "      <td>2</td>\n",
              "      <td>মনের মানুষ পর্ব তিমির বাবু শান্তি সাথে কথা বলা...</td>\n",
              "    </tr>\n",
              "  </tbody>\n",
              "</table>\n",
              "<p>5811 rows × 5 columns</p>\n",
              "</div>"
            ],
            "text/plain": [
              "                                           Title  ...                                         Clean_Text\n",
              "0                          পার্ট:-21 (একুশ পর্ব)  ...  মোহনা আহেলীকে ইশারা সাগ্নিক বেড়িয়ে । আহেলী ড্র...\n",
              "1                মনের গহীনে রবে ( পর্ব - আঠারো )  ...  মনের গহীনে রবে পর্ব আঠারো রেনা গাড়ির দাড়িয়ে...\n",
              "2                         প্রেমের ফাঁদে আমরা কজন  ...  প্রেমের ফাঁদে কজন গার্গী মিশ্র রূপা একজন মেডিক...\n",
              "3                             Feel My Heart - 81  ...  ঐশীর বিয়েও ছমাস কেটে । তিন জুটি মরিশাস হানিমু...\n",
              "4                          রাঙাবো তোমায় পর্ব ৪২  ...  অঞ্জলি আদিকে শক্ত জড়িয়ে বুকে মাথাটা পুল সাইড...\n",
              "...                                          ...  ...                                                ...\n",
              "5806                               আমার আপনজন-১৭  ...  আপনজন পর্ব কলমে রাইশ্রী সময়টা মার্চের । গরম যে...\n",
              "5807                           মাংসাশী (পর্ব ১১)  ...  । পর্ব মন বুদ্ধির সংঘাত । সত্যি যখনই যু ঝা দিম...\n",
              "5808                                    প্রতিশোধ  ...  অনুশ্রী ঘরে বই পড়ছিল । হঠাত বাইরের দরজায় টোকা ...\n",
              "5809  “ প্রাণের আলাপ ” : পর্ব - ২৫ ( তিলোত্তমা )  ...  অফুরন্ত যানবাহনের রেস জনমানবে পরিপূর্ণ রাস্তাট...\n",
              "5810                        মনের মানুষ - পর্ব 53  ...  মনের মানুষ পর্ব তিমির বাবু শান্তি সাথে কথা বলা...\n",
              "\n",
              "[5811 rows x 5 columns]"
            ]
          },
          "metadata": {
            "tags": []
          },
          "execution_count": 7
        }
      ]
    },
    {
      "cell_type": "code",
      "metadata": {
        "colab": {
          "base_uri": "https://localhost:8080/"
        },
        "id": "5DNAZ7sTG_6W",
        "outputId": "7eac4663-ba70-4442-f66a-85b3bd19fc3c"
      },
      "source": [
        "set(df.Category)\n"
      ],
      "execution_count": null,
      "outputs": [
        {
          "output_type": "execute_result",
          "data": {
            "text/plain": [
              "{0, 1, 2}"
            ]
          },
          "metadata": {
            "tags": []
          },
          "execution_count": 8
        }
      ]
    },
    {
      "cell_type": "code",
      "metadata": {
        "colab": {
          "base_uri": "https://localhost:8080/"
        },
        "id": "mxLSho98HCiP",
        "outputId": "3eda4f77-7365-41ed-c10e-3789ad024a78"
      },
      "source": [
        "# Drop rows with missing values\n",
        "model_f = df.dropna()\n",
        "print(model_f.shape[0])"
      ],
      "execution_count": null,
      "outputs": [
        {
          "output_type": "stream",
          "text": [
            "5811\n"
          ],
          "name": "stdout"
        }
      ]
    },
    {
      "cell_type": "code",
      "metadata": {
        "colab": {
          "base_uri": "https://localhost:8080/",
          "height": 401
        },
        "id": "KsvXw8syHERv",
        "outputId": "5ac4e027-fad1-407d-cf12-f5a4454b2d71"
      },
      "source": [
        "# Look at classification type counts\n",
        "counts = model_f.Category.value_counts()\n",
        "print(counts)\n",
        "#plot counts\n",
        "plt.figure()\n",
        "sns.distplot(counts, hist = False, color = 'purple')\n",
        "plt.ylabel('% of records')\n",
        "plt.show()"
      ],
      "execution_count": null,
      "outputs": [
        {
          "output_type": "stream",
          "text": [
            "2    2000\n",
            "1    2000\n",
            "0    1811\n",
            "Name: Category, dtype: int64\n"
          ],
          "name": "stdout"
        },
        {
          "output_type": "stream",
          "text": [
            "/usr/local/lib/python3.7/dist-packages/seaborn/distributions.py:2557: FutureWarning: `distplot` is a deprecated function and will be removed in a future version. Please adapt your code to use either `displot` (a figure-level function with similar flexibility) or `kdeplot` (an axes-level function for kernel density plots).\n",
            "  warnings.warn(msg, FutureWarning)\n"
          ],
          "name": "stderr"
        },
        {
          "output_type": "display_data",
          "data": {
            "image/png": "[encoded data removed]",
            "text/plain": [
              "<Figure size 432x288 with 1 Axes>"
            ]
          },
          "metadata": {
            "tags": [],
            "needs_background": "light"
          }
        }
      ]
    },
    {
      "cell_type": "code",
      "metadata": {
        "colab": {
          "base_uri": "https://localhost:8080/"
        },
        "id": "9TxJhqJiHHW_",
        "outputId": "ca47894b-2cff-468d-81b7-ff2567be0730"
      },
      "source": [
        "max_length=model_f[\"Clean_Text\"].str.len().max()\n",
        "print(max_length)"
      ],
      "execution_count": null,
      "outputs": [
        {
          "output_type": "stream",
          "text": [
            "29119\n"
          ],
          "name": "stdout"
        }
      ]
    },
    {
      "cell_type": "code",
      "metadata": {
        "colab": {
          "base_uri": "https://localhost:8080/",
          "height": 204
        },
        "id": "FWG9qtlhHJ7H",
        "outputId": "b2ed3cb0-4ab0-44f9-cc3d-b0a8f47e0fe3"
      },
      "source": [
        "model_f.head()"
      ],
      "execution_count": null,
      "outputs": [
        {
          "output_type": "execute_result",
          "data": {
            "text/html": [
              "<div>\n",
              "<style scoped>\n",
              "    .dataframe tbody tr th:only-of-type {\n",
              "        vertical-align: middle;\n",
              "    }\n",
              "\n",
              "    .dataframe tbody tr th {\n",
              "        vertical-align: top;\n",
              "    }\n",
              "\n",
              "    .dataframe thead th {\n",
              "        text-align: right;\n",
              "    }\n",
              "</style>\n",
              "<table border=\"1\" class=\"dataframe\">\n",
              "  <thead>\n",
              "    <tr style=\"text-align: right;\">\n",
              "      <th></th>\n",
              "      <th>Title</th>\n",
              "      <th>Author</th>\n",
              "      <th>Text</th>\n",
              "      <th>Category</th>\n",
              "      <th>Clean_Text</th>\n",
              "    </tr>\n",
              "  </thead>\n",
              "  <tbody>\n",
              "    <tr>\n",
              "      <th>0</th>\n",
              "      <td>পার্ট:-21 (একুশ পর্ব)</td>\n",
              "      <td>Aaishiki Ghosh</td>\n",
              "      <td>মোহনা  আহেলীকে  ইশারা  করলে  ও  আর  সাগ্নিক  ব...</td>\n",
              "      <td>2</td>\n",
              "      <td>মোহনা আহেলীকে ইশারা সাগ্নিক বেড়িয়ে । আহেলী ড্র...</td>\n",
              "    </tr>\n",
              "    <tr>\n",
              "      <th>1</th>\n",
              "      <td>মনের গহীনে রবে ( পর্ব - আঠারো )</td>\n",
              "      <td>Jonaki. Mimi</td>\n",
              "      <td>মনের  গহীনে  রবে    ~  পর্ব  -  আঠারো  ~    : ...</td>\n",
              "      <td>2</td>\n",
              "      <td>মনের গহীনে রবে পর্ব আঠারো রেনা গাড়ির দাড়িয়ে...</td>\n",
              "    </tr>\n",
              "    <tr>\n",
              "      <th>2</th>\n",
              "      <td>প্রেমের ফাঁদে আমরা কজন</td>\n",
              "      <td>গার্গী মিশ্র</td>\n",
              "      <td>#প্রেমের  ফাঁদে  আমরা  কজন    #গার্গী  মিশ্র  ...</td>\n",
              "      <td>1</td>\n",
              "      <td>প্রেমের ফাঁদে কজন গার্গী মিশ্র রূপা একজন মেডিক...</td>\n",
              "    </tr>\n",
              "    <tr>\n",
              "      <th>3</th>\n",
              "      <td>Feel My Heart - 81</td>\n",
              "      <td>SOMA GHOSH</td>\n",
              "      <td>Feel  My  Heart  -  81  দেখতে  দেখতে  ঐশীর  বি...</td>\n",
              "      <td>2</td>\n",
              "      <td>ঐশীর বিয়েও ছমাস কেটে । তিন জুটি মরিশাস হানিমু...</td>\n",
              "    </tr>\n",
              "    <tr>\n",
              "      <th>4</th>\n",
              "      <td>রাঙাবো তোমায় পর্ব ৪২</td>\n",
              "      <td>🍁কলির \"চুপকথা\"🍂🖋️</td>\n",
              "      <td>অঞ্জলি  আদিকে  শক্ত  করে  জড়িয়ে  ধরে  ওর  বু...</td>\n",
              "      <td>2</td>\n",
              "      <td>অঞ্জলি আদিকে শক্ত জড়িয়ে বুকে মাথাটা পুল সাইড...</td>\n",
              "    </tr>\n",
              "  </tbody>\n",
              "</table>\n",
              "</div>"
            ],
            "text/plain": [
              "                             Title  ...                                         Clean_Text\n",
              "0            পার্ট:-21 (একুশ পর্ব)  ...  মোহনা আহেলীকে ইশারা সাগ্নিক বেড়িয়ে । আহেলী ড্র...\n",
              "1  মনের গহীনে রবে ( পর্ব - আঠারো )  ...  মনের গহীনে রবে পর্ব আঠারো রেনা গাড়ির দাড়িয়ে...\n",
              "2           প্রেমের ফাঁদে আমরা কজন  ...  প্রেমের ফাঁদে কজন গার্গী মিশ্র রূপা একজন মেডিক...\n",
              "3               Feel My Heart - 81  ...  ঐশীর বিয়েও ছমাস কেটে । তিন জুটি মরিশাস হানিমু...\n",
              "4            রাঙাবো তোমায় পর্ব ৪২  ...  অঞ্জলি আদিকে শক্ত জড়িয়ে বুকে মাথাটা পুল সাইড...\n",
              "\n",
              "[5 rows x 5 columns]"
            ]
          },
          "metadata": {
            "tags": []
          },
          "execution_count": 12
        }
      ]
    },
    {
      "cell_type": "code",
      "metadata": {
        "colab": {
          "base_uri": "https://localhost:8080/"
        },
        "id": "RgOcEhspHLvQ",
        "outputId": "41efcd3c-efd7-48ab-96e3-fd4c096d78e3"
      },
      "source": [
        "train=model_f\n",
        "a=train.Category.unique()\n",
        "l=len(a)\n",
        "print(a)"
      ],
      "execution_count": null,
      "outputs": [
        {
          "output_type": "stream",
          "text": [
            "[2 1 0]\n"
          ],
          "name": "stdout"
        }
      ]
    },
    {
      "cell_type": "code",
      "metadata": {
        "colab": {
          "base_uri": "https://localhost:8080/"
        },
        "id": "jJJ1ahnDHObY",
        "outputId": "afbd06d2-d954-4773-8748-6779a5f1f3e1"
      },
      "source": [
        "train.Category.head()"
      ],
      "execution_count": null,
      "outputs": [
        {
          "output_type": "execute_result",
          "data": {
            "text/plain": [
              "0    2\n",
              "1    2\n",
              "2    1\n",
              "3    2\n",
              "4    2\n",
              "Name: Category, dtype: int64"
            ]
          },
          "metadata": {
            "tags": []
          },
          "execution_count": 14
        }
      ]
    },
    {
      "cell_type": "code",
      "metadata": {
        "id": "EX0uPcqPHQbh"
      },
      "source": [
        "df = train\n",
        "df.Category = df.Category.astype(int)"
      ],
      "execution_count": null,
      "outputs": []
    },
    {
      "cell_type": "code",
      "metadata": {
        "colab": {
          "base_uri": "https://localhost:8080/"
        },
        "id": "-pNv0h3zHS2K",
        "outputId": "ff9bd12c-faae-4e32-c876-f1311d133669"
      },
      "source": [
        "# The maximum number of words to be used. (most frequent)\n",
        "MAX_NB_WORDS = 50000\n",
        "# Max number of words in each complaint.\n",
        "MAX_SEQUENCE_LENGTH = 250\n",
        "# This is fixed.\n",
        "EMBEDDING_DIM = 100\n",
        "tokenizer = Tokenizer(num_words=MAX_NB_WORDS, filters='!\"#$%&()*+,-./:;<=>?@[\\]^_`{|}~।', lower=False)\n",
        "tokenizer.fit_on_texts(df.Clean_Text.values)\n",
        "word_index = tokenizer.word_index\n",
        "print('Found %s unique tokens.' % len(word_index))"
      ],
      "execution_count": null,
      "outputs": [
        {
          "output_type": "stream",
          "text": [
            "Found 277039 unique tokens.\n"
          ],
          "name": "stdout"
        }
      ]
    },
    {
      "cell_type": "code",
      "metadata": {
        "colab": {
          "base_uri": "https://localhost:8080/"
        },
        "id": "EBqDZFjHHVCy",
        "outputId": "55f05aaa-f34b-46bf-fbad-a01e14848f3a"
      },
      "source": [
        "X = tokenizer.texts_to_sequences(df.Clean_Text .values)\n",
        "X = pad_sequences(X, maxlen=MAX_SEQUENCE_LENGTH)\n",
        "print('Shape of data tensor:', X.shape)"
      ],
      "execution_count": null,
      "outputs": [
        {
          "output_type": "stream",
          "text": [
            "Shape of data tensor: (5811, 250)\n"
          ],
          "name": "stdout"
        }
      ]
    },
    {
      "cell_type": "code",
      "metadata": {
        "colab": {
          "base_uri": "https://localhost:8080/"
        },
        "id": "dT-TEi8hHakL",
        "outputId": "aac1740f-47f1-4d4c-f2d0-b4b20ef07d47"
      },
      "source": [
        "Y = pd.get_dummies(df.Category).values\n",
        "print('Shape of label tensor:', Y.shape)"
      ],
      "execution_count": null,
      "outputs": [
        {
          "output_type": "stream",
          "text": [
            "Shape of label tensor: (5811, 3)\n"
          ],
          "name": "stdout"
        }
      ]
    },
    {
      "cell_type": "code",
      "metadata": {
        "id": "hLChLlxAHdUj"
      },
      "source": [
        "train_features, test_features, train_labels, test_labels = train_test_split(X, Y, test_size=.10)"
      ],
      "execution_count": null,
      "outputs": []
    },
    {
      "cell_type": "code",
      "metadata": {
        "colab": {
          "base_uri": "https://localhost:8080/"
        },
        "id": "B6VUGjjWHfhL",
        "outputId": "19425eaa-bf18-4d04-afe2-b7d854c8bc1e"
      },
      "source": [
        "model = Sequential()\n",
        "model.add(Embedding(MAX_NB_WORDS, EMBEDDING_DIM, input_length=X.shape[1]))\n",
        "model.add(Conv1D(128,3, activation='relu'))\n",
        "model.add(GlobalMaxPool1D())\n",
        "model.add(Dense(256, activation='relu'))\n",
        "model.add(Dropout(0.5))\n",
        "model.add(Dense(l, activation='softmax'))\n",
        "model.compile(loss='categorical_crossentropy', optimizer='adam', metrics=['accuracy'])\n",
        "print(model.summary())\n",
        "\n",
        "#plot_model(model,'qw.png',show_shapes=True)"
      ],
      "execution_count": null,
      "outputs": [
        {
          "output_type": "stream",
          "text": [
            "Model: \"sequential\"\n",
            "_________________________________________________________________\n",
            "Layer (type)                 Output Shape              Param #   \n",
            "=================================================================\n",
            "embedding (Embedding)        (None, 250, 100)          5000000   \n",
            "_________________________________________________________________\n",
            "conv1d (Conv1D)              (None, 248, 128)          38528     \n",
            "_________________________________________________________________\n",
            "global_max_pooling1d (Global (None, 128)               0         \n",
            "_________________________________________________________________\n",
            "dense (Dense)                (None, 256)               33024     \n",
            "_________________________________________________________________\n",
            "dropout (Dropout)            (None, 256)               0         \n",
            "_________________________________________________________________\n",
            "dense_1 (Dense)              (None, 3)                 771       \n",
            "=================================================================\n",
            "Total params: 5,072,323\n",
            "Trainable params: 5,072,323\n",
            "Non-trainable params: 0\n",
            "_________________________________________________________________\n",
            "None\n"
          ],
          "name": "stdout"
        }
      ]
    },
    {
      "cell_type": "code",
      "metadata": {
        "id": "5pD7hlWjHh_D"
      },
      "source": [
        "epochs = 10\n",
        "batch_size = 128"
      ],
      "execution_count": null,
      "outputs": []
    },
    {
      "cell_type": "code",
      "metadata": {
        "colab": {
          "base_uri": "https://localhost:8080/"
        },
        "id": "ZcNJgmNTHklj",
        "outputId": "864f95ef-0914-4576-efc9-e62602c299b8"
      },
      "source": [
        "history = model.fit(train_features, train_labels, epochs=epochs, batch_size=batch_size,validation_split=0.1,callbacks=[EarlyStopping(monitor='val_loss', patience=3, min_delta=0.0001)])"
      ],
      "execution_count": null,
      "outputs": [
        {
          "output_type": "stream",
          "text": [
            "Epoch 1/10\n",
            "37/37 [==============================] - 26s 280ms/step - loss: 1.0958 - accuracy: 0.3618 - val_loss: 1.0626 - val_accuracy: 0.6482\n",
            "Epoch 2/10\n",
            "37/37 [==============================] - 10s 265ms/step - loss: 0.9846 - accuracy: 0.6459 - val_loss: 0.7742 - val_accuracy: 0.7094\n",
            "Epoch 3/10\n",
            "37/37 [==============================] - 10s 267ms/step - loss: 0.5372 - accuracy: 0.8412 - val_loss: 0.5206 - val_accuracy: 0.7954\n",
            "Epoch 4/10\n",
            "37/37 [==============================] - 10s 267ms/step - loss: 0.1459 - accuracy: 0.9729 - val_loss: 0.4625 - val_accuracy: 0.8241\n",
            "Epoch 5/10\n",
            "37/37 [==============================] - 10s 265ms/step - loss: 0.0762 - accuracy: 0.9793 - val_loss: 0.4608 - val_accuracy: 0.8413\n",
            "Epoch 6/10\n",
            "37/37 [==============================] - 10s 267ms/step - loss: 0.0643 - accuracy: 0.9815 - val_loss: 0.4699 - val_accuracy: 0.8337\n",
            "Epoch 7/10\n",
            "37/37 [==============================] - 10s 266ms/step - loss: 0.0608 - accuracy: 0.9816 - val_loss: 0.4866 - val_accuracy: 0.8126\n",
            "Epoch 8/10\n",
            "37/37 [==============================] - 10s 265ms/step - loss: 0.0516 - accuracy: 0.9816 - val_loss: 0.4807 - val_accuracy: 0.8184\n"
          ],
          "name": "stdout"
        }
      ]
    },
    {
      "cell_type": "code",
      "metadata": {
        "colab": {
          "base_uri": "https://localhost:8080/"
        },
        "id": "cFg9SB4JHmek",
        "outputId": "529d9052-5375-48fc-bb61-d583f27ab878"
      },
      "source": [
        "accr = model.evaluate(test_features,test_labels)\n",
        "print('Test set\\n  Loss: {:0.3f}\\n  Accuracy: {:0.3f}'.format(accr[0],accr[1]))"
      ],
      "execution_count": null,
      "outputs": [
        {
          "output_type": "stream",
          "text": [
            "19/19 [==============================] - 0s 15ms/step - loss: 0.4979 - accuracy: 0.8282\n",
            "Test set\n",
            "  Loss: 0.498\n",
            "  Accuracy: 0.828\n"
          ],
          "name": "stdout"
        }
      ]
    },
    {
      "cell_type": "code",
      "metadata": {
        "id": "mtcNXownNYIQ"
      },
      "source": [
        "from google.colab import files"
      ],
      "execution_count": null,
      "outputs": []
    },
    {
      "cell_type": "code",
      "metadata": {
        "colab": {
          "base_uri": "https://localhost:8080/",
          "height": 281
        },
        "id": "oHYvtDv1IFOC",
        "outputId": "2f869d51-90ce-4032-b552-daf26f138542"
      },
      "source": [
        "from matplotlib import pyplot as plt\n",
        "plt.title('Loss')\n",
        "plt.plot(history.history['loss'],'r', label='train')\n",
        "plt.plot(history.history['val_loss'],'b', label='test')\n",
        "plt.legend()\n",
        "plt.savefig('plot_loss.png',dpi=300, bbox_inches='tight')\n",
        "plt.show()"
      ],
      "execution_count": null,
      "outputs": [
        {
          "output_type": "display_data",
          "data": {
            "image/png": "[encoded data removed]",
            "text/plain": [
              "<Figure size 432x288 with 1 Axes>"
            ]
          },
          "metadata": {
            "tags": [],
            "needs_background": "light"
          }
        }
      ]
    },
    {
      "cell_type": "code",
      "metadata": {
        "colab": {
          "base_uri": "https://localhost:8080/",
          "height": 17
        },
        "id": "U3vzXKrKIaib",
        "outputId": "c3ca0b2b-d3bb-4e97-8253-c459acc7e820"
      },
      "source": [
        "files.download(\"plot_loss.png\") "
      ],
      "execution_count": null,
      "outputs": [
        {
          "output_type": "display_data",
          "data": {
            "application/javascript": [
              "\n",
              "    async function download(id, filename, size) {\n",
              "      if (!google.colab.kernel.accessAllowed) {\n",
              "        return;\n",
              "      }\n",
              "      const div = document.createElement('div');\n",
              "      const label = document.createElement('label');\n",
              "      label.textContent = `Downloading \"${filename}\": `;\n",
              "      div.appendChild(label);\n",
              "      const progress = document.createElement('progress');\n",
              "      progress.max = size;\n",
              "      div.appendChild(progress);\n",
              "      document.body.appendChild(div);\n",
              "\n",
              "      const buffers = [];\n",
              "      let downloaded = 0;\n",
              "\n",
              "      const channel = await google.colab.kernel.comms.open(id);\n",
              "      // Send a message to notify the kernel that we're ready.\n",
              "      channel.send({})\n",
              "\n",
              "      for await (const message of channel.messages) {\n",
              "        // Send a message to notify the kernel that we're ready.\n",
              "        channel.send({})\n",
              "        if (message.buffers) {\n",
              "          for (const buffer of message.buffers) {\n",
              "            buffers.push(buffer);\n",
              "            downloaded += buffer.byteLength;\n",
              "            progress.value = downloaded;\n",
              "          }\n",
              "        }\n",
              "      }\n",
              "      const blob = new Blob(buffers, {type: 'application/binary'});\n",
              "      const a = document.createElement('a');\n",
              "      a.href = window.URL.createObjectURL(blob);\n",
              "      a.download = filename;\n",
              "      div.appendChild(a);\n",
              "      a.click();\n",
              "      div.remove();\n",
              "    }\n",
              "  "
            ],
            "text/plain": [
              "<IPython.core.display.Javascript object>"
            ]
          },
          "metadata": {
            "tags": []
          }
        },
        {
          "output_type": "display_data",
          "data": {
            "application/javascript": [
              "download(\"download_11373e71-4877-4d29-968f-054e724c03d8\", \"plot_loss.png\", 62686)"
            ],
            "text/plain": [
              "<IPython.core.display.Javascript object>"
            ]
          },
          "metadata": {
            "tags": []
          }
        }
      ]
    },
    {
      "cell_type": "code",
      "metadata": {
        "colab": {
          "base_uri": "https://localhost:8080/",
          "height": 281
        },
        "id": "c2PhO4Q7KMgv",
        "outputId": "e5434d55-e881-476c-b013-305f1a3560b0"
      },
      "source": [
        "plt.title('Accuracy')\n",
        "plt.plot(history.history['accuracy'],'r', label='train')\n",
        "plt.plot(history.history['val_accuracy'],'b', label='test')\n",
        "plt.legend()\n",
        "plt.savefig('plot_accuracy.png', dpi=300, bbox_inches='tight')\n",
        "plt.show()"
      ],
      "execution_count": null,
      "outputs": [
        {
          "output_type": "display_data",
          "data": {
            "image/png": "[encoded data removed]",
            "text/plain": [
              "<Figure size 432x288 with 1 Axes>"
            ]
          },
          "metadata": {
            "tags": [],
            "needs_background": "light"
          }
        }
      ]
    },
    {
      "cell_type": "code",
      "metadata": {
        "colab": {
          "base_uri": "https://localhost:8080/",
          "height": 17
        },
        "id": "5mhIsEYTM9-q",
        "outputId": "aaa8e9a3-e4bd-4e2c-ea0c-d94562a0606c"
      },
      "source": [
        "files.download(\"plot_accuracy.png\") "
      ],
      "execution_count": null,
      "outputs": [
        {
          "output_type": "display_data",
          "data": {
            "application/javascript": [
              "\n",
              "    async function download(id, filename, size) {\n",
              "      if (!google.colab.kernel.accessAllowed) {\n",
              "        return;\n",
              "      }\n",
              "      const div = document.createElement('div');\n",
              "      const label = document.createElement('label');\n",
              "      label.textContent = `Downloading \"${filename}\": `;\n",
              "      div.appendChild(label);\n",
              "      const progress = document.createElement('progress');\n",
              "      progress.max = size;\n",
              "      div.appendChild(progress);\n",
              "      document.body.appendChild(div);\n",
              "\n",
              "      const buffers = [];\n",
              "      let downloaded = 0;\n",
              "\n",
              "      const channel = await google.colab.kernel.comms.open(id);\n",
              "      // Send a message to notify the kernel that we're ready.\n",
              "      channel.send({})\n",
              "\n",
              "      for await (const message of channel.messages) {\n",
              "        // Send a message to notify the kernel that we're ready.\n",
              "        channel.send({})\n",
              "        if (message.buffers) {\n",
              "          for (const buffer of message.buffers) {\n",
              "            buffers.push(buffer);\n",
              "            downloaded += buffer.byteLength;\n",
              "            progress.value = downloaded;\n",
              "          }\n",
              "        }\n",
              "      }\n",
              "      const blob = new Blob(buffers, {type: 'application/binary'});\n",
              "      const a = document.createElement('a');\n",
              "      a.href = window.URL.createObjectURL(blob);\n",
              "      a.download = filename;\n",
              "      div.appendChild(a);\n",
              "      a.click();\n",
              "      div.remove();\n",
              "    }\n",
              "  "
            ],
            "text/plain": [
              "<IPython.core.display.Javascript object>"
            ]
          },
          "metadata": {
            "tags": []
          }
        },
        {
          "output_type": "display_data",
          "data": {
            "application/javascript": [
              "download(\"download_5f1a6556-957a-4054-a963-ff6fa66d4dd2\", \"plot_accuracy.png\", 65988)"
            ],
            "text/plain": [
              "<IPython.core.display.Javascript object>"
            ]
          },
          "metadata": {
            "tags": []
          }
        }
      ]
    },
    {
      "cell_type": "code",
      "metadata": {
        "id": "joL5hdil_BmH"
      },
      "source": [
        "predicted_classes = model.predict(test_features)\n",
        "predicted_classes = np.argmax(np.round(predicted_classes),axis=1)\n",
        "#test_Y = np.argmax(np.round(test_labels),axis=1)"
      ],
      "execution_count": null,
      "outputs": []
    },
    {
      "cell_type": "code",
      "metadata": {
        "colab": {
          "base_uri": "https://localhost:8080/"
        },
        "id": "2bQvszTa_J9U",
        "outputId": "9eaeb480-c1f7-4956-af2c-59d5857e4315"
      },
      "source": [
        "predicted_classes.shape, test_labels.shape\n",
        "print(test_labels.shape)"
      ],
      "execution_count": null,
      "outputs": [
        {
          "output_type": "stream",
          "text": [
            "(582, 3)\n"
          ],
          "name": "stdout"
        }
      ]
    },
    {
      "cell_type": "code",
      "metadata": {
        "colab": {
          "base_uri": "https://localhost:8080/"
        },
        "id": "ROF1-lqi_MKU",
        "outputId": "c6a142db-1401-4180-9166-e2c3040b17fa"
      },
      "source": [
        "test_Y=[]\n",
        "for i in range (582):\n",
        "    for j in range (3):\n",
        "        if(test_labels[i][j]==1):\n",
        "            test_Y.append(j)\n",
        "print(len(test_Y))"
      ],
      "execution_count": null,
      "outputs": [
        {
          "output_type": "stream",
          "text": [
            "582\n"
          ],
          "name": "stdout"
        }
      ]
    },
    {
      "cell_type": "code",
      "metadata": {
        "colab": {
          "base_uri": "https://localhost:8080/"
        },
        "id": "8zMOOK7N_Omt",
        "outputId": "82f41133-7dad-44a5-c387-becf9eb7fc24"
      },
      "source": [
        "from sklearn.metrics import classification_report\n",
        "target_names = [\"Class {}\".format(i) for i in range(3)]\n",
        "print(classification_report(test_Y, predicted_classes, target_names=target_names))"
      ],
      "execution_count": null,
      "outputs": [
        {
          "output_type": "stream",
          "text": [
            "              precision    recall  f1-score   support\n",
            "\n",
            "     Class 0       0.83      0.84      0.84       178\n",
            "     Class 1       0.81      0.82      0.82       210\n",
            "     Class 2       0.83      0.80      0.82       194\n",
            "\n",
            "    accuracy                           0.82       582\n",
            "   macro avg       0.82      0.82      0.82       582\n",
            "weighted avg       0.82      0.82      0.82       582\n",
            "\n"
          ],
          "name": "stdout"
        }
      ]
    },
    {
      "cell_type": "code",
      "metadata": {
        "id": "rzLgkmzU_Q39"
      },
      "source": [
        "name=[]\n",
        "for i in range(3):\n",
        "  name.append(i)"
      ],
      "execution_count": null,
      "outputs": []
    },
    {
      "cell_type": "code",
      "metadata": {
        "colab": {
          "base_uri": "https://localhost:8080/",
          "height": 500
        },
        "id": "xnxF_FGl_Tnd",
        "outputId": "b00a75b9-30ec-41b3-8dc6-54485743c1f6"
      },
      "source": [
        "# Plot confusion matrix\n",
        "conf_mat = confusion_matrix(test_Y, predicted_classes, labels = name)\n",
        "\n",
        "#Normalize confusion_matrix\n",
        "conf_mat = conf_mat.astype('float')/ conf_mat.sum(axis=1)[:, np.newaxis]\n",
        "\n",
        "# Plot Heat Map\n",
        "fig , ax = plt.subplots()\n",
        "fig.set_size_inches(13, 8)\n",
        "sns.heatmap(conf_mat)"
      ],
      "execution_count": null,
      "outputs": [
        {
          "output_type": "execute_result",
          "data": {
            "text/plain": [
              "<matplotlib.axes._subplots.AxesSubplot at 0x7f9034cf2410>"
            ]
          },
          "metadata": {
            "tags": []
          },
          "execution_count": 35
        },
        {
          "output_type": "display_data",
          "data": {
            "image/png": "[encoded data removed]",
            "text/plain": [
              "<Figure size 936x576 with 2 Axes>"
            ]
          },
          "metadata": {
            "tags": [],
            "needs_background": "light"
          }
        }
      ]
    },
    {
      "cell_type": "code",
      "metadata": {
        "colab": {
          "base_uri": "https://localhost:8080/",
          "height": 758
        },
        "id": "Qq-AVs56_WHV",
        "outputId": "aafc99f8-3760-4ae4-b2bf-837fa4d41168"
      },
      "source": [
        "print(__doc__)\n",
        "\n",
        "import itertools\n",
        "import numpy as np\n",
        "import matplotlib.pyplot as plt\n",
        "\n",
        "from sklearn import svm, datasets\n",
        "from sklearn.model_selection import train_test_split\n",
        "from sklearn.metrics import confusion_matrix\n",
        "\n",
        "\n",
        "class_names = name\n",
        "\n",
        "def plot_confusion_matrix(cm, classes,\n",
        "                          normalize=False,\n",
        "                          title='Confusion matrix',\n",
        "                          cmap=plt.cm.Blues):\n",
        "    \"\"\"\n",
        "    This function prints and plots the confusion matrix.\n",
        "    Normalization can be applied by setting `normalize=True`.\n",
        "    \"\"\"\n",
        "    if normalize:\n",
        "        cm = cm.astype('float') / cm.sum(axis=1)[:, np.newaxis]\n",
        "        print(\"Normalized confusion matrix\")\n",
        "    else:\n",
        "        print('Confusion matrix, without normalization')\n",
        "\n",
        "    print(cm)\n",
        "\n",
        "    plt.imshow(cm, interpolation='nearest', cmap=cmap)\n",
        "    plt.title(title)\n",
        "    plt.colorbar()\n",
        "    tick_marks = np.arange(len(classes))\n",
        "    plt.xticks(tick_marks, classes, rotation=0)\n",
        "    plt.yticks(tick_marks, classes)\n",
        "\n",
        "    fmt = '.2f' if normalize else 'd'\n",
        "    thresh = cm.max() / 2.\n",
        "    for i, j in itertools.product(range(cm.shape[0]), range(cm.shape[1])):\n",
        "        plt.text(j, i, format(cm[i, j], fmt),\n",
        "                 horizontalalignment=\"center\",\n",
        "                 color=\"white\" if cm[i, j] > thresh else \"black\")\n",
        "\n",
        "    plt.tight_layout()\n",
        "    plt.ylabel('True label')\n",
        "    plt.xlabel('Predicted label')\n",
        "\n",
        "# Compute confusion matrix\n",
        "cnf_matrix = confusion_matrix(test_Y, predicted_classes)\n",
        "np.set_printoptions(precision=2)\n",
        "\n",
        "# Plot non-normalized confusion matrix\n",
        "plt.figure()\n",
        "plot_confusion_matrix(cnf_matrix, classes=class_names,\n",
        "                      title='Confusion matrix, without normalization')\n",
        "plt.savefig('confussion_matrix_without_normalization.png', dpi=300, bbox_inches='tight')\n",
        "\n",
        "\n",
        "# Plot normalized confusion matrix\n",
        "plt.figure()\n",
        "plot_confusion_matrix(cnf_matrix, classes=class_names, normalize=True,\n",
        "                      title='Normalized confusion matrix')\n",
        "plt.savefig('confussion_matrix_with_normalization.png', dpi=300, bbox_inches='tight')\n",
        "\n",
        "\n",
        "plt.show()"
      ],
      "execution_count": null,
      "outputs": [
        {
          "output_type": "stream",
          "text": [
            "Automatically created module for IPython interactive environment\n",
            "Confusion matrix, without normalization\n",
            "[[150  15  13]\n",
            " [ 19 173  18]\n",
            " [ 12  26 156]]\n",
            "Normalized confusion matrix\n",
            "[[0.84 0.08 0.07]\n",
            " [0.09 0.82 0.09]\n",
            " [0.06 0.13 0.8 ]]\n"
          ],
          "name": "stdout"
        },
        {
          "output_type": "display_data",
          "data": {
            "image/png": "[encoded data removed]",
            "text/plain": [
              "<Figure size 432x288 with 2 Axes>"
            ]
          },
          "metadata": {
            "tags": [],
            "needs_background": "light"
          }
        },
        {
          "output_type": "display_data",
          "data": {
            "image/png": "[encoded data removed]",
            "text/plain": [
              "<Figure size 432x288 with 2 Axes>"
            ]
          },
          "metadata": {
            "tags": [],
            "needs_background": "light"
          }
        }
      ]
    },
    {
      "cell_type": "code",
      "metadata": {
        "colab": {
          "base_uri": "https://localhost:8080/",
          "height": 17
        },
        "id": "4X3s1Dk8_ZSV",
        "outputId": "baf49faa-e539-41ad-cf8e-59ebcbe32720"
      },
      "source": [
        "files.download(\"confussion_matrix_without_normalization.png\") "
      ],
      "execution_count": null,
      "outputs": [
        {
          "output_type": "display_data",
          "data": {
            "application/javascript": [
              "\n",
              "    async function download(id, filename, size) {\n",
              "      if (!google.colab.kernel.accessAllowed) {\n",
              "        return;\n",
              "      }\n",
              "      const div = document.createElement('div');\n",
              "      const label = document.createElement('label');\n",
              "      label.textContent = `Downloading \"${filename}\": `;\n",
              "      div.appendChild(label);\n",
              "      const progress = document.createElement('progress');\n",
              "      progress.max = size;\n",
              "      div.appendChild(progress);\n",
              "      document.body.appendChild(div);\n",
              "\n",
              "      const buffers = [];\n",
              "      let downloaded = 0;\n",
              "\n",
              "      const channel = await google.colab.kernel.comms.open(id);\n",
              "      // Send a message to notify the kernel that we're ready.\n",
              "      channel.send({})\n",
              "\n",
              "      for await (const message of channel.messages) {\n",
              "        // Send a message to notify the kernel that we're ready.\n",
              "        channel.send({})\n",
              "        if (message.buffers) {\n",
              "          for (const buffer of message.buffers) {\n",
              "            buffers.push(buffer);\n",
              "            downloaded += buffer.byteLength;\n",
              "            progress.value = downloaded;\n",
              "          }\n",
              "        }\n",
              "      }\n",
              "      const blob = new Blob(buffers, {type: 'application/binary'});\n",
              "      const a = document.createElement('a');\n",
              "      a.href = window.URL.createObjectURL(blob);\n",
              "      a.download = filename;\n",
              "      div.appendChild(a);\n",
              "      a.click();\n",
              "      div.remove();\n",
              "    }\n",
              "  "
            ],
            "text/plain": [
              "<IPython.core.display.Javascript object>"
            ]
          },
          "metadata": {
            "tags": []
          }
        },
        {
          "output_type": "display_data",
          "data": {
            "application/javascript": [
              "download(\"download_7271ff67-bcf1-4007-8d17-887f7b43aa06\", \"confussion_matrix_without_normalization.png\", 75612)"
            ],
            "text/plain": [
              "<IPython.core.display.Javascript object>"
            ]
          },
          "metadata": {
            "tags": []
          }
        }
      ]
    },
    {
      "cell_type": "code",
      "metadata": {
        "colab": {
          "base_uri": "https://localhost:8080/",
          "height": 17
        },
        "id": "NevxKEic_c0n",
        "outputId": "5ddf1b85-3d2b-4a00-cfe9-d65a2b3a52d0"
      },
      "source": [
        "files.download(\"confussion_matrix_with_normalization.png\") "
      ],
      "execution_count": null,
      "outputs": [
        {
          "output_type": "display_data",
          "data": {
            "application/javascript": [
              "\n",
              "    async function download(id, filename, size) {\n",
              "      if (!google.colab.kernel.accessAllowed) {\n",
              "        return;\n",
              "      }\n",
              "      const div = document.createElement('div');\n",
              "      const label = document.createElement('label');\n",
              "      label.textContent = `Downloading \"${filename}\": `;\n",
              "      div.appendChild(label);\n",
              "      const progress = document.createElement('progress');\n",
              "      progress.max = size;\n",
              "      div.appendChild(progress);\n",
              "      document.body.appendChild(div);\n",
              "\n",
              "      const buffers = [];\n",
              "      let downloaded = 0;\n",
              "\n",
              "      const channel = await google.colab.kernel.comms.open(id);\n",
              "      // Send a message to notify the kernel that we're ready.\n",
              "      channel.send({})\n",
              "\n",
              "      for await (const message of channel.messages) {\n",
              "        // Send a message to notify the kernel that we're ready.\n",
              "        channel.send({})\n",
              "        if (message.buffers) {\n",
              "          for (const buffer of message.buffers) {\n",
              "            buffers.push(buffer);\n",
              "            downloaded += buffer.byteLength;\n",
              "            progress.value = downloaded;\n",
              "          }\n",
              "        }\n",
              "      }\n",
              "      const blob = new Blob(buffers, {type: 'application/binary'});\n",
              "      const a = document.createElement('a');\n",
              "      a.href = window.URL.createObjectURL(blob);\n",
              "      a.download = filename;\n",
              "      div.appendChild(a);\n",
              "      a.click();\n",
              "      div.remove();\n",
              "    }\n",
              "  "
            ],
            "text/plain": [
              "<IPython.core.display.Javascript object>"
            ]
          },
          "metadata": {
            "tags": []
          }
        },
        {
          "output_type": "display_data",
          "data": {
            "application/javascript": [
              "download(\"download_706059f8-542b-4024-865c-d61764f6b16b\", \"confussion_matrix_with_normalization.png\", 83960)"
            ],
            "text/plain": [
              "<IPython.core.display.Javascript object>"
            ]
          },
          "metadata": {
            "tags": []
          }
        }
      ]
    },
    {
      "cell_type": "code",
      "metadata": {
        "id": "P8MsBzgx_iK_"
      },
      "source": [
        ""
      ],
      "execution_count": null,
      "outputs": []
    }
  ]
}
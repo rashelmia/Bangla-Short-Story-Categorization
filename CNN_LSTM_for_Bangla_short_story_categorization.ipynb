{
  "nbformat": 4,
  "nbformat_minor": 0,
  "metadata": {
    "colab": {
      "name": "CNN-LSTM for Bangla short story categorization.ipynb",
      "provenance": [],
      "authorship_tag": "ABX9TyOgowi8uT8GrwUOKDoOSrpE",
      "include_colab_link": true
    },
    "kernelspec": {
      "name": "python3",
      "display_name": "Python 3"
    },
    "language_info": {
      "name": "python"
    }
  },
  "cells": [
    {
      "cell_type": "markdown",
      "metadata": {
        "id": "view-in-github",
        "colab_type": "text"
      },
      "source": [
        "<a href=\"https://colab.research.google.com/github/rashelmia/Bangla-Short-Story-Categorization/blob/main/CNN_LSTM_for_Bangla_short_story_categorization.ipynb\" target=\"_parent\"><img src=\"https://colab.research.google.com/assets/colab-badge.svg\" alt=\"Open In Colab\"/></a>"
      ]
    },
    {
      "cell_type": "code",
      "metadata": {
        "id": "8xmL_Sz5Oxq4"
      },
      "source": [
        "import numpy as np # linear algebra\n",
        "import pandas as pd # data processing, CSV file I/O (e.g. pd.read_csv)\n",
        "import os\n",
        "import pandas as pd\n",
        "import numpy as np\n",
        "from matplotlib import pyplot as plt\n",
        "import seaborn as sns\n",
        "from sklearn.feature_extraction.text import CountVectorizer\n",
        "from sklearn.model_selection import train_test_split\n",
        "from sklearn.metrics import accuracy_score, confusion_matrix, classification_report"
      ],
      "execution_count": null,
      "outputs": []
    },
    {
      "cell_type": "code",
      "metadata": {
        "colab": {
          "base_uri": "https://localhost:8080/"
        },
        "id": "mxIEWZXmO0oA",
        "outputId": "96cbef08-5f8f-427f-bba6-b73825c6370d"
      },
      "source": [
        "from google.colab import drive\n",
        "drive.mount('/content/gdrive')"
      ],
      "execution_count": null,
      "outputs": [
        {
          "output_type": "stream",
          "text": [
            "Mounted at /content/gdrive\n"
          ],
          "name": "stdout"
        }
      ]
    },
    {
      "cell_type": "code",
      "metadata": {
        "id": "YEFMRMmzO7W0"
      },
      "source": [
        "df = pd.read_csv('/content/gdrive/My Drive/cleaned_dataset.csv')"
      ],
      "execution_count": null,
      "outputs": []
    },
    {
      "cell_type": "code",
      "metadata": {
        "colab": {
          "base_uri": "https://localhost:8080/",
          "height": 470
        },
        "id": "a8S37C3ZPE1o",
        "outputId": "26299c6f-da08-4647-f5e3-7ce3ec26d6ba"
      },
      "source": [
        "df"
      ],
      "execution_count": null,
      "outputs": [
        {
          "output_type": "execute_result",
          "data": {
            "text/html": [
              "<div>\n",
              "<style scoped>\n",
              "    .dataframe tbody tr th:only-of-type {\n",
              "        vertical-align: middle;\n",
              "    }\n",
              "\n",
              "    .dataframe tbody tr th {\n",
              "        vertical-align: top;\n",
              "    }\n",
              "\n",
              "    .dataframe thead th {\n",
              "        text-align: right;\n",
              "    }\n",
              "</style>\n",
              "<table border=\"1\" class=\"dataframe\">\n",
              "  <thead>\n",
              "    <tr style=\"text-align: right;\">\n",
              "      <th></th>\n",
              "      <th>Title</th>\n",
              "      <th>Author</th>\n",
              "      <th>Text</th>\n",
              "      <th>Category</th>\n",
              "      <th>Clean_Text</th>\n",
              "    </tr>\n",
              "  </thead>\n",
              "  <tbody>\n",
              "    <tr>\n",
              "      <th>0</th>\n",
              "      <td>❤তোর মতো কেউ নেই ❤...পর্ব ৭</td>\n",
              "      <td>রিমা ব্যানার্জি 🍁✒</td>\n",
              "      <td>❤  পর্ব    ৭❤  বাড়িতে  পুজো  আছে  anniversary ...</td>\n",
              "      <td>2</td>\n",
              "      <td>পর্ব বাড়িতে পুজো টিয়া বলেছিল মাথায় রেখেই রুদ্র...</td>\n",
              "    </tr>\n",
              "    <tr>\n",
              "      <th>1</th>\n",
              "      <td>বড় হওয়ার গপ্পো</td>\n",
              "      <td>গৌরব বিশ্বাস</td>\n",
              "      <td>এ  গল্প  আমার  বড়  হওয়ার  গল্প।  পাঠকগ্ণ  নিশ্...</td>\n",
              "      <td>1</td>\n",
              "      <td>গল্প বড় হওয়ার গল্প । পাঠকগ্ণ নিশ্চই টানটান হয়ে...</td>\n",
              "    </tr>\n",
              "    <tr>\n",
              "      <th>2</th>\n",
              "      <td>রমেশের ডেলিভারি</td>\n",
              "      <td>সুজিত ঘোষ</td>\n",
              "      <td>টিং-টং  করে  দরজার  বেল  বাজালাম!ওপার  থেকে  আ...</td>\n",
              "      <td>0</td>\n",
              "      <td>টিংটং দরজার বেল বাজালামওপার আওয়াজ বললাম রমেশকি...</td>\n",
              "    </tr>\n",
              "    <tr>\n",
              "      <th>3</th>\n",
              "      <td>Your_Love_Is_My_Addiction💖 part--- 12</td>\n",
              "      <td>মানাই ঘোষ \"তিথি\"</td>\n",
              "      <td>Your  _Love_Is_My_Addiction💖  part---  12  .  ...</td>\n",
              "      <td>1</td>\n",
              "      <td>মিহুর বাবামার বিদায় গেলো মেঘ । মেঘের ঠোঁটের কো...</td>\n",
              "    </tr>\n",
              "    <tr>\n",
              "      <th>4</th>\n",
              "      <td>♥️রোমান্টিক বসের ভালোবাসা ♥️</td>\n",
              "      <td>💞রিধি সেন💞</td>\n",
              "      <td>গল্প  :  রোমান্টিক  😍বসের  ভালোবাসা  পর্ব  :  ...</td>\n",
              "      <td>1</td>\n",
              "      <td>গল্প রোমান্টিক বসের ভালোবাসা পর্ব তানিয়া উফএই ...</td>\n",
              "    </tr>\n",
              "    <tr>\n",
              "      <th>...</th>\n",
              "      <td>...</td>\n",
              "      <td>...</td>\n",
              "      <td>...</td>\n",
              "      <td>...</td>\n",
              "      <td>...</td>\n",
              "    </tr>\n",
              "    <tr>\n",
              "      <th>5806</th>\n",
              "      <td>ডায়েরির শেষ পাতাটা পর্ব-৩২</td>\n",
              "      <td>Sadia Afrin \"Sarah\"</td>\n",
              "      <td>\"\"\"    দুটা  ক্লাস  করিয়েই  ছুটি  দিয়ে  দেওয...</td>\n",
              "      <td>2</td>\n",
              "      <td>দুটা ক্লাস করিয়েই ছুটি । স্টুডেন্ট কোটা একটা ...</td>\n",
              "    </tr>\n",
              "    <tr>\n",
              "      <th>5807</th>\n",
              "      <td>The White Eyes- End of A journey.</td>\n",
              "      <td>Akash Chatterjee</td>\n",
              "      <td>The  White  Eyes  -  End  of  A  journey  (এই ...</td>\n",
              "      <td>0</td>\n",
              "      <td>গল্প পড়ার আগের অংশ আপনাদের পড়তে নাহলে বুঝতে ...</td>\n",
              "    </tr>\n",
              "    <tr>\n",
              "      <th>5808</th>\n",
              "      <td>ফেরা</td>\n",
              "      <td>মধুমিতা মুখার্জী</td>\n",
              "      <td>বহুদিন  হল  বর্দ্ধমানের  দেশের  বাড়ির  কালি  প...</td>\n",
              "      <td>0</td>\n",
              "      <td>বহুদিন বর্দ্ধমানের দেশের বাড়ির কালি পুজোয় যায়ন...</td>\n",
              "    </tr>\n",
              "    <tr>\n",
              "      <th>5809</th>\n",
              "      <td>খোপ থেকে বেরলো পোপ</td>\n",
              "      <td>Sudip Chakraborty</td>\n",
              "      <td>আপনাদের  কি  কারো  স্মরণে  আছে  কোলকাতায়  আশির...</td>\n",
              "      <td>1</td>\n",
              "      <td>আপনাদের কারো স্মরণে কোলকাতায় আশির দশকে এক সময়ে...</td>\n",
              "    </tr>\n",
              "    <tr>\n",
              "      <th>5810</th>\n",
              "      <td>💮তুমি এলে তাই💮Part-20</td>\n",
              "      <td>Mou \"মৌ\"</td>\n",
              "      <td>#  তুমি_এলে_তাই  #  বাংলা  Medium    #  পর্ব_২...</td>\n",
              "      <td>2</td>\n",
              "      <td>তুমিএলেতাই বাংলা পর্ব একমনে ভাবছে অয়ন । ভাবনা ...</td>\n",
              "    </tr>\n",
              "  </tbody>\n",
              "</table>\n",
              "<p>5811 rows × 5 columns</p>\n",
              "</div>"
            ],
            "text/plain": [
              "                                      Title  ...                                         Clean_Text\n",
              "0               ❤তোর মতো কেউ নেই ❤...পর্ব ৭  ...  পর্ব বাড়িতে পুজো টিয়া বলেছিল মাথায় রেখেই রুদ্র...\n",
              "1                            বড় হওয়ার গপ্পো  ...  গল্প বড় হওয়ার গল্প । পাঠকগ্ণ নিশ্চই টানটান হয়ে...\n",
              "2                           রমেশের ডেলিভারি  ...  টিংটং দরজার বেল বাজালামওপার আওয়াজ বললাম রমেশকি...\n",
              "3     Your_Love_Is_My_Addiction💖 part--- 12  ...  মিহুর বাবামার বিদায় গেলো মেঘ । মেঘের ঠোঁটের কো...\n",
              "4              ♥️রোমান্টিক বসের ভালোবাসা ♥️  ...  গল্প রোমান্টিক বসের ভালোবাসা পর্ব তানিয়া উফএই ...\n",
              "...                                     ...  ...                                                ...\n",
              "5806            ডায়েরির শেষ পাতাটা পর্ব-৩২  ...  দুটা ক্লাস করিয়েই ছুটি । স্টুডেন্ট কোটা একটা ...\n",
              "5807      The White Eyes- End of A journey.  ...  গল্প পড়ার আগের অংশ আপনাদের পড়তে নাহলে বুঝতে ...\n",
              "5808                                   ফেরা  ...  বহুদিন বর্দ্ধমানের দেশের বাড়ির কালি পুজোয় যায়ন...\n",
              "5809                     খোপ থেকে বেরলো পোপ  ...  আপনাদের কারো স্মরণে কোলকাতায় আশির দশকে এক সময়ে...\n",
              "5810                  💮তুমি এলে তাই💮Part-20  ...  তুমিএলেতাই বাংলা পর্ব একমনে ভাবছে অয়ন । ভাবনা ...\n",
              "\n",
              "[5811 rows x 5 columns]"
            ]
          },
          "metadata": {
            "tags": []
          },
          "execution_count": 42
        }
      ]
    },
    {
      "cell_type": "code",
      "metadata": {
        "colab": {
          "base_uri": "https://localhost:8080/"
        },
        "id": "iGY1eTzPPIam",
        "outputId": "cb5308c1-27da-470e-857c-389e07564817"
      },
      "source": [
        "pd.value_counts(df.Category)"
      ],
      "execution_count": null,
      "outputs": [
        {
          "output_type": "execute_result",
          "data": {
            "text/plain": [
              "2    2000\n",
              "1    2000\n",
              "0    1811\n",
              "Name: Category, dtype: int64"
            ]
          },
          "metadata": {
            "tags": []
          },
          "execution_count": 43
        }
      ]
    },
    {
      "cell_type": "code",
      "metadata": {
        "id": "vmTr4lIDPNLe"
      },
      "source": [
        "df = df.sample(frac=1).reset_index(drop=True)"
      ],
      "execution_count": null,
      "outputs": []
    },
    {
      "cell_type": "code",
      "metadata": {
        "colab": {
          "base_uri": "https://localhost:8080/"
        },
        "id": "2TazU0F5PPhe",
        "outputId": "9631718f-2277-492e-fc94-fbdde0d09d16"
      },
      "source": [
        "set(df.Category)\n"
      ],
      "execution_count": null,
      "outputs": [
        {
          "output_type": "execute_result",
          "data": {
            "text/plain": [
              "{0, 1, 2}"
            ]
          },
          "metadata": {
            "tags": []
          },
          "execution_count": 45
        }
      ]
    },
    {
      "cell_type": "code",
      "metadata": {
        "colab": {
          "base_uri": "https://localhost:8080/"
        },
        "id": "xFtXPcSEPRjX",
        "outputId": "c8cd56cb-dd59-475a-c606-75b5ca758e60"
      },
      "source": [
        "# Drop rows with missing values\n",
        "model_f = df.dropna()\n",
        "print(model_f.shape[0])"
      ],
      "execution_count": null,
      "outputs": [
        {
          "output_type": "stream",
          "text": [
            "5811\n"
          ],
          "name": "stdout"
        }
      ]
    },
    {
      "cell_type": "code",
      "metadata": {
        "colab": {
          "base_uri": "https://localhost:8080/",
          "height": 401
        },
        "id": "e9kijCtRPUeu",
        "outputId": "37c36c99-f874-481f-c928-284c3b66ca32"
      },
      "source": [
        "# Look at classification type counts\n",
        "counts = model_f.Category.value_counts()\n",
        "print(counts)\n",
        "#plot counts\n",
        "plt.figure()\n",
        "sns.distplot(counts, hist = False, color = 'purple')\n",
        "plt.ylabel('% of records')\n",
        "plt.show()"
      ],
      "execution_count": null,
      "outputs": [
        {
          "output_type": "stream",
          "text": [
            "2    2000\n",
            "1    2000\n",
            "0    1811\n",
            "Name: Category, dtype: int64\n"
          ],
          "name": "stdout"
        },
        {
          "output_type": "stream",
          "text": [
            "/usr/local/lib/python3.7/dist-packages/seaborn/distributions.py:2557: FutureWarning: `distplot` is a deprecated function and will be removed in a future version. Please adapt your code to use either `displot` (a figure-level function with similar flexibility) or `kdeplot` (an axes-level function for kernel density plots).\n",
            "  warnings.warn(msg, FutureWarning)\n"
          ],
          "name": "stderr"
        },
        {
          "output_type": "display_data",
          "data": {
            "image/png": "[encoded data removed]",
            "text/plain": [
              "<Figure size 432x288 with 1 Axes>"
            ]
          },
          "metadata": {
            "tags": [],
            "needs_background": "light"
          }
        }
      ]
    },
    {
      "cell_type": "code",
      "metadata": {
        "colab": {
          "base_uri": "https://localhost:8080/"
        },
        "id": "PfHgx6uMPWy-",
        "outputId": "2ba296e3-7131-4f61-83d1-665f6b9b8e9f"
      },
      "source": [
        "max_length=model_f[\"Clean_Text\"].str.len().max()\n",
        "print(max_length)"
      ],
      "execution_count": null,
      "outputs": [
        {
          "output_type": "stream",
          "text": [
            "29119\n"
          ],
          "name": "stdout"
        }
      ]
    },
    {
      "cell_type": "code",
      "metadata": {
        "colab": {
          "base_uri": "https://localhost:8080/",
          "height": 204
        },
        "id": "aQjlG_xGPZJR",
        "outputId": "18c46de2-6eab-4b91-89c0-d311cf5c69ed"
      },
      "source": [
        "model_f.head()"
      ],
      "execution_count": null,
      "outputs": [
        {
          "output_type": "execute_result",
          "data": {
            "text/html": [
              "<div>\n",
              "<style scoped>\n",
              "    .dataframe tbody tr th:only-of-type {\n",
              "        vertical-align: middle;\n",
              "    }\n",
              "\n",
              "    .dataframe tbody tr th {\n",
              "        vertical-align: top;\n",
              "    }\n",
              "\n",
              "    .dataframe thead th {\n",
              "        text-align: right;\n",
              "    }\n",
              "</style>\n",
              "<table border=\"1\" class=\"dataframe\">\n",
              "  <thead>\n",
              "    <tr style=\"text-align: right;\">\n",
              "      <th></th>\n",
              "      <th>Title</th>\n",
              "      <th>Author</th>\n",
              "      <th>Text</th>\n",
              "      <th>Category</th>\n",
              "      <th>Clean_Text</th>\n",
              "    </tr>\n",
              "  </thead>\n",
              "  <tbody>\n",
              "    <tr>\n",
              "      <th>0</th>\n",
              "      <td>রক্তপিশাচ( অন্তিম পর্ব)</td>\n",
              "      <td>Ghost Detective</td>\n",
              "      <td>ক্রমে  রাত  গভীর  থেকে  গভীরতর  হতে  লাগলো।  আ...</td>\n",
              "      <td>0</td>\n",
              "      <td>ক্রমে রাত গভীর গভীরতর লাগলো । আকাশের চাঁদটা অন...</td>\n",
              "    </tr>\n",
              "    <tr>\n",
              "      <th>1</th>\n",
              "      <td>আমারো পরাণ যাহা চায় পর্ব ২৫</td>\n",
              "      <td>🍁কলির \"চুপকথা\"🍂🖋️</td>\n",
              "      <td>পর্ব  ২৫  একদিন  পরেই  ওরা  ফিরে  এল।অঞ্জলিকে ...</td>\n",
              "      <td>2</td>\n",
              "      <td>পর্ব একদিন । অঞ্জলিকে বাড়িতে ছেড়ে আদি বাড়ি ...</td>\n",
              "    </tr>\n",
              "    <tr>\n",
              "      <th>2</th>\n",
              "      <td>🥰 তা বলে কী প্রেম দেবো না 🥰 Part 24</td>\n",
              "      <td>আমি আমার মতো শ্রে য় সী</td>\n",
              "      <td>দুজনেই  দুজনকে  ছেড়ে   আবার  পাশাপাশি  দুটো  ...</td>\n",
              "      <td>1</td>\n",
              "      <td>দুজনেই দুজনকে ছেড়ে পাশাপাশি পাথরে । রিম ব্রত ...</td>\n",
              "    </tr>\n",
              "    <tr>\n",
              "      <th>3</th>\n",
              "      <td>BEFIKRE - PART 3</td>\n",
              "      <td>আরোহী \"রূপকথা\"</td>\n",
              "      <td>নীল     -  \"  দার্জিলিং  ?\"    রণ  -  \"  মম  হ...</td>\n",
              "      <td>1</td>\n",
              "      <td>নীল দার্জিলিং রণ মম হুঁ গ্যাংটক ঋত চলনা ভাই কর...</td>\n",
              "    </tr>\n",
              "    <tr>\n",
              "      <th>4</th>\n",
              "      <td>বহিরাগত (প্রথম পর্ব)</td>\n",
              "      <td>Niloy Dey</td>\n",
              "      <td>সেদিনটা  এইরকমই  একটা  বর্ষামুখোর  দিন  ছিল  ,...</td>\n",
              "      <td>0</td>\n",
              "      <td>সেদিনটা এইরকমই একটা বর্ষামুখোর যেদিন ঘটনাটা লি...</td>\n",
              "    </tr>\n",
              "  </tbody>\n",
              "</table>\n",
              "</div>"
            ],
            "text/plain": [
              "                                 Title  ...                                         Clean_Text\n",
              "0              রক্তপিশাচ( অন্তিম পর্ব)  ...  ক্রমে রাত গভীর গভীরতর লাগলো । আকাশের চাঁদটা অন...\n",
              "1         আমারো পরাণ যাহা চায় পর্ব ২৫  ...  পর্ব একদিন । অঞ্জলিকে বাড়িতে ছেড়ে আদি বাড়ি ...\n",
              "2  🥰 তা বলে কী প্রেম দেবো না 🥰 Part 24  ...  দুজনেই দুজনকে ছেড়ে পাশাপাশি পাথরে । রিম ব্রত ...\n",
              "3                     BEFIKRE - PART 3  ...  নীল দার্জিলিং রণ মম হুঁ গ্যাংটক ঋত চলনা ভাই কর...\n",
              "4                 বহিরাগত (প্রথম পর্ব)  ...  সেদিনটা এইরকমই একটা বর্ষামুখোর যেদিন ঘটনাটা লি...\n",
              "\n",
              "[5 rows x 5 columns]"
            ]
          },
          "metadata": {
            "tags": []
          },
          "execution_count": 49
        }
      ]
    },
    {
      "cell_type": "code",
      "metadata": {
        "colab": {
          "base_uri": "https://localhost:8080/"
        },
        "id": "zr99RQ4qPbCX",
        "outputId": "8b64a025-0a1e-4fa3-b052-b2be7bdb7fb3"
      },
      "source": [
        "train=model_f\n",
        "a=train.Category.unique()\n",
        "l=len(a)\n",
        "print(a)"
      ],
      "execution_count": null,
      "outputs": [
        {
          "output_type": "stream",
          "text": [
            "[0 2 1]\n"
          ],
          "name": "stdout"
        }
      ]
    },
    {
      "cell_type": "code",
      "metadata": {
        "colab": {
          "base_uri": "https://localhost:8080/"
        },
        "id": "5FKj9bPwPdm3",
        "outputId": "8e867e01-8c7a-483d-cda9-0023ab7f186f"
      },
      "source": [
        "train.Category.head()"
      ],
      "execution_count": null,
      "outputs": [
        {
          "output_type": "execute_result",
          "data": {
            "text/plain": [
              "0    0\n",
              "1    2\n",
              "2    1\n",
              "3    1\n",
              "4    0\n",
              "Name: Category, dtype: int64"
            ]
          },
          "metadata": {
            "tags": []
          },
          "execution_count": 51
        }
      ]
    },
    {
      "cell_type": "code",
      "metadata": {
        "id": "u5XnGzbOPfzw"
      },
      "source": [
        "df = train\n",
        "df.Category = df.Category.astype(int)"
      ],
      "execution_count": null,
      "outputs": []
    },
    {
      "cell_type": "code",
      "metadata": {
        "id": "LjaMUThgPs2P"
      },
      "source": [
        "from sklearn.model_selection import train_test_split\n",
        "from sklearn.preprocessing import LabelBinarizer\n",
        "from keras.preprocessing.text import Tokenizer\n",
        "from keras.preprocessing.sequence import pad_sequences\n",
        "from sklearn.feature_extraction.text import TfidfVectorizer\n",
        "from keras.layers import SpatialDropout1D\n",
        "#from keras.utils import to_categorical\n",
        "from sklearn.metrics import classification_report\n",
        "from sklearn.metrics import roc_auc_score\n",
        "from sklearn.metrics import roc_curve\n",
        "from sklearn.metrics import precision_recall_curve\n",
        "from sklearn.model_selection import GridSearchCV\n",
        "from keras.models import Sequential\n",
        "from keras.layers import Dense\n",
        "from keras.layers import LSTM\n",
        "from keras.layers import Conv1D\n",
        "from keras.layers import Dropout\n",
        "from keras.layers import Bidirectional\n",
        "from keras.layers import GlobalMaxPool1D\n",
        "#from keras.utils import plot_model\n",
        "from keras.layers.embeddings import Embedding\n",
        "from keras.preprocessing import sequence\n",
        "from keras.callbacks import EarlyStopping\n",
        "from sklearn.feature_selection import RFE\n",
        "import re"
      ],
      "execution_count": null,
      "outputs": []
    },
    {
      "cell_type": "code",
      "metadata": {
        "colab": {
          "base_uri": "https://localhost:8080/"
        },
        "id": "qkolEb6_PiCA",
        "outputId": "f7ff5985-7b22-4ce6-db81-54489891382f"
      },
      "source": [
        "# The maximum number of words to be used. (most frequent)\n",
        "MAX_NB_WORDS = 50000\n",
        "# Max number of words in each complaint.\n",
        "MAX_SEQUENCE_LENGTH = 250\n",
        "# This is fixed.\n",
        "EMBEDDING_DIM = 100\n",
        "tokenizer = Tokenizer(num_words=MAX_NB_WORDS, filters='!\"#$%&()*+,-./:;<=>?@[\\]^_`{|}~।', lower=False)\n",
        "tokenizer.fit_on_texts(df.Clean_Text.values)\n",
        "word_index = tokenizer.word_index\n",
        "print('Found %s unique tokens.' % len(word_index))"
      ],
      "execution_count": null,
      "outputs": [
        {
          "output_type": "stream",
          "text": [
            "Found 277039 unique tokens.\n"
          ],
          "name": "stdout"
        }
      ]
    },
    {
      "cell_type": "code",
      "metadata": {
        "colab": {
          "base_uri": "https://localhost:8080/"
        },
        "id": "EfvoKuKgPkH4",
        "outputId": "16714012-c402-41ab-f3a9-3dd1f198d9c9"
      },
      "source": [
        "X = tokenizer.texts_to_sequences(df.Clean_Text .values)\n",
        "X = pad_sequences(X, maxlen=MAX_SEQUENCE_LENGTH)\n",
        "print('Shape of data tensor:', X.shape)"
      ],
      "execution_count": null,
      "outputs": [
        {
          "output_type": "stream",
          "text": [
            "Shape of data tensor: (5811, 250)\n"
          ],
          "name": "stdout"
        }
      ]
    },
    {
      "cell_type": "code",
      "metadata": {
        "colab": {
          "base_uri": "https://localhost:8080/"
        },
        "id": "V4eOOfqCP4XC",
        "outputId": "be50b789-5554-42d7-9782-3a0ffec61d07"
      },
      "source": [
        "Y = pd.get_dummies(df.Category).values\n",
        "print('Shape of label tensor:', Y.shape)"
      ],
      "execution_count": null,
      "outputs": [
        {
          "output_type": "stream",
          "text": [
            "Shape of label tensor: (5811, 3)\n"
          ],
          "name": "stdout"
        }
      ]
    },
    {
      "cell_type": "code",
      "metadata": {
        "id": "wRDX7u0jP7Eb"
      },
      "source": [
        "train_features, test_features, train_labels, test_labels = train_test_split(X, Y, test_size=.10)"
      ],
      "execution_count": null,
      "outputs": []
    },
    {
      "cell_type": "code",
      "metadata": {
        "id": "QqG4Ly0JP9Bz"
      },
      "source": [
        "from keras.layers import MaxPooling1D\n"
      ],
      "execution_count": null,
      "outputs": []
    },
    {
      "cell_type": "code",
      "metadata": {
        "colab": {
          "base_uri": "https://localhost:8080/"
        },
        "id": "qfPy6SnIP-_D",
        "outputId": "a0af144d-64bc-4d1f-ed84-067ff2c3ca07"
      },
      "source": [
        "model = Sequential()\n",
        "model.add(Embedding(MAX_NB_WORDS, EMBEDDING_DIM, input_length=X.shape[1]))\n",
        "model.add(Conv1D(filters=64, kernel_size=5, padding='causal', activation='relu'))\n",
        "model.add(MaxPooling1D(pool_size=2))\n",
        "model.add(Dropout(0.7))\n",
        "model.add(LSTM(150))\n",
        "model.add(Dropout(0.7))\n",
        "model.add(Dense(l, activation='softmax'))\n",
        "model.compile(loss='categorical_crossentropy', optimizer='adam', metrics=['accuracy'])\n",
        "print(model.summary())"
      ],
      "execution_count": null,
      "outputs": [
        {
          "output_type": "stream",
          "text": [
            "Model: \"sequential_5\"\n",
            "_________________________________________________________________\n",
            "Layer (type)                 Output Shape              Param #   \n",
            "=================================================================\n",
            "embedding_5 (Embedding)      (None, 250, 100)          5000000   \n",
            "_________________________________________________________________\n",
            "conv1d_5 (Conv1D)            (None, 250, 64)           32064     \n",
            "_________________________________________________________________\n",
            "max_pooling1d_5 (MaxPooling1 (None, 125, 64)           0         \n",
            "_________________________________________________________________\n",
            "dropout_10 (Dropout)         (None, 125, 64)           0         \n",
            "_________________________________________________________________\n",
            "lstm_5 (LSTM)                (None, 150)               129000    \n",
            "_________________________________________________________________\n",
            "dropout_11 (Dropout)         (None, 150)               0         \n",
            "_________________________________________________________________\n",
            "dense_5 (Dense)              (None, 3)                 453       \n",
            "=================================================================\n",
            "Total params: 5,161,517\n",
            "Trainable params: 5,161,517\n",
            "Non-trainable params: 0\n",
            "_________________________________________________________________\n",
            "None\n"
          ],
          "name": "stdout"
        }
      ]
    },
    {
      "cell_type": "code",
      "metadata": {
        "id": "kFYBFOeqQBMM"
      },
      "source": [
        "epochs = 10\n",
        "batch_size = 128"
      ],
      "execution_count": null,
      "outputs": []
    },
    {
      "cell_type": "code",
      "metadata": {
        "colab": {
          "base_uri": "https://localhost:8080/"
        },
        "id": "paNSWCPtQEoM",
        "outputId": "0fd9931d-ad12-47d2-94bb-f6195f033139"
      },
      "source": [
        "history = model.fit(train_features, train_labels, epochs=epochs, batch_size=batch_size,validation_split=0.1,callbacks=[EarlyStopping(monitor='val_loss', patience=3, min_delta=0.0001)])"
      ],
      "execution_count": null,
      "outputs": [
        {
          "output_type": "stream",
          "text": [
            "Epoch 1/10\n",
            "37/37 [==============================] - 31s 756ms/step - loss: 1.0964 - accuracy: 0.3539 - val_loss: 1.0742 - val_accuracy: 0.3403\n",
            "Epoch 2/10\n",
            "37/37 [==============================] - 27s 736ms/step - loss: 0.9551 - accuracy: 0.5037 - val_loss: 0.7072 - val_accuracy: 0.6577\n",
            "Epoch 3/10\n",
            "37/37 [==============================] - 27s 736ms/step - loss: 0.5075 - accuracy: 0.7826 - val_loss: 1.0939 - val_accuracy: 0.7591\n",
            "Epoch 4/10\n",
            "37/37 [==============================] - 27s 734ms/step - loss: 0.3284 - accuracy: 0.9132 - val_loss: 0.5289 - val_accuracy: 0.8145\n",
            "Epoch 5/10\n",
            "37/37 [==============================] - 27s 732ms/step - loss: 0.1108 - accuracy: 0.9697 - val_loss: 0.5127 - val_accuracy: 0.8184\n",
            "Epoch 6/10\n",
            "37/37 [==============================] - 27s 737ms/step - loss: 0.0763 - accuracy: 0.9800 - val_loss: 0.4780 - val_accuracy: 0.8470\n",
            "Epoch 7/10\n",
            "37/37 [==============================] - 27s 728ms/step - loss: 0.0730 - accuracy: 0.9805 - val_loss: 0.5233 - val_accuracy: 0.8642\n",
            "Epoch 8/10\n",
            "37/37 [==============================] - 27s 736ms/step - loss: 0.0619 - accuracy: 0.9802 - val_loss: 0.5439 - val_accuracy: 0.8241\n",
            "Epoch 9/10\n",
            "37/37 [==============================] - 27s 729ms/step - loss: 0.0587 - accuracy: 0.9824 - val_loss: 0.5957 - val_accuracy: 0.8260\n"
          ],
          "name": "stdout"
        }
      ]
    },
    {
      "cell_type": "code",
      "metadata": {
        "colab": {
          "base_uri": "https://localhost:8080/"
        },
        "id": "LphqKJjDQG69",
        "outputId": "442d8efb-6bae-4c8a-bb97-b501bce196bf"
      },
      "source": [
        "accr = model.evaluate(test_features,test_labels)\n",
        "print('Test set\\n  Loss: {:0.3f}\\n  Accuracy: {:0.3f}'.format(accr[0],accr[1]))"
      ],
      "execution_count": null,
      "outputs": [
        {
          "output_type": "stream",
          "text": [
            "19/19 [==============================] - 1s 56ms/step - loss: 0.5210 - accuracy: 0.8419\n",
            "Test set\n",
            "  Loss: 0.521\n",
            "  Accuracy: 0.842\n"
          ],
          "name": "stdout"
        }
      ]
    },
    {
      "cell_type": "code",
      "metadata": {
        "id": "1P0jg8FpRJb4"
      },
      "source": [
        "from google.colab import files"
      ],
      "execution_count": null,
      "outputs": []
    },
    {
      "cell_type": "code",
      "metadata": {
        "colab": {
          "base_uri": "https://localhost:8080/",
          "height": 281
        },
        "id": "SujDMyU1RP5l",
        "outputId": "d4cb510e-a831-4239-be54-904274781f1e"
      },
      "source": [
        "from matplotlib import pyplot as plt\n",
        "plt.title('Loss')\n",
        "plt.plot(history.history['loss'],'r', label='train')\n",
        "plt.plot(history.history['val_loss'],'b', label='test')\n",
        "plt.legend()\n",
        "plt.savefig('plot_loss.png',dpi=300, bbox_inches='tight')\n",
        "plt.show()"
      ],
      "execution_count": null,
      "outputs": [
        {
          "output_type": "display_data",
          "data": {
            "image/png": "[encoded data removed]",
            "text/plain": [
              "<Figure size 432x288 with 1 Axes>"
            ]
          },
          "metadata": {
            "tags": [],
            "needs_background": "light"
          }
        }
      ]
    },
    {
      "cell_type": "code",
      "metadata": {
        "colab": {
          "base_uri": "https://localhost:8080/",
          "height": 17
        },
        "id": "88mjhIrxRme_",
        "outputId": "ec55ac17-74c6-4a93-ae74-3baf80fb4ed9"
      },
      "source": [
        "files.download(\"plot_loss.png\") "
      ],
      "execution_count": null,
      "outputs": [
        {
          "output_type": "display_data",
          "data": {
            "application/javascript": [
              "\n",
              "    async function download(id, filename, size) {\n",
              "      if (!google.colab.kernel.accessAllowed) {\n",
              "        return;\n",
              "      }\n",
              "      const div = document.createElement('div');\n",
              "      const label = document.createElement('label');\n",
              "      label.textContent = `Downloading \"${filename}\": `;\n",
              "      div.appendChild(label);\n",
              "      const progress = document.createElement('progress');\n",
              "      progress.max = size;\n",
              "      div.appendChild(progress);\n",
              "      document.body.appendChild(div);\n",
              "\n",
              "      const buffers = [];\n",
              "      let downloaded = 0;\n",
              "\n",
              "      const channel = await google.colab.kernel.comms.open(id);\n",
              "      // Send a message to notify the kernel that we're ready.\n",
              "      channel.send({})\n",
              "\n",
              "      for await (const message of channel.messages) {\n",
              "        // Send a message to notify the kernel that we're ready.\n",
              "        channel.send({})\n",
              "        if (message.buffers) {\n",
              "          for (const buffer of message.buffers) {\n",
              "            buffers.push(buffer);\n",
              "            downloaded += buffer.byteLength;\n",
              "            progress.value = downloaded;\n",
              "          }\n",
              "        }\n",
              "      }\n",
              "      const blob = new Blob(buffers, {type: 'application/binary'});\n",
              "      const a = document.createElement('a');\n",
              "      a.href = window.URL.createObjectURL(blob);\n",
              "      a.download = filename;\n",
              "      div.appendChild(a);\n",
              "      a.click();\n",
              "      div.remove();\n",
              "    }\n",
              "  "
            ],
            "text/plain": [
              "<IPython.core.display.Javascript object>"
            ]
          },
          "metadata": {
            "tags": []
          }
        },
        {
          "output_type": "display_data",
          "data": {
            "application/javascript": [
              "download(\"download_59afe55d-1e70-4cf0-ab5f-e00e4bfc4418\", \"plot_loss.png\", 74000)"
            ],
            "text/plain": [
              "<IPython.core.display.Javascript object>"
            ]
          },
          "metadata": {
            "tags": []
          }
        }
      ]
    },
    {
      "cell_type": "code",
      "metadata": {
        "colab": {
          "base_uri": "https://localhost:8080/",
          "height": 281
        },
        "id": "k69OaMBQRSAN",
        "outputId": "94638905-8089-4e15-b1ee-9cdc6f1ff549"
      },
      "source": [
        "plt.title('Accuracy')\n",
        "plt.plot(history.history['accuracy'],'r', label='train')\n",
        "plt.plot(history.history['val_accuracy'],'b', label='test')\n",
        "plt.legend()\n",
        "plt.savefig('plot_accuracy.png', dpi=300, bbox_inches='tight')\n",
        "plt.show()"
      ],
      "execution_count": null,
      "outputs": [
        {
          "output_type": "display_data",
          "data": {
            "image/png": "[encoded data removed]",
            "text/plain": [
              "<Figure size 432x288 with 1 Axes>"
            ]
          },
          "metadata": {
            "tags": [],
            "needs_background": "light"
          }
        }
      ]
    },
    {
      "cell_type": "code",
      "metadata": {
        "colab": {
          "base_uri": "https://localhost:8080/",
          "height": 17
        },
        "id": "0XUmCezZRY2G",
        "outputId": "1d7ce3c1-3c4c-4112-db2a-8b3c08d6b919"
      },
      "source": [
        "files.download(\"plot_accuracy.png\") "
      ],
      "execution_count": null,
      "outputs": [
        {
          "output_type": "display_data",
          "data": {
            "application/javascript": [
              "\n",
              "    async function download(id, filename, size) {\n",
              "      if (!google.colab.kernel.accessAllowed) {\n",
              "        return;\n",
              "      }\n",
              "      const div = document.createElement('div');\n",
              "      const label = document.createElement('label');\n",
              "      label.textContent = `Downloading \"${filename}\": `;\n",
              "      div.appendChild(label);\n",
              "      const progress = document.createElement('progress');\n",
              "      progress.max = size;\n",
              "      div.appendChild(progress);\n",
              "      document.body.appendChild(div);\n",
              "\n",
              "      const buffers = [];\n",
              "      let downloaded = 0;\n",
              "\n",
              "      const channel = await google.colab.kernel.comms.open(id);\n",
              "      // Send a message to notify the kernel that we're ready.\n",
              "      channel.send({})\n",
              "\n",
              "      for await (const message of channel.messages) {\n",
              "        // Send a message to notify the kernel that we're ready.\n",
              "        channel.send({})\n",
              "        if (message.buffers) {\n",
              "          for (const buffer of message.buffers) {\n",
              "            buffers.push(buffer);\n",
              "            downloaded += buffer.byteLength;\n",
              "            progress.value = downloaded;\n",
              "          }\n",
              "        }\n",
              "      }\n",
              "      const blob = new Blob(buffers, {type: 'application/binary'});\n",
              "      const a = document.createElement('a');\n",
              "      a.href = window.URL.createObjectURL(blob);\n",
              "      a.download = filename;\n",
              "      div.appendChild(a);\n",
              "      a.click();\n",
              "      div.remove();\n",
              "    }\n",
              "  "
            ],
            "text/plain": [
              "<IPython.core.display.Javascript object>"
            ]
          },
          "metadata": {
            "tags": []
          }
        },
        {
          "output_type": "display_data",
          "data": {
            "application/javascript": [
              "download(\"download_5c3e0e21-d767-4e1b-bc1b-736a1cfe4356\", \"plot_accuracy.png\", 71887)"
            ],
            "text/plain": [
              "<IPython.core.display.Javascript object>"
            ]
          },
          "metadata": {
            "tags": []
          }
        }
      ]
    },
    {
      "cell_type": "code",
      "metadata": {
        "id": "aTTqh8kxR0oG"
      },
      "source": [
        "predicted_classes = model.predict(test_features)\n",
        "predicted_classes = np.argmax(np.round(predicted_classes),axis=1)\n",
        "#test_Y = np.argmax(np.round(test_labels),axis=1)"
      ],
      "execution_count": null,
      "outputs": []
    },
    {
      "cell_type": "code",
      "metadata": {
        "colab": {
          "base_uri": "https://localhost:8080/"
        },
        "id": "9hxBAaNf93if",
        "outputId": "62399247-9006-41e4-9491-3bb334b208a5"
      },
      "source": [
        "predicted_classes.shape, test_labels.shape\n",
        "print(test_labels.shape)"
      ],
      "execution_count": null,
      "outputs": [
        {
          "output_type": "stream",
          "text": [
            "(582, 3)\n"
          ],
          "name": "stdout"
        }
      ]
    },
    {
      "cell_type": "code",
      "metadata": {
        "colab": {
          "base_uri": "https://localhost:8080/"
        },
        "id": "MB5GweJX96S6",
        "outputId": "4894fb94-f630-42e2-8bc7-a9fddf794529"
      },
      "source": [
        "test_Y=[]\n",
        "for i in range (582):\n",
        "    for j in range (3):\n",
        "        if(test_labels[i][j]==1):\n",
        "            test_Y.append(j)\n",
        "print(len(test_Y))"
      ],
      "execution_count": null,
      "outputs": [
        {
          "output_type": "stream",
          "text": [
            "582\n"
          ],
          "name": "stdout"
        }
      ]
    },
    {
      "cell_type": "code",
      "metadata": {
        "colab": {
          "base_uri": "https://localhost:8080/"
        },
        "id": "KzECaqoh98qj",
        "outputId": "8c5abb41-ff72-476a-a02e-ec700e274603"
      },
      "source": [
        "from sklearn.metrics import classification_report\n",
        "target_names = [\"Class {}\".format(i) for i in range(3)]\n",
        "print(classification_report(test_Y, predicted_classes, target_names=target_names))"
      ],
      "execution_count": null,
      "outputs": [
        {
          "output_type": "stream",
          "text": [
            "              precision    recall  f1-score   support\n",
            "\n",
            "     Class 0       0.90      0.84      0.87       196\n",
            "     Class 1       0.86      0.79      0.82       190\n",
            "     Class 2       0.78      0.89      0.83       196\n",
            "\n",
            "    accuracy                           0.84       582\n",
            "   macro avg       0.85      0.84      0.84       582\n",
            "weighted avg       0.85      0.84      0.84       582\n",
            "\n"
          ],
          "name": "stdout"
        }
      ]
    },
    {
      "cell_type": "code",
      "metadata": {
        "id": "KNk9gDby9-_7"
      },
      "source": [
        "name=[]\n",
        "for i in range(3):\n",
        "  name.append(i)\n"
      ],
      "execution_count": null,
      "outputs": []
    },
    {
      "cell_type": "code",
      "metadata": {
        "colab": {
          "base_uri": "https://localhost:8080/",
          "height": 500
        },
        "id": "jzVzoLkr-CgU",
        "outputId": "0410ff01-1fcc-4a87-aa2a-9314bf8c5daa"
      },
      "source": [
        "# Plot confusion matrix\n",
        "conf_mat = confusion_matrix(test_Y, predicted_classes, labels = name)\n",
        "\n",
        "#Normalize confusion_matrix\n",
        "conf_mat = conf_mat.astype('float')/ conf_mat.sum(axis=1)[:, np.newaxis]\n",
        "\n",
        "# Plot Heat Map\n",
        "fig , ax = plt.subplots()\n",
        "fig.set_size_inches(13, 8)\n",
        "sns.heatmap(conf_mat)"
      ],
      "execution_count": null,
      "outputs": [
        {
          "output_type": "execute_result",
          "data": {
            "text/plain": [
              "<matplotlib.axes._subplots.AxesSubplot at 0x7f296b1c5710>"
            ]
          },
          "metadata": {
            "tags": []
          },
          "execution_count": 73
        },
        {
          "output_type": "display_data",
          "data": {
            "image/png": "[encoded data removed]",
            "text/plain": [
              "<Figure size 936x576 with 2 Axes>"
            ]
          },
          "metadata": {
            "tags": [],
            "needs_background": "light"
          }
        }
      ]
    },
    {
      "cell_type": "code",
      "metadata": {
        "colab": {
          "base_uri": "https://localhost:8080/",
          "height": 758
        },
        "id": "CeHhgEMt-Fec",
        "outputId": "aaee3d4c-927f-4670-9a18-48bb45827fca"
      },
      "source": [
        "print(__doc__)\n",
        "\n",
        "import itertools\n",
        "import numpy as np\n",
        "import matplotlib.pyplot as plt\n",
        "\n",
        "from sklearn import svm, datasets\n",
        "from sklearn.model_selection import train_test_split\n",
        "from sklearn.metrics import confusion_matrix\n",
        "\n",
        "\n",
        "class_names = name\n",
        "\n",
        "def plot_confusion_matrix(cm, classes,\n",
        "                          normalize=False,\n",
        "                          title='Confusion matrix',\n",
        "                          cmap=plt.cm.Blues):\n",
        "    \"\"\"\n",
        "    This function prints and plots the confusion matrix.\n",
        "    Normalization can be applied by setting `normalize=True`.\n",
        "    \"\"\"\n",
        "    if normalize:\n",
        "        cm = cm.astype('float') / cm.sum(axis=1)[:, np.newaxis]\n",
        "        print(\"Normalized confusion matrix\")\n",
        "    else:\n",
        "        print('Confusion matrix, without normalization')\n",
        "\n",
        "    print(cm)\n",
        "\n",
        "    plt.imshow(cm, interpolation='nearest', cmap=cmap)\n",
        "    plt.title(title)\n",
        "    plt.colorbar()\n",
        "    tick_marks = np.arange(len(classes))\n",
        "    plt.xticks(tick_marks, classes, rotation=0)\n",
        "    plt.yticks(tick_marks, classes)\n",
        "\n",
        "    fmt = '.2f' if normalize else 'd'\n",
        "    thresh = cm.max() / 2.\n",
        "    for i, j in itertools.product(range(cm.shape[0]), range(cm.shape[1])):\n",
        "        plt.text(j, i, format(cm[i, j], fmt),\n",
        "                 horizontalalignment=\"center\",\n",
        "                 color=\"white\" if cm[i, j] > thresh else \"black\")\n",
        "\n",
        "    plt.tight_layout()\n",
        "    plt.ylabel('True label')\n",
        "    plt.xlabel('Predicted label')\n",
        "\n",
        "# Compute confusion matrix\n",
        "cnf_matrix = confusion_matrix(test_Y, predicted_classes)\n",
        "np.set_printoptions(precision=2)\n",
        "\n",
        "# Plot non-normalized confusion matrix\n",
        "plt.figure()\n",
        "plot_confusion_matrix(cnf_matrix, classes=class_names,\n",
        "                      title='Confusion matrix, without normalization')\n",
        "plt.savefig('confussion_matrix_without_normalization.png', dpi=300, bbox_inches='tight')\n",
        "\n",
        "\n",
        "# Plot normalized confusion matrix\n",
        "plt.figure()\n",
        "plot_confusion_matrix(cnf_matrix, classes=class_names, normalize=True,\n",
        "                      title='Normalized confusion matrix')\n",
        "plt.savefig('confussion_matrix_with_normalization.png', dpi=300, bbox_inches='tight')\n",
        "\n",
        "\n",
        "plt.show()"
      ],
      "execution_count": null,
      "outputs": [
        {
          "output_type": "stream",
          "text": [
            "Automatically created module for IPython interactive environment\n",
            "Confusion matrix, without normalization\n",
            "[[165   9  22]\n",
            " [ 12 150  28]\n",
            " [  7  15 174]]\n",
            "Normalized confusion matrix\n",
            "[[0.84 0.05 0.11]\n",
            " [0.06 0.79 0.15]\n",
            " [0.04 0.08 0.89]]\n"
          ],
          "name": "stdout"
        },
        {
          "output_type": "display_data",
          "data": {
            "image/png": "[encoded data removed]",
            "text/plain": [
              "<Figure size 432x288 with 2 Axes>"
            ]
          },
          "metadata": {
            "tags": [],
            "needs_background": "light"
          }
        },
        {
          "output_type": "display_data",
          "data": {
            "image/png": "[encoded data removed]",
            "text/plain": [
              "<Figure size 432x288 with 2 Axes>"
            ]
          },
          "metadata": {
            "tags": [],
            "needs_background": "light"
          }
        }
      ]
    },
    {
      "cell_type": "code",
      "metadata": {
        "colab": {
          "base_uri": "https://localhost:8080/",
          "height": 17
        },
        "id": "DDZx57X0-KGN",
        "outputId": "8fe19f28-61eb-46b9-c127-be9621e8ae6e"
      },
      "source": [
        "files.download(\"confussion_matrix_without_normalization.png\") "
      ],
      "execution_count": null,
      "outputs": [
        {
          "output_type": "display_data",
          "data": {
            "application/javascript": [
              "\n",
              "    async function download(id, filename, size) {\n",
              "      if (!google.colab.kernel.accessAllowed) {\n",
              "        return;\n",
              "      }\n",
              "      const div = document.createElement('div');\n",
              "      const label = document.createElement('label');\n",
              "      label.textContent = `Downloading \"${filename}\": `;\n",
              "      div.appendChild(label);\n",
              "      const progress = document.createElement('progress');\n",
              "      progress.max = size;\n",
              "      div.appendChild(progress);\n",
              "      document.body.appendChild(div);\n",
              "\n",
              "      const buffers = [];\n",
              "      let downloaded = 0;\n",
              "\n",
              "      const channel = await google.colab.kernel.comms.open(id);\n",
              "      // Send a message to notify the kernel that we're ready.\n",
              "      channel.send({})\n",
              "\n",
              "      for await (const message of channel.messages) {\n",
              "        // Send a message to notify the kernel that we're ready.\n",
              "        channel.send({})\n",
              "        if (message.buffers) {\n",
              "          for (const buffer of message.buffers) {\n",
              "            buffers.push(buffer);\n",
              "            downloaded += buffer.byteLength;\n",
              "            progress.value = downloaded;\n",
              "          }\n",
              "        }\n",
              "      }\n",
              "      const blob = new Blob(buffers, {type: 'application/binary'});\n",
              "      const a = document.createElement('a');\n",
              "      a.href = window.URL.createObjectURL(blob);\n",
              "      a.download = filename;\n",
              "      div.appendChild(a);\n",
              "      a.click();\n",
              "      div.remove();\n",
              "    }\n",
              "  "
            ],
            "text/plain": [
              "<IPython.core.display.Javascript object>"
            ]
          },
          "metadata": {
            "tags": []
          }
        },
        {
          "output_type": "display_data",
          "data": {
            "application/javascript": [
              "download(\"download_8e946d01-7c8e-4faa-acfe-e96b1c257878\", \"confussion_matrix_without_normalization.png\", 74342)"
            ],
            "text/plain": [
              "<IPython.core.display.Javascript object>"
            ]
          },
          "metadata": {
            "tags": []
          }
        }
      ]
    },
    {
      "cell_type": "code",
      "metadata": {
        "colab": {
          "base_uri": "https://localhost:8080/",
          "height": 17
        },
        "id": "2LnBNVKo-gBn",
        "outputId": "89ee42d6-41ab-4464-87fd-753ab1ced058"
      },
      "source": [
        "files.download(\"confussion_matrix_with_normalization.png\") "
      ],
      "execution_count": null,
      "outputs": [
        {
          "output_type": "display_data",
          "data": {
            "application/javascript": [
              "\n",
              "    async function download(id, filename, size) {\n",
              "      if (!google.colab.kernel.accessAllowed) {\n",
              "        return;\n",
              "      }\n",
              "      const div = document.createElement('div');\n",
              "      const label = document.createElement('label');\n",
              "      label.textContent = `Downloading \"${filename}\": `;\n",
              "      div.appendChild(label);\n",
              "      const progress = document.createElement('progress');\n",
              "      progress.max = size;\n",
              "      div.appendChild(progress);\n",
              "      document.body.appendChild(div);\n",
              "\n",
              "      const buffers = [];\n",
              "      let downloaded = 0;\n",
              "\n",
              "      const channel = await google.colab.kernel.comms.open(id);\n",
              "      // Send a message to notify the kernel that we're ready.\n",
              "      channel.send({})\n",
              "\n",
              "      for await (const message of channel.messages) {\n",
              "        // Send a message to notify the kernel that we're ready.\n",
              "        channel.send({})\n",
              "        if (message.buffers) {\n",
              "          for (const buffer of message.buffers) {\n",
              "            buffers.push(buffer);\n",
              "            downloaded += buffer.byteLength;\n",
              "            progress.value = downloaded;\n",
              "          }\n",
              "        }\n",
              "      }\n",
              "      const blob = new Blob(buffers, {type: 'application/binary'});\n",
              "      const a = document.createElement('a');\n",
              "      a.href = window.URL.createObjectURL(blob);\n",
              "      a.download = filename;\n",
              "      div.appendChild(a);\n",
              "      a.click();\n",
              "      div.remove();\n",
              "    }\n",
              "  "
            ],
            "text/plain": [
              "<IPython.core.display.Javascript object>"
            ]
          },
          "metadata": {
            "tags": []
          }
        },
        {
          "output_type": "display_data",
          "data": {
            "application/javascript": [
              "download(\"download_0230dcf7-eb94-4473-9fa5-de9680d2b144\", \"confussion_matrix_with_normalization.png\", 82822)"
            ],
            "text/plain": [
              "<IPython.core.display.Javascript object>"
            ]
          },
          "metadata": {
            "tags": []
          }
        }
      ]
    },
    {
      "cell_type": "code",
      "metadata": {
        "id": "JQvKzma1-ojY"
      },
      "source": [
        ""
      ],
      "execution_count": null,
      "outputs": []
    }
  ]
}
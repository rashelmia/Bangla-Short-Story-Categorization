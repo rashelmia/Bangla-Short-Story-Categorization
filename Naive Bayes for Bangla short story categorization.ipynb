{
 "cells": [
  {
   "cell_type": "code",
   "execution_count": 21,
   "metadata": {},
   "outputs": [],
   "source": [
    "import pandas as pd\n",
    "import numpy as np\n",
    "import os "
   ]
  },
  {
   "cell_type": "code",
   "execution_count": 22,
   "metadata": {},
   "outputs": [],
   "source": [
    "import os\n",
    "os.chdir(\"F:\\DIU\\Lstm\")"
   ]
  },
  {
   "cell_type": "code",
   "execution_count": 23,
   "metadata": {},
   "outputs": [],
   "source": [
    "msg = pd.read_csv(\"cleaned_dataset.csv\")"
   ]
  },
  {
   "cell_type": "code",
   "execution_count": 24,
   "metadata": {},
   "outputs": [
    {
     "data": {
      "text/html": [
       "<div>\n",
       "<style scoped>\n",
       "    .dataframe tbody tr th:only-of-type {\n",
       "        vertical-align: middle;\n",
       "    }\n",
       "\n",
       "    .dataframe tbody tr th {\n",
       "        vertical-align: top;\n",
       "    }\n",
       "\n",
       "    .dataframe thead th {\n",
       "        text-align: right;\n",
       "    }\n",
       "</style>\n",
       "<table border=\"1\" class=\"dataframe\">\n",
       "  <thead>\n",
       "    <tr style=\"text-align: right;\">\n",
       "      <th></th>\n",
       "      <th>Title</th>\n",
       "      <th>Author</th>\n",
       "      <th>Text</th>\n",
       "      <th>Category</th>\n",
       "      <th>Clean_Text</th>\n",
       "    </tr>\n",
       "  </thead>\n",
       "  <tbody>\n",
       "    <tr>\n",
       "      <th>0</th>\n",
       "      <td>❤তোর মতো কেউ নেই ❤...পর্ব ৭</td>\n",
       "      <td>রিমা ব্যানার্জি 🍁✒</td>\n",
       "      <td>❤  পর্ব    ৭❤  বাড়িতে  পুজো  আছে  anniversary ...</td>\n",
       "      <td>2</td>\n",
       "      <td>পর্ব বাড়িতে পুজো টিয়া বলেছিল মাথায় রেখেই রুদ্র...</td>\n",
       "    </tr>\n",
       "    <tr>\n",
       "      <th>1</th>\n",
       "      <td>বড় হওয়ার গপ্পো</td>\n",
       "      <td>গৌরব বিশ্বাস</td>\n",
       "      <td>এ  গল্প  আমার  বড়  হওয়ার  গল্প।  পাঠকগ্ণ  নিশ্...</td>\n",
       "      <td>1</td>\n",
       "      <td>গল্প বড় হওয়ার গল্প । পাঠকগ্ণ নিশ্চই টানটান হয়ে...</td>\n",
       "    </tr>\n",
       "    <tr>\n",
       "      <th>2</th>\n",
       "      <td>রমেশের ডেলিভারি</td>\n",
       "      <td>সুজিত ঘোষ</td>\n",
       "      <td>টিং-টং  করে  দরজার  বেল  বাজালাম!ওপার  থেকে  আ...</td>\n",
       "      <td>0</td>\n",
       "      <td>টিংটং দরজার বেল বাজালামওপার আওয়াজ বললাম রমেশকি...</td>\n",
       "    </tr>\n",
       "    <tr>\n",
       "      <th>3</th>\n",
       "      <td>Your_Love_Is_My_Addiction💖 part--- 12</td>\n",
       "      <td>মানাই ঘোষ \"তিথি\"</td>\n",
       "      <td>Your  _Love_Is_My_Addiction💖  part---  12  .  ...</td>\n",
       "      <td>1</td>\n",
       "      <td>মিহুর বাবামার বিদায় গেলো মেঘ । মেঘের ঠোঁটের কো...</td>\n",
       "    </tr>\n",
       "    <tr>\n",
       "      <th>4</th>\n",
       "      <td>♥️রোমান্টিক বসের ভালোবাসা ♥️</td>\n",
       "      <td>💞রিধি সেন💞</td>\n",
       "      <td>গল্প  :  রোমান্টিক  😍বসের  ভালোবাসা  পর্ব  :  ...</td>\n",
       "      <td>1</td>\n",
       "      <td>গল্প রোমান্টিক বসের ভালোবাসা পর্ব তানিয়া উফএই ...</td>\n",
       "    </tr>\n",
       "    <tr>\n",
       "      <th>...</th>\n",
       "      <td>...</td>\n",
       "      <td>...</td>\n",
       "      <td>...</td>\n",
       "      <td>...</td>\n",
       "      <td>...</td>\n",
       "    </tr>\n",
       "    <tr>\n",
       "      <th>5806</th>\n",
       "      <td>ডায়েরির শেষ পাতাটা পর্ব-৩২</td>\n",
       "      <td>Sadia Afrin \"Sarah\"</td>\n",
       "      <td>\"\"\"    দুটা  ক্লাস  করিয়েই  ছুটি  দিয়ে  দেওয...</td>\n",
       "      <td>2</td>\n",
       "      <td>দুটা ক্লাস করিয়েই ছুটি । স্টুডেন্ট কোটা একটা ...</td>\n",
       "    </tr>\n",
       "    <tr>\n",
       "      <th>5807</th>\n",
       "      <td>The White Eyes- End of A journey.</td>\n",
       "      <td>Akash Chatterjee</td>\n",
       "      <td>The  White  Eyes  -  End  of  A  journey  (এই ...</td>\n",
       "      <td>0</td>\n",
       "      <td>গল্প পড়ার আগের অংশ আপনাদের পড়তে নাহলে বুঝতে ...</td>\n",
       "    </tr>\n",
       "    <tr>\n",
       "      <th>5808</th>\n",
       "      <td>ফেরা</td>\n",
       "      <td>মধুমিতা মুখার্জী</td>\n",
       "      <td>বহুদিন  হল  বর্দ্ধমানের  দেশের  বাড়ির  কালি  প...</td>\n",
       "      <td>0</td>\n",
       "      <td>বহুদিন বর্দ্ধমানের দেশের বাড়ির কালি পুজোয় যায়ন...</td>\n",
       "    </tr>\n",
       "    <tr>\n",
       "      <th>5809</th>\n",
       "      <td>খোপ থেকে বেরলো পোপ</td>\n",
       "      <td>Sudip Chakraborty</td>\n",
       "      <td>আপনাদের  কি  কারো  স্মরণে  আছে  কোলকাতায়  আশির...</td>\n",
       "      <td>1</td>\n",
       "      <td>আপনাদের কারো স্মরণে কোলকাতায় আশির দশকে এক সময়ে...</td>\n",
       "    </tr>\n",
       "    <tr>\n",
       "      <th>5810</th>\n",
       "      <td>💮তুমি এলে তাই💮Part-20</td>\n",
       "      <td>Mou \"মৌ\"</td>\n",
       "      <td>#  তুমি_এলে_তাই  #  বাংলা  Medium    #  পর্ব_২...</td>\n",
       "      <td>2</td>\n",
       "      <td>তুমিএলেতাই বাংলা পর্ব একমনে ভাবছে অয়ন । ভাবনা ...</td>\n",
       "    </tr>\n",
       "  </tbody>\n",
       "</table>\n",
       "<p>5811 rows × 5 columns</p>\n",
       "</div>"
      ],
      "text/plain": [
       "                                      Title               Author  \\\n",
       "0               ❤তোর মতো কেউ নেই ❤...পর্ব ৭   রিমা ব্যানার্জি 🍁✒   \n",
       "1                            বড় হওয়ার গপ্পো         গৌরব বিশ্বাস   \n",
       "2                           রমেশের ডেলিভারি            সুজিত ঘোষ   \n",
       "3     Your_Love_Is_My_Addiction💖 part--- 12     মানাই ঘোষ \"তিথি\"   \n",
       "4              ♥️রোমান্টিক বসের ভালোবাসা ♥️           💞রিধি সেন💞   \n",
       "...                                     ...                  ...   \n",
       "5806            ডায়েরির শেষ পাতাটা পর্ব-৩২  Sadia Afrin \"Sarah\"   \n",
       "5807      The White Eyes- End of A journey.     Akash Chatterjee   \n",
       "5808                                   ফেরা     মধুমিতা মুখার্জী   \n",
       "5809                     খোপ থেকে বেরলো পোপ    Sudip Chakraborty   \n",
       "5810                  💮তুমি এলে তাই💮Part-20             Mou \"মৌ\"   \n",
       "\n",
       "                                                   Text  Category  \\\n",
       "0     ❤  পর্ব    ৭❤  বাড়িতে  পুজো  আছে  anniversary ...         2   \n",
       "1     এ  গল্প  আমার  বড়  হওয়ার  গল্প।  পাঠকগ্ণ  নিশ্...         1   \n",
       "2     টিং-টং  করে  দরজার  বেল  বাজালাম!ওপার  থেকে  আ...         0   \n",
       "3     Your  _Love_Is_My_Addiction💖  part---  12  .  ...         1   \n",
       "4     গল্প  :  রোমান্টিক  😍বসের  ভালোবাসা  পর্ব  :  ...         1   \n",
       "...                                                 ...       ...   \n",
       "5806  \"\"\"    দুটা  ক্লাস  করিয়েই  ছুটি  দিয়ে  দেওয...         2   \n",
       "5807  The  White  Eyes  -  End  of  A  journey  (এই ...         0   \n",
       "5808  বহুদিন  হল  বর্দ্ধমানের  দেশের  বাড়ির  কালি  প...         0   \n",
       "5809  আপনাদের  কি  কারো  স্মরণে  আছে  কোলকাতায়  আশির...         1   \n",
       "5810  #  তুমি_এলে_তাই  #  বাংলা  Medium    #  পর্ব_২...         2   \n",
       "\n",
       "                                             Clean_Text  \n",
       "0     পর্ব বাড়িতে পুজো টিয়া বলেছিল মাথায় রেখেই রুদ্র...  \n",
       "1     গল্প বড় হওয়ার গল্প । পাঠকগ্ণ নিশ্চই টানটান হয়ে...  \n",
       "2     টিংটং দরজার বেল বাজালামওপার আওয়াজ বললাম রমেশকি...  \n",
       "3     মিহুর বাবামার বিদায় গেলো মেঘ । মেঘের ঠোঁটের কো...  \n",
       "4     গল্প রোমান্টিক বসের ভালোবাসা পর্ব তানিয়া উফএই ...  \n",
       "...                                                 ...  \n",
       "5806  দুটা ক্লাস করিয়েই ছুটি । স্টুডেন্ট কোটা একটা ...  \n",
       "5807  গল্প পড়ার আগের অংশ আপনাদের পড়তে নাহলে বুঝতে ...  \n",
       "5808  বহুদিন বর্দ্ধমানের দেশের বাড়ির কালি পুজোয় যায়ন...  \n",
       "5809  আপনাদের কারো স্মরণে কোলকাতায় আশির দশকে এক সময়ে...  \n",
       "5810  তুমিএলেতাই বাংলা পর্ব একমনে ভাবছে অয়ন । ভাবনা ...  \n",
       "\n",
       "[5811 rows x 5 columns]"
      ]
     },
     "execution_count": 24,
     "metadata": {},
     "output_type": "execute_result"
    }
   ],
   "source": [
    "msg"
   ]
  },
  {
   "cell_type": "code",
   "execution_count": 25,
   "metadata": {},
   "outputs": [],
   "source": [
    "df = msg"
   ]
  },
  {
   "cell_type": "code",
   "execution_count": 26,
   "metadata": {},
   "outputs": [
    {
     "data": {
      "text/plain": [
       "Title         0\n",
       "Author        0\n",
       "Text          0\n",
       "Category      0\n",
       "Clean_Text    0\n",
       "dtype: int64"
      ]
     },
     "execution_count": 26,
     "metadata": {},
     "output_type": "execute_result"
    }
   ],
   "source": [
    "# Check NA counts\n",
    "df.isnull().sum()"
   ]
  },
  {
   "cell_type": "code",
   "execution_count": 27,
   "metadata": {},
   "outputs": [
    {
     "data": {
      "text/plain": [
       "1    2000\n",
       "2    2000\n",
       "0    1811\n",
       "Name: Category, dtype: int64"
      ]
     },
     "execution_count": 27,
     "metadata": {},
     "output_type": "execute_result"
    }
   ],
   "source": [
    "pd.value_counts(df.Category)"
   ]
  },
  {
   "cell_type": "code",
   "execution_count": 28,
   "metadata": {},
   "outputs": [],
   "source": [
    "df = df.sample(frac=1).reset_index(drop=True)"
   ]
  },
  {
   "cell_type": "code",
   "execution_count": 29,
   "metadata": {},
   "outputs": [
    {
     "data": {
      "text/html": [
       "<div>\n",
       "<style scoped>\n",
       "    .dataframe tbody tr th:only-of-type {\n",
       "        vertical-align: middle;\n",
       "    }\n",
       "\n",
       "    .dataframe tbody tr th {\n",
       "        vertical-align: top;\n",
       "    }\n",
       "\n",
       "    .dataframe thead th {\n",
       "        text-align: right;\n",
       "    }\n",
       "</style>\n",
       "<table border=\"1\" class=\"dataframe\">\n",
       "  <thead>\n",
       "    <tr style=\"text-align: right;\">\n",
       "      <th></th>\n",
       "      <th>Title</th>\n",
       "      <th>Author</th>\n",
       "      <th>Text</th>\n",
       "      <th>Category</th>\n",
       "      <th>Clean_Text</th>\n",
       "    </tr>\n",
       "  </thead>\n",
       "  <tbody>\n",
       "    <tr>\n",
       "      <th>0</th>\n",
       "      <td>বিবাহ বিভ্রাট।।22।।</td>\n",
       "      <td>Sarmistha</td>\n",
       "      <td>অর্পন--আর  যদি  ইও  টিউব  দেখে  বাজিমাত  করে  ...</td>\n",
       "      <td>2</td>\n",
       "      <td>অর্পনআর ইও টিউব বাজিমাত নেয় অনির্বানআরে ফোন নি...</td>\n",
       "    </tr>\n",
       "    <tr>\n",
       "      <th>1</th>\n",
       "      <td>বিবশ রজনী পর্ব : ৮</td>\n",
       "      <td>Rayhan Ahmed \"♔ King Of Romance ♚\"</td>\n",
       "      <td>তারিখ  নিয়ে  ভাবতে  ভাবতে  নিজাম  সাহেব  বেশ  ...</td>\n",
       "      <td>0</td>\n",
       "      <td>তারিখ ভাবতে ভাবতে নিজাম সাহেব বিভ্রান্তিতে পড়ে...</td>\n",
       "    </tr>\n",
       "    <tr>\n",
       "      <th>2</th>\n",
       "      <td>মরুদেশের প্রেতপুরী অন্তিম পর্ব ভৌতিক উপন্যাস</td>\n",
       "      <td>Sanchari Bhattacharya \"কঙ্কন\"</td>\n",
       "      <td>মরুদেশের  প্রেতপুরী    অন্তিম  পর্ব    ভৌতিক  ...</td>\n",
       "      <td>0</td>\n",
       "      <td>মরুদেশের প্রেতপুরী অন্তিম পর্ব ভৌতিক উপন্যাস প...</td>\n",
       "    </tr>\n",
       "    <tr>\n",
       "      <th>3</th>\n",
       "      <td>আতঙ্ক (অন্তিম পর্ব)</td>\n",
       "      <td>Saswati Roy</td>\n",
       "      <td>#সাইকিয়াট্রিস্টের_কাছে    -  তোমার  নাম  কি?  ...</td>\n",
       "      <td>0</td>\n",
       "      <td>সাইকিয়াট্রিস্টেরকাছে নাম রাগিণী । রাগিণী সেন ।...</td>\n",
       "    </tr>\n",
       "    <tr>\n",
       "      <th>4</th>\n",
       "      <td>হান্টার হাউস লঞ্চ হল</td>\n",
       "      <td>Sharmistha Bhatt</td>\n",
       "      <td>(নুনগোলার  পর  )    আমার  মামীর  হঠাৎ  এক  মার...</td>\n",
       "      <td>0</td>\n",
       "      <td>নুনগোলার মামীর হঠাৎ এক মারাত্মক ব্যাধি সিঁড়িত...</td>\n",
       "    </tr>\n",
       "    <tr>\n",
       "      <th>...</th>\n",
       "      <td>...</td>\n",
       "      <td>...</td>\n",
       "      <td>...</td>\n",
       "      <td>...</td>\n",
       "      <td>...</td>\n",
       "    </tr>\n",
       "    <tr>\n",
       "      <th>5806</th>\n",
       "      <td>এই পথ শেষ তোমাতেই(পর্ব তিরিশ)</td>\n",
       "      <td>শুচিস্মিতা মল্লিক \"হিয়া\"</td>\n",
       "      <td>ওদিকে  রাত  তখন  গড়িয়ে  ঘড়ির  কাঁটা  তিনটের  ঘ...</td>\n",
       "      <td>2</td>\n",
       "      <td>ওদিকে রাত গড়িয়ে ঘড়ির কাঁটা তিনটের ঘর ছুঁইছুঁই ...</td>\n",
       "    </tr>\n",
       "    <tr>\n",
       "      <th>5807</th>\n",
       "      <td>#পুরীতে_কালী_দর্শন: #ত্রিনয়ন</td>\n",
       "      <td>SUDIP PAL</td>\n",
       "      <td>~~~~~~~~~~~~~~~~~~~  উহু,  এটা  কোনো  তীর্থ  ভ...</td>\n",
       "      <td>0</td>\n",
       "      <td>উহু তীর্থ ভ্রমনের গল্প । একটু অদ্ভুত নাম হয়ে প...</td>\n",
       "    </tr>\n",
       "    <tr>\n",
       "      <th>5808</th>\n",
       "      <td>বাগানবাড়ির রহস্য</td>\n",
       "      <td>Tarak Ahmed \"তরু\"</td>\n",
       "      <td>আনন্দ-নগর  গ্রাম..।  আজ  দশ-বারোদিন  হলো  বাবা...</td>\n",
       "      <td>0</td>\n",
       "      <td>আনন্দনগর গ্রাম । দশবারোদিন বাবার পোস্টিং হয়েছে...</td>\n",
       "    </tr>\n",
       "    <tr>\n",
       "      <th>5809</th>\n",
       "      <td>কন্যা</td>\n",
       "      <td>সুজিত ঘোষ</td>\n",
       "      <td>চারিদিক  নিস্তব্ধ।ঘর  হালকা  অন্ধকারে  ঢেকে  র...</td>\n",
       "      <td>0</td>\n",
       "      <td>চারিদিক নিস্তব্ধ । ঘর হালকা অন্ধকারে ঢেকে রয়েছ...</td>\n",
       "    </tr>\n",
       "    <tr>\n",
       "      <th>5810</th>\n",
       "      <td>একটি ভালোবাসার গল্প(অন্তিম পর্ব)</td>\n",
       "      <td>Sayani Mahapatra \"সায়নী মহাপাত্র\"</td>\n",
       "      <td>💖একটি  ভালোবাসার  গল্প💖     ...</td>\n",
       "      <td>2</td>\n",
       "      <td>ভালোবাসার গল্প পর্ব ছমাস মিঠি অনিকেত হানিমুন আ...</td>\n",
       "    </tr>\n",
       "  </tbody>\n",
       "</table>\n",
       "<p>5811 rows × 5 columns</p>\n",
       "</div>"
      ],
      "text/plain": [
       "                                             Title  \\\n",
       "0                              বিবাহ বিভ্রাট।।22।।   \n",
       "1                               বিবশ রজনী পর্ব : ৮   \n",
       "2     মরুদেশের প্রেতপুরী অন্তিম পর্ব ভৌতিক উপন্যাস   \n",
       "3                              আতঙ্ক (অন্তিম পর্ব)   \n",
       "4                             হান্টার হাউস লঞ্চ হল   \n",
       "...                                            ...   \n",
       "5806                 এই পথ শেষ তোমাতেই(পর্ব তিরিশ)   \n",
       "5807                  #পুরীতে_কালী_দর্শন: #ত্রিনয়ন   \n",
       "5808                              বাগানবাড়ির রহস্য   \n",
       "5809                                         কন্যা   \n",
       "5810              একটি ভালোবাসার গল্প(অন্তিম পর্ব)   \n",
       "\n",
       "                                  Author  \\\n",
       "0                              Sarmistha   \n",
       "1     Rayhan Ahmed \"♔ King Of Romance ♚\"   \n",
       "2          Sanchari Bhattacharya \"কঙ্কন\"   \n",
       "3                            Saswati Roy   \n",
       "4                       Sharmistha Bhatt   \n",
       "...                                  ...   \n",
       "5806            শুচিস্মিতা মল্লিক \"হিয়া\"   \n",
       "5807                           SUDIP PAL   \n",
       "5808                   Tarak Ahmed \"তরু\"   \n",
       "5809                           সুজিত ঘোষ   \n",
       "5810   Sayani Mahapatra \"সায়নী মহাপাত্র\"   \n",
       "\n",
       "                                                   Text  Category  \\\n",
       "0     অর্পন--আর  যদি  ইও  টিউব  দেখে  বাজিমাত  করে  ...         2   \n",
       "1     তারিখ  নিয়ে  ভাবতে  ভাবতে  নিজাম  সাহেব  বেশ  ...         0   \n",
       "2     মরুদেশের  প্রেতপুরী    অন্তিম  পর্ব    ভৌতিক  ...         0   \n",
       "3     #সাইকিয়াট্রিস্টের_কাছে    -  তোমার  নাম  কি?  ...         0   \n",
       "4     (নুনগোলার  পর  )    আমার  মামীর  হঠাৎ  এক  মার...         0   \n",
       "...                                                 ...       ...   \n",
       "5806  ওদিকে  রাত  তখন  গড়িয়ে  ঘড়ির  কাঁটা  তিনটের  ঘ...         2   \n",
       "5807  ~~~~~~~~~~~~~~~~~~~  উহু,  এটা  কোনো  তীর্থ  ভ...         0   \n",
       "5808  আনন্দ-নগর  গ্রাম..।  আজ  দশ-বারোদিন  হলো  বাবা...         0   \n",
       "5809  চারিদিক  নিস্তব্ধ।ঘর  হালকা  অন্ধকারে  ঢেকে  র...         0   \n",
       "5810                    💖একটি  ভালোবাসার  গল্প💖     ...         2   \n",
       "\n",
       "                                             Clean_Text  \n",
       "0     অর্পনআর ইও টিউব বাজিমাত নেয় অনির্বানআরে ফোন নি...  \n",
       "1     তারিখ ভাবতে ভাবতে নিজাম সাহেব বিভ্রান্তিতে পড়ে...  \n",
       "2     মরুদেশের প্রেতপুরী অন্তিম পর্ব ভৌতিক উপন্যাস প...  \n",
       "3     সাইকিয়াট্রিস্টেরকাছে নাম রাগিণী । রাগিণী সেন ।...  \n",
       "4     নুনগোলার মামীর হঠাৎ এক মারাত্মক ব্যাধি সিঁড়িত...  \n",
       "...                                                 ...  \n",
       "5806  ওদিকে রাত গড়িয়ে ঘড়ির কাঁটা তিনটের ঘর ছুঁইছুঁই ...  \n",
       "5807  উহু তীর্থ ভ্রমনের গল্প । একটু অদ্ভুত নাম হয়ে প...  \n",
       "5808  আনন্দনগর গ্রাম । দশবারোদিন বাবার পোস্টিং হয়েছে...  \n",
       "5809  চারিদিক নিস্তব্ধ । ঘর হালকা অন্ধকারে ঢেকে রয়েছ...  \n",
       "5810  ভালোবাসার গল্প পর্ব ছমাস মিঠি অনিকেত হানিমুন আ...  \n",
       "\n",
       "[5811 rows x 5 columns]"
      ]
     },
     "execution_count": 29,
     "metadata": {},
     "output_type": "execute_result"
    }
   ],
   "source": [
    "df"
   ]
  },
  {
   "cell_type": "code",
   "execution_count": 30,
   "metadata": {},
   "outputs": [
    {
     "data": {
      "text/plain": [
       "{0, 1, 2}"
      ]
     },
     "execution_count": 30,
     "metadata": {},
     "output_type": "execute_result"
    }
   ],
   "source": [
    "set(df.Category)\n"
   ]
  },
  {
   "cell_type": "code",
   "execution_count": 58,
   "metadata": {},
   "outputs": [],
   "source": [
    "%matplotlib inline\n",
    "import re\n",
    "import matplotlib\n",
    "import numpy as np\n",
    "import matplotlib.pyplot as plt\n",
    "import pandas as pd\n",
    "from sklearn.model_selection import train_test_split\n",
    "from sklearn.feature_extraction.text import CountVectorizer\n",
    "from sklearn.feature_extraction.text import TfidfVectorizer\n",
    "from sklearn.naive_bayes import MultinomialNB\n",
    "from sklearn.metrics import accuracy_score\n",
    "from sklearn.multiclass import OneVsRestClassifier\n",
    "from bnlp.corpus import stopwords\n",
    "from bnlp.corpus.util import remove_stopwords\n",
    "from sklearn.svm import LinearSVC\n",
    "from sklearn.linear_model import LogisticRegression\n",
    "from sklearn.pipeline import Pipeline\n",
    "import seaborn as sns"
   ]
  },
  {
   "cell_type": "code",
   "execution_count": 59,
   "metadata": {},
   "outputs": [],
   "source": [
    "train, test = train_test_split(df, random_state=42, test_size=0.10, shuffle=True)"
   ]
  },
  {
   "cell_type": "code",
   "execution_count": 60,
   "metadata": {},
   "outputs": [
    {
     "name": "stdout",
     "output_type": "stream",
     "text": [
      "(5229,)\n",
      "(582,)\n"
     ]
    }
   ],
   "source": [
    "X_train = train.Clean_Text\n",
    "X_test = test.Clean_Text\n",
    "print(X_train.shape)\n",
    "print(X_test.shape)"
   ]
  },
  {
   "cell_type": "code",
   "execution_count": 61,
   "metadata": {},
   "outputs": [
    {
     "name": "stdout",
     "output_type": "stream",
     "text": [
      "(5229,)\n",
      "(582,)\n"
     ]
    }
   ],
   "source": [
    "Y_train = train.Category\n",
    "Y_test = test.Category\n",
    "print(Y_train.shape)\n",
    "print(Y_test.shape)"
   ]
  },
  {
   "cell_type": "code",
   "execution_count": 62,
   "metadata": {},
   "outputs": [],
   "source": [
    "# Define a pipeline combining a text feature extractor with multi lable classifier\n",
    "NB_pipeline = Pipeline([\n",
    "                ('tfidf', TfidfVectorizer(stopwords)),\n",
    "                ('clf', OneVsRestClassifier(MultinomialNB(\n",
    "                    fit_prior=True, class_prior=None))),\n",
    "            ])"
   ]
  },
  {
   "cell_type": "code",
   "execution_count": 63,
   "metadata": {},
   "outputs": [],
   "source": [
    "categories = ['0','1','2']\n"
   ]
  },
  {
   "cell_type": "code",
   "execution_count": 64,
   "metadata": {},
   "outputs": [
    {
     "name": "stdout",
     "output_type": "stream",
     "text": [
      "Test accuracy is 0.7560137457044673\n"
     ]
    }
   ],
   "source": [
    "\n",
    "# train the model using X_dtm & y\n",
    "NB_pipeline.fit(X_train, Y_train)\n",
    "# compute the testing accuracy\n",
    "prediction = NB_pipeline.predict(X_test)\n",
    "print('Test accuracy is {}'.format(accuracy_score(Y_test, prediction)))"
   ]
  },
  {
   "cell_type": "code",
   "execution_count": 65,
   "metadata": {},
   "outputs": [
    {
     "name": "stdout",
     "output_type": "stream",
     "text": [
      "Accuracy metrics\n",
      "Accuracy of the classifer is 0.7560137457044673\n",
      "Confusion matrix\n",
      "[[174  11  14]\n",
      " [ 28 124  44]\n",
      " [ 22  23 142]]\n"
     ]
    }
   ],
   "source": [
    "from sklearn import metrics\n",
    "print('Accuracy metrics')\n",
    "print('Accuracy of the classifer is',metrics.accuracy_score(Y_test, prediction))\n",
    "print('Confusion matrix')\n",
    "print(metrics.confusion_matrix(Y_test, prediction))"
   ]
  },
  {
   "cell_type": "code",
   "execution_count": 66,
   "metadata": {},
   "outputs": [
    {
     "name": "stdout",
     "output_type": "stream",
     "text": [
      "              precision    recall  f1-score   support\n",
      "\n",
      "     Class 0       0.78      0.87      0.82       199\n",
      "     Class 1       0.78      0.63      0.70       196\n",
      "     Class 2       0.71      0.76      0.73       187\n",
      "\n",
      "    accuracy                           0.76       582\n",
      "   macro avg       0.76      0.76      0.75       582\n",
      "weighted avg       0.76      0.76      0.75       582\n",
      "\n"
     ]
    }
   ],
   "source": [
    "from sklearn.metrics import classification_report\n",
    "target_names = [\"Class {}\".format(i) for i in range(3)]\n",
    "print(classification_report(Y_test, prediction, target_names=target_names))"
   ]
  },
  {
   "cell_type": "code",
   "execution_count": 67,
   "metadata": {},
   "outputs": [],
   "source": [
    "class_n = set(df.Category)"
   ]
  },
  {
   "cell_type": "code",
   "execution_count": 68,
   "metadata": {},
   "outputs": [
    {
     "data": {
      "text/plain": [
       "{0, 1, 2}"
      ]
     },
     "execution_count": 68,
     "metadata": {},
     "output_type": "execute_result"
    }
   ],
   "source": [
    "class_n"
   ]
  },
  {
   "cell_type": "code",
   "execution_count": 70,
   "metadata": {},
   "outputs": [
    {
     "name": "stdout",
     "output_type": "stream",
     "text": [
      "Automatically created module for IPython interactive environment\n",
      "Confusion matrix, without normalization\n",
      "[[174  11  14]\n",
      " [ 28 124  44]\n",
      " [ 22  23 142]]\n",
      "Normalized confusion matrix\n",
      "[[0.87 0.06 0.07]\n",
      " [0.14 0.63 0.22]\n",
      " [0.12 0.12 0.76]]\n"
     ]
    },
    {
     "data": {
      "image/png": "[encoded data removed]",
      "text/plain": [
       "<Figure size 432x288 with 2 Axes>"
      ]
     },
     "metadata": {
      "needs_background": "light"
     },
     "output_type": "display_data"
    },
    {
     "data": {
      "image/png": "[encoded data removed]",
      "text/plain": [
       "<Figure size 432x288 with 2 Axes>"
      ]
     },
     "metadata": {
      "needs_background": "light"
     },
     "output_type": "display_data"
    }
   ],
   "source": [
    "print(__doc__)\n",
    "\n",
    "import numpy as np\n",
    "import matplotlib.pyplot as plt\n",
    "\n",
    "#from sklearn import svm, datasets\n",
    "#from sklearn.model_selection import train_test_split\n",
    "from sklearn.metrics import plot_confusion_matrix\n",
    "\n",
    "# import some data to play with\n",
    "#iris = datasets.load_iris()\n",
    "#X = iris.data\n",
    "#y = iris.target\n",
    "class_names = set(df.Category)\n",
    "\n",
    "# Split the data into a training set and a test set\n",
    "#X_train, X_test, y_train, y_test = train_test_split(X, y, random_state=0)\n",
    "\n",
    "# Run classifier, using a model that is too regularized (C too low) to see\n",
    "# the impact on the results\n",
    "#classifier = svm.SVC(kernel='linear', C=0.01).fit(X_train, y_train)\n",
    "\n",
    "np.set_printoptions(precision=2)\n",
    "\n",
    "# Plot non-normalized confusion matrix\n",
    "titles_options = [(\"Confusion matrix, without normalization\", None),\n",
    "                  (\"Normalized confusion matrix\", 'true')]\n",
    "for title, normalize in titles_options:\n",
    "    disp = plot_confusion_matrix(NB_pipeline, X_test, Y_test,\n",
    "                                 display_labels=class_names,\n",
    "                                 cmap=plt.cm.Blues,\n",
    "                                 normalize=normalize)\n",
    "    disp.ax_.set_title(title)\n",
    "\n",
    "    print(title)\n",
    "    print(disp.confusion_matrix)\n",
    "\n",
    "plt.show()"
   ]
  },
  {
   "cell_type": "code",
   "execution_count": null,
   "metadata": {},
   "outputs": [],
   "source": []
  }
 ],
 "metadata": {
  "kernelspec": {
   "display_name": "Python 3",
   "language": "python",
   "name": "python3"
  },
  "language_info": {
   "codemirror_mode": {
    "name": "ipython",
    "version": 3
   },
   "file_extension": ".py",
   "mimetype": "text/x-python",
   "name": "python",
   "nbconvert_exporter": "python",
   "pygments_lexer": "ipython3",
   "version": "3.8.10"
  }
 },
 "nbformat": 4,
 "nbformat_minor": 4
}

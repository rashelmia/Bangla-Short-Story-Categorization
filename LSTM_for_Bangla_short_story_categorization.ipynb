{
  "nbformat": 4,
  "nbformat_minor": 0,
  "metadata": {
    "colab": {
      "name": "LSTM for Bangla short story categorization.ipynb",
      "provenance": [],
      "authorship_tag": "ABX9TyOPSXPk7HID+e6zZMJ+4xCu",
      "include_colab_link": true
    },
    "kernelspec": {
      "name": "python3",
      "display_name": "Python 3"
    },
    "language_info": {
      "name": "python"
    },
    "accelerator": "GPU"
  },
  "cells": [
    {
      "cell_type": "markdown",
      "metadata": {
        "id": "view-in-github",
        "colab_type": "text"
      },
      "source": [
        "<a href=\"https://colab.research.google.com/github/rashelmia/Bangla-Short-Story-Categorization/blob/main/LSTM_for_Bangla_short_story_categorization.ipynb\" target=\"_parent\"><img src=\"https://colab.research.google.com/assets/colab-badge.svg\" alt=\"Open In Colab\"/></a>"
      ]
    },
    {
      "cell_type": "code",
      "metadata": {
        "id": "Tw7eNmkNR9qx"
      },
      "source": [
        "import numpy as np # linear algebra\n",
        "import pandas as pd # data processing, CSV file I/O (e.g. pd.read_csv)\n",
        "import os\n",
        "import pandas as pd\n",
        "import numpy as np\n",
        "from matplotlib import pyplot as plt\n",
        "import seaborn as sns\n",
        "from sklearn.feature_extraction.text import CountVectorizer\n",
        "from sklearn.model_selection import train_test_split\n",
        "from sklearn.metrics import accuracy_score, confusion_matrix, classification_report"
      ],
      "execution_count": null,
      "outputs": []
    },
    {
      "cell_type": "code",
      "metadata": {
        "colab": {
          "base_uri": "https://localhost:8080/"
        },
        "id": "soncdH0TSGYB",
        "outputId": "7ed9c72f-8ba5-4014-eb4a-a250d8e49a38"
      },
      "source": [
        "from google.colab import drive\n",
        "drive.mount('/content/gdrive')"
      ],
      "execution_count": null,
      "outputs": [
        {
          "output_type": "stream",
          "text": [
            "Mounted at /content/gdrive\n"
          ],
          "name": "stdout"
        }
      ]
    },
    {
      "cell_type": "code",
      "metadata": {
        "id": "c9TtYmpgSJAl"
      },
      "source": [
        "df = pd.read_csv('/content/gdrive/My Drive/cleaned_dataset.csv')"
      ],
      "execution_count": null,
      "outputs": []
    },
    {
      "cell_type": "code",
      "metadata": {
        "colab": {
          "base_uri": "https://localhost:8080/",
          "height": 470
        },
        "id": "Ufdy3gfvSQHG",
        "outputId": "b874870b-8e7e-455a-810b-bb5e87a43c70"
      },
      "source": [
        "df"
      ],
      "execution_count": null,
      "outputs": [
        {
          "output_type": "execute_result",
          "data": {
            "text/html": [
              "<div>\n",
              "<style scoped>\n",
              "    .dataframe tbody tr th:only-of-type {\n",
              "        vertical-align: middle;\n",
              "    }\n",
              "\n",
              "    .dataframe tbody tr th {\n",
              "        vertical-align: top;\n",
              "    }\n",
              "\n",
              "    .dataframe thead th {\n",
              "        text-align: right;\n",
              "    }\n",
              "</style>\n",
              "<table border=\"1\" class=\"dataframe\">\n",
              "  <thead>\n",
              "    <tr style=\"text-align: right;\">\n",
              "      <th></th>\n",
              "      <th>Title</th>\n",
              "      <th>Author</th>\n",
              "      <th>Text</th>\n",
              "      <th>Category</th>\n",
              "      <th>Clean_Text</th>\n",
              "    </tr>\n",
              "  </thead>\n",
              "  <tbody>\n",
              "    <tr>\n",
              "      <th>0</th>\n",
              "      <td>❤তোর মতো কেউ নেই ❤...পর্ব ৭</td>\n",
              "      <td>রিমা ব্যানার্জি 🍁✒</td>\n",
              "      <td>❤  পর্ব    ৭❤  বাড়িতে  পুজো  আছে  anniversary ...</td>\n",
              "      <td>2</td>\n",
              "      <td>পর্ব বাড়িতে পুজো টিয়া বলেছিল মাথায় রেখেই রুদ্র...</td>\n",
              "    </tr>\n",
              "    <tr>\n",
              "      <th>1</th>\n",
              "      <td>বড় হওয়ার গপ্পো</td>\n",
              "      <td>গৌরব বিশ্বাস</td>\n",
              "      <td>এ  গল্প  আমার  বড়  হওয়ার  গল্প।  পাঠকগ্ণ  নিশ্...</td>\n",
              "      <td>1</td>\n",
              "      <td>গল্প বড় হওয়ার গল্প । পাঠকগ্ণ নিশ্চই টানটান হয়ে...</td>\n",
              "    </tr>\n",
              "    <tr>\n",
              "      <th>2</th>\n",
              "      <td>রমেশের ডেলিভারি</td>\n",
              "      <td>সুজিত ঘোষ</td>\n",
              "      <td>টিং-টং  করে  দরজার  বেল  বাজালাম!ওপার  থেকে  আ...</td>\n",
              "      <td>0</td>\n",
              "      <td>টিংটং দরজার বেল বাজালামওপার আওয়াজ বললাম রমেশকি...</td>\n",
              "    </tr>\n",
              "    <tr>\n",
              "      <th>3</th>\n",
              "      <td>Your_Love_Is_My_Addiction💖 part--- 12</td>\n",
              "      <td>মানাই ঘোষ \"তিথি\"</td>\n",
              "      <td>Your  _Love_Is_My_Addiction💖  part---  12  .  ...</td>\n",
              "      <td>1</td>\n",
              "      <td>মিহুর বাবামার বিদায় গেলো মেঘ । মেঘের ঠোঁটের কো...</td>\n",
              "    </tr>\n",
              "    <tr>\n",
              "      <th>4</th>\n",
              "      <td>♥️রোমান্টিক বসের ভালোবাসা ♥️</td>\n",
              "      <td>💞রিধি সেন💞</td>\n",
              "      <td>গল্প  :  রোমান্টিক  😍বসের  ভালোবাসা  পর্ব  :  ...</td>\n",
              "      <td>1</td>\n",
              "      <td>গল্প রোমান্টিক বসের ভালোবাসা পর্ব তানিয়া উফএই ...</td>\n",
              "    </tr>\n",
              "    <tr>\n",
              "      <th>...</th>\n",
              "      <td>...</td>\n",
              "      <td>...</td>\n",
              "      <td>...</td>\n",
              "      <td>...</td>\n",
              "      <td>...</td>\n",
              "    </tr>\n",
              "    <tr>\n",
              "      <th>5806</th>\n",
              "      <td>ডায়েরির শেষ পাতাটা পর্ব-৩২</td>\n",
              "      <td>Sadia Afrin \"Sarah\"</td>\n",
              "      <td>\"\"\"    দুটা  ক্লাস  করিয়েই  ছুটি  দিয়ে  দেওয...</td>\n",
              "      <td>2</td>\n",
              "      <td>দুটা ক্লাস করিয়েই ছুটি । স্টুডেন্ট কোটা একটা ...</td>\n",
              "    </tr>\n",
              "    <tr>\n",
              "      <th>5807</th>\n",
              "      <td>The White Eyes- End of A journey.</td>\n",
              "      <td>Akash Chatterjee</td>\n",
              "      <td>The  White  Eyes  -  End  of  A  journey  (এই ...</td>\n",
              "      <td>0</td>\n",
              "      <td>গল্প পড়ার আগের অংশ আপনাদের পড়তে নাহলে বুঝতে ...</td>\n",
              "    </tr>\n",
              "    <tr>\n",
              "      <th>5808</th>\n",
              "      <td>ফেরা</td>\n",
              "      <td>মধুমিতা মুখার্জী</td>\n",
              "      <td>বহুদিন  হল  বর্দ্ধমানের  দেশের  বাড়ির  কালি  প...</td>\n",
              "      <td>0</td>\n",
              "      <td>বহুদিন বর্দ্ধমানের দেশের বাড়ির কালি পুজোয় যায়ন...</td>\n",
              "    </tr>\n",
              "    <tr>\n",
              "      <th>5809</th>\n",
              "      <td>খোপ থেকে বেরলো পোপ</td>\n",
              "      <td>Sudip Chakraborty</td>\n",
              "      <td>আপনাদের  কি  কারো  স্মরণে  আছে  কোলকাতায়  আশির...</td>\n",
              "      <td>1</td>\n",
              "      <td>আপনাদের কারো স্মরণে কোলকাতায় আশির দশকে এক সময়ে...</td>\n",
              "    </tr>\n",
              "    <tr>\n",
              "      <th>5810</th>\n",
              "      <td>💮তুমি এলে তাই💮Part-20</td>\n",
              "      <td>Mou \"মৌ\"</td>\n",
              "      <td>#  তুমি_এলে_তাই  #  বাংলা  Medium    #  পর্ব_২...</td>\n",
              "      <td>2</td>\n",
              "      <td>তুমিএলেতাই বাংলা পর্ব একমনে ভাবছে অয়ন । ভাবনা ...</td>\n",
              "    </tr>\n",
              "  </tbody>\n",
              "</table>\n",
              "<p>5811 rows × 5 columns</p>\n",
              "</div>"
            ],
            "text/plain": [
              "                                      Title  ...                                         Clean_Text\n",
              "0               ❤তোর মতো কেউ নেই ❤...পর্ব ৭  ...  পর্ব বাড়িতে পুজো টিয়া বলেছিল মাথায় রেখেই রুদ্র...\n",
              "1                            বড় হওয়ার গপ্পো  ...  গল্প বড় হওয়ার গল্প । পাঠকগ্ণ নিশ্চই টানটান হয়ে...\n",
              "2                           রমেশের ডেলিভারি  ...  টিংটং দরজার বেল বাজালামওপার আওয়াজ বললাম রমেশকি...\n",
              "3     Your_Love_Is_My_Addiction💖 part--- 12  ...  মিহুর বাবামার বিদায় গেলো মেঘ । মেঘের ঠোঁটের কো...\n",
              "4              ♥️রোমান্টিক বসের ভালোবাসা ♥️  ...  গল্প রোমান্টিক বসের ভালোবাসা পর্ব তানিয়া উফএই ...\n",
              "...                                     ...  ...                                                ...\n",
              "5806            ডায়েরির শেষ পাতাটা পর্ব-৩২  ...  দুটা ক্লাস করিয়েই ছুটি । স্টুডেন্ট কোটা একটা ...\n",
              "5807      The White Eyes- End of A journey.  ...  গল্প পড়ার আগের অংশ আপনাদের পড়তে নাহলে বুঝতে ...\n",
              "5808                                   ফেরা  ...  বহুদিন বর্দ্ধমানের দেশের বাড়ির কালি পুজোয় যায়ন...\n",
              "5809                     খোপ থেকে বেরলো পোপ  ...  আপনাদের কারো স্মরণে কোলকাতায় আশির দশকে এক সময়ে...\n",
              "5810                  💮তুমি এলে তাই💮Part-20  ...  তুমিএলেতাই বাংলা পর্ব একমনে ভাবছে অয়ন । ভাবনা ...\n",
              "\n",
              "[5811 rows x 5 columns]"
            ]
          },
          "metadata": {
            "tags": []
          },
          "execution_count": 6
        }
      ]
    },
    {
      "cell_type": "code",
      "metadata": {
        "colab": {
          "base_uri": "https://localhost:8080/"
        },
        "id": "Y9p2YIQ6STJl",
        "outputId": "ac67d674-d23d-4f12-a04e-dc1a01844dfb"
      },
      "source": [
        "# Check NA counts\n",
        "df.isnull().sum()"
      ],
      "execution_count": null,
      "outputs": [
        {
          "output_type": "execute_result",
          "data": {
            "text/plain": [
              "Title         0\n",
              "Author        0\n",
              "Text          0\n",
              "Category      0\n",
              "Clean_Text    0\n",
              "dtype: int64"
            ]
          },
          "metadata": {
            "tags": []
          },
          "execution_count": 7
        }
      ]
    },
    {
      "cell_type": "code",
      "metadata": {
        "colab": {
          "base_uri": "https://localhost:8080/"
        },
        "id": "AR4tXWy0Sc8l",
        "outputId": "b8f0ffed-2ada-4f1d-c43e-86714d0ac0dc"
      },
      "source": [
        "pd.value_counts(df.Category)\n"
      ],
      "execution_count": null,
      "outputs": [
        {
          "output_type": "execute_result",
          "data": {
            "text/plain": [
              "2    2000\n",
              "1    2000\n",
              "0    1811\n",
              "Name: Category, dtype: int64"
            ]
          },
          "metadata": {
            "tags": []
          },
          "execution_count": 8
        }
      ]
    },
    {
      "cell_type": "code",
      "metadata": {
        "id": "EWAPqePSSfDO"
      },
      "source": [
        "df = df.sample(frac=1).reset_index(drop=True)"
      ],
      "execution_count": null,
      "outputs": []
    },
    {
      "cell_type": "code",
      "metadata": {
        "colab": {
          "base_uri": "https://localhost:8080/"
        },
        "id": "kwUoJN6fSg_n",
        "outputId": "a31194f8-d555-4f58-ad3d-99da01b4f21a"
      },
      "source": [
        "set(df.Category)\n"
      ],
      "execution_count": null,
      "outputs": [
        {
          "output_type": "execute_result",
          "data": {
            "text/plain": [
              "{0, 1, 2}"
            ]
          },
          "metadata": {
            "tags": []
          },
          "execution_count": 10
        }
      ]
    },
    {
      "cell_type": "code",
      "metadata": {
        "colab": {
          "base_uri": "https://localhost:8080/"
        },
        "id": "hrPFIEtkSi2P",
        "outputId": "7eab2519-b264-45f7-d9a7-07dd398bf8ca"
      },
      "source": [
        "# Drop rows with missing values\n",
        "model_f = df.dropna()\n",
        "print(model_f.shape[0])"
      ],
      "execution_count": null,
      "outputs": [
        {
          "output_type": "stream",
          "text": [
            "5811\n"
          ],
          "name": "stdout"
        }
      ]
    },
    {
      "cell_type": "code",
      "metadata": {
        "colab": {
          "base_uri": "https://localhost:8080/",
          "height": 401
        },
        "id": "JfrXqL_6Sk2v",
        "outputId": "a810f62a-82e1-4cb2-8de9-202e1f87c4d0"
      },
      "source": [
        "# Look at classification type counts\n",
        "counts = model_f.Category.value_counts()\n",
        "print(counts)\n",
        "#plot counts\n",
        "plt.figure()\n",
        "sns.distplot(counts, hist = False, color = 'purple')\n",
        "plt.ylabel('% of records')\n",
        "plt.show()"
      ],
      "execution_count": null,
      "outputs": [
        {
          "output_type": "stream",
          "text": [
            "2    2000\n",
            "1    2000\n",
            "0    1811\n",
            "Name: Category, dtype: int64\n"
          ],
          "name": "stdout"
        },
        {
          "output_type": "stream",
          "text": [
            "/usr/local/lib/python3.7/dist-packages/seaborn/distributions.py:2557: FutureWarning: `distplot` is a deprecated function and will be removed in a future version. Please adapt your code to use either `displot` (a figure-level function with similar flexibility) or `kdeplot` (an axes-level function for kernel density plots).\n",
            "  warnings.warn(msg, FutureWarning)\n"
          ],
          "name": "stderr"
        },
        {
          "output_type": "display_data",
          "data": {
            "image/png": "[encoded data removed]",
            "text/plain": [
              "<Figure size 432x288 with 1 Axes>"
            ]
          },
          "metadata": {
            "tags": [],
            "needs_background": "light"
          }
        }
      ]
    },
    {
      "cell_type": "code",
      "metadata": {
        "colab": {
          "base_uri": "https://localhost:8080/"
        },
        "id": "3Nv5bF64Sn1v",
        "outputId": "09208589-6a7a-4fce-e4a7-a3b7681b9dbc"
      },
      "source": [
        "max_length=model_f[\"Clean_Text\"].str.len().max()\n",
        "print(max_length)"
      ],
      "execution_count": null,
      "outputs": [
        {
          "output_type": "stream",
          "text": [
            "29119\n"
          ],
          "name": "stdout"
        }
      ]
    },
    {
      "cell_type": "code",
      "metadata": {
        "colab": {
          "base_uri": "https://localhost:8080/",
          "height": 204
        },
        "id": "NCtty6G_Sqgg",
        "outputId": "e9711e72-f02d-4ca6-937e-9a7b77368528"
      },
      "source": [
        "model_f.head()"
      ],
      "execution_count": null,
      "outputs": [
        {
          "output_type": "execute_result",
          "data": {
            "text/html": [
              "<div>\n",
              "<style scoped>\n",
              "    .dataframe tbody tr th:only-of-type {\n",
              "        vertical-align: middle;\n",
              "    }\n",
              "\n",
              "    .dataframe tbody tr th {\n",
              "        vertical-align: top;\n",
              "    }\n",
              "\n",
              "    .dataframe thead th {\n",
              "        text-align: right;\n",
              "    }\n",
              "</style>\n",
              "<table border=\"1\" class=\"dataframe\">\n",
              "  <thead>\n",
              "    <tr style=\"text-align: right;\">\n",
              "      <th></th>\n",
              "      <th>Title</th>\n",
              "      <th>Author</th>\n",
              "      <th>Text</th>\n",
              "      <th>Category</th>\n",
              "      <th>Clean_Text</th>\n",
              "    </tr>\n",
              "  </thead>\n",
              "  <tbody>\n",
              "    <tr>\n",
              "      <th>0</th>\n",
              "      <td>উপমহাদেশীয়</td>\n",
              "      <td>অরিজিৎ মিত্র</td>\n",
              "      <td>কাচের  জানলা......পর্দাগুলো  হাট  করে  খোলা।  ...</td>\n",
              "      <td>1</td>\n",
              "      <td>কাচের জানলাপর্দাগুলো হাট খোলা । সেদিকে তাকালে ...</td>\n",
              "    </tr>\n",
              "    <tr>\n",
              "      <th>1</th>\n",
              "      <td>স্যান্ডওয়াচ</td>\n",
              "      <td>পিয়াসা</td>\n",
              "      <td>স্যান্ডওয়াচ    পিয়াসা               -  না  সার...</td>\n",
              "      <td>0</td>\n",
              "      <td>স্যান্ডওয়াচ পিয়াসা সার্থক প্লিজ ছেড়ে দাও প্লিজ...</td>\n",
              "    </tr>\n",
              "    <tr>\n",
              "      <th>2</th>\n",
              "      <td>ভৌতিক গল্প- জন্মান্তর</td>\n",
              "      <td>Sumana Das \"Sumana\"</td>\n",
              "      <td>ভৌতিক  গল্প-  জন্মান্তর   ...</td>\n",
              "      <td>0</td>\n",
              "      <td>ভৌতিক গল্প জন্মান্তর সুদেববাবুর বাড়ি কলকাতায় ।...</td>\n",
              "    </tr>\n",
              "    <tr>\n",
              "      <th>3</th>\n",
              "      <td>অতৃপ্তি সব্যসাচী সেন</td>\n",
              "      <td>Sabyasachi Sen</td>\n",
              "      <td>অতৃপ্তি  ১)  ওলা  বাইকেই  অফিস  যাতায়াত  করে ...</td>\n",
              "      <td>0</td>\n",
              "      <td>অতৃপ্তি ওলা বাইকেই অফিস যাতায়াত পৌলমী । ফ্ল্য...</td>\n",
              "    </tr>\n",
              "    <tr>\n",
              "      <th>4</th>\n",
              "      <td>অবশেষে ভালোবেসেঃ ৩৫</td>\n",
              "      <td>Meherun Nesa \"কল্পনা বিলাসী\"</td>\n",
              "      <td>অবশেষে  ভালোবেসে  (৩৫)  কিছুক্ষন  পর  নার্স  ট...</td>\n",
              "      <td>2</td>\n",
              "      <td>অবশেষে ভালোবেসে কিছুক্ষন নার্স আরো দুইজন এক্সট...</td>\n",
              "    </tr>\n",
              "  </tbody>\n",
              "</table>\n",
              "</div>"
            ],
            "text/plain": [
              "                   Title  ...                                         Clean_Text\n",
              "0             উপমহাদেশীয়  ...  কাচের জানলাপর্দাগুলো হাট খোলা । সেদিকে তাকালে ...\n",
              "1            স্যান্ডওয়াচ  ...  স্যান্ডওয়াচ পিয়াসা সার্থক প্লিজ ছেড়ে দাও প্লিজ...\n",
              "2  ভৌতিক গল্প- জন্মান্তর  ...  ভৌতিক গল্প জন্মান্তর সুদেববাবুর বাড়ি কলকাতায় ।...\n",
              "3   অতৃপ্তি সব্যসাচী সেন  ...  অতৃপ্তি ওলা বাইকেই অফিস যাতায়াত পৌলমী । ফ্ল্য...\n",
              "4    অবশেষে ভালোবেসেঃ ৩৫  ...  অবশেষে ভালোবেসে কিছুক্ষন নার্স আরো দুইজন এক্সট...\n",
              "\n",
              "[5 rows x 5 columns]"
            ]
          },
          "metadata": {
            "tags": []
          },
          "execution_count": 14
        }
      ]
    },
    {
      "cell_type": "code",
      "metadata": {
        "colab": {
          "base_uri": "https://localhost:8080/"
        },
        "id": "-38GyPKBSsmZ",
        "outputId": "28489ffc-3bfc-4f46-9cb8-ca88a00dffde"
      },
      "source": [
        "train=model_f\n",
        "a=train.Category.unique()\n",
        "l=len(a)\n",
        "print(a)"
      ],
      "execution_count": null,
      "outputs": [
        {
          "output_type": "stream",
          "text": [
            "[1 0 2]\n"
          ],
          "name": "stdout"
        }
      ]
    },
    {
      "cell_type": "code",
      "metadata": {
        "colab": {
          "base_uri": "https://localhost:8080/"
        },
        "id": "6r0TQrYhSurq",
        "outputId": "b44b4edf-4b88-45d3-a57e-29d29925eb19"
      },
      "source": [
        "\n",
        "train.Category.head()"
      ],
      "execution_count": null,
      "outputs": [
        {
          "output_type": "execute_result",
          "data": {
            "text/plain": [
              "0    1\n",
              "1    0\n",
              "2    0\n",
              "3    0\n",
              "4    2\n",
              "Name: Category, dtype: int64"
            ]
          },
          "metadata": {
            "tags": []
          },
          "execution_count": 16
        }
      ]
    },
    {
      "cell_type": "code",
      "metadata": {
        "colab": {
          "base_uri": "https://localhost:8080/"
        },
        "id": "z6WXQKAFSwzR",
        "outputId": "c12105b6-3545-4c6f-e82e-a0174431b6c1"
      },
      "source": [
        "train.Category.value_counts()"
      ],
      "execution_count": null,
      "outputs": [
        {
          "output_type": "execute_result",
          "data": {
            "text/plain": [
              "2    2000\n",
              "1    2000\n",
              "0    1811\n",
              "Name: Category, dtype: int64"
            ]
          },
          "metadata": {
            "tags": []
          },
          "execution_count": 17
        }
      ]
    },
    {
      "cell_type": "code",
      "metadata": {
        "id": "du37URYiSy95"
      },
      "source": [
        "df = train\n",
        "df.Category = df.Category.astype(int)"
      ],
      "execution_count": null,
      "outputs": []
    },
    {
      "cell_type": "code",
      "metadata": {
        "id": "tTrccr_8S0_6"
      },
      "source": [
        "from sklearn.model_selection import train_test_split\n",
        "from sklearn.preprocessing import LabelBinarizer\n",
        "from keras.preprocessing.text import Tokenizer\n",
        "from keras.preprocessing.sequence import pad_sequences\n",
        "from sklearn.feature_extraction.text import TfidfVectorizer\n",
        "from keras.layers import SpatialDropout1D\n",
        "#from keras.utils import to_categorical\n",
        "from sklearn.metrics import classification_report\n",
        "from sklearn.metrics import roc_auc_score\n",
        "from sklearn.metrics import roc_curve\n",
        "from sklearn.metrics import precision_recall_curve\n",
        "from sklearn.model_selection import GridSearchCV\n",
        "from keras.models import Sequential\n",
        "from keras.layers import Dense\n",
        "from keras.layers import LSTM\n",
        "from keras.layers import Conv1D\n",
        "from keras.layers import Dropout\n",
        "from keras.layers import Bidirectional\n",
        "from keras.layers import GlobalMaxPool1D\n",
        "#from keras.utils import plot_model\n",
        "from keras.layers.embeddings import Embedding\n",
        "from keras.preprocessing import sequence\n",
        "from keras.callbacks import EarlyStopping\n",
        "from sklearn.feature_selection import RFE\n",
        "import re"
      ],
      "execution_count": null,
      "outputs": []
    },
    {
      "cell_type": "code",
      "metadata": {
        "colab": {
          "base_uri": "https://localhost:8080/"
        },
        "id": "V-1N7B82S3IC",
        "outputId": "2192dd2d-ff3b-49f8-a875-bed2ba4936e2"
      },
      "source": [
        "# The maximum number of words to be used. (most frequent)\n",
        "MAX_NB_WORDS = 50000\n",
        "# Max number of words in each complaint.\n",
        "MAX_SEQUENCE_LENGTH = 250\n",
        "# This is fixed.\n",
        "EMBEDDING_DIM = 100\n",
        "tokenizer = Tokenizer(num_words=MAX_NB_WORDS, filters='!\"#$%&()*+,-./:;<=>?@[\\]^_`{|}~।', lower=False)\n",
        "tokenizer.fit_on_texts(df.Clean_Text.values)\n",
        "word_index = tokenizer.word_index\n",
        "print('Found %s unique tokens.' % len(word_index))"
      ],
      "execution_count": null,
      "outputs": [
        {
          "output_type": "stream",
          "text": [
            "Found 277039 unique tokens.\n"
          ],
          "name": "stdout"
        }
      ]
    },
    {
      "cell_type": "code",
      "metadata": {
        "colab": {
          "base_uri": "https://localhost:8080/"
        },
        "id": "SJsDpxRZS9ab",
        "outputId": "0fb2fa18-2118-4692-d274-e3e08b6c0722"
      },
      "source": [
        "X = tokenizer.texts_to_sequences(df.Clean_Text .values)\n",
        "X = pad_sequences(X, maxlen=MAX_SEQUENCE_LENGTH)\n",
        "print('Shape of data tensor:', X.shape)"
      ],
      "execution_count": null,
      "outputs": [
        {
          "output_type": "stream",
          "text": [
            "Shape of data tensor: (5811, 250)\n"
          ],
          "name": "stdout"
        }
      ]
    },
    {
      "cell_type": "code",
      "metadata": {
        "colab": {
          "base_uri": "https://localhost:8080/"
        },
        "id": "sltDKAjdTBqa",
        "outputId": "25e8ea38-53d7-41b7-d898-1739cd806268"
      },
      "source": [
        "Y = pd.get_dummies(df.Category).values\n",
        "print('Shape of label tensor:', Y.shape)"
      ],
      "execution_count": null,
      "outputs": [
        {
          "output_type": "stream",
          "text": [
            "Shape of label tensor: (5811, 3)\n"
          ],
          "name": "stdout"
        }
      ]
    },
    {
      "cell_type": "code",
      "metadata": {
        "id": "tHepPzRHTFHr"
      },
      "source": [
        "train_features, test_features, train_labels, test_labels = train_test_split(X, Y, test_size=.10)"
      ],
      "execution_count": null,
      "outputs": []
    },
    {
      "cell_type": "code",
      "metadata": {
        "colab": {
          "base_uri": "https://localhost:8080/"
        },
        "id": "EdSM3gTHTHZ7",
        "outputId": "aabcae66-9f82-42c8-910a-3de2c48a4d3f"
      },
      "source": [
        "model = Sequential()\n",
        "model.add(Embedding(MAX_NB_WORDS, EMBEDDING_DIM, input_length=X.shape[1]))\n",
        "model.add(LSTM(64))\n",
        "model.add(Dense(256, activation='relu'))\n",
        "model.add(Dropout(0.5))\n",
        "model.add(Dense(l, activation='softmax'))\n",
        "model.compile(loss='categorical_crossentropy', optimizer='adam', metrics=['accuracy'])\n",
        "print(model.summary())\n",
        "\n",
        "#plot_model(model,'qw.png',show_shapes=True)\n"
      ],
      "execution_count": null,
      "outputs": [
        {
          "output_type": "stream",
          "text": [
            "Model: \"sequential_8\"\n",
            "_________________________________________________________________\n",
            "Layer (type)                 Output Shape              Param #   \n",
            "=================================================================\n",
            "embedding_8 (Embedding)      (None, 250, 100)          5000000   \n",
            "_________________________________________________________________\n",
            "lstm_8 (LSTM)                (None, 64)                42240     \n",
            "_________________________________________________________________\n",
            "dense_16 (Dense)             (None, 256)               16640     \n",
            "_________________________________________________________________\n",
            "dropout_8 (Dropout)          (None, 256)               0         \n",
            "_________________________________________________________________\n",
            "dense_17 (Dense)             (None, 3)                 771       \n",
            "=================================================================\n",
            "Total params: 5,059,651\n",
            "Trainable params: 5,059,651\n",
            "Non-trainable params: 0\n",
            "_________________________________________________________________\n",
            "None\n"
          ],
          "name": "stdout"
        }
      ]
    },
    {
      "cell_type": "code",
      "metadata": {
        "id": "2iq4O2q-TK-T"
      },
      "source": [
        "epochs = 10\n",
        "batch_size = 128"
      ],
      "execution_count": null,
      "outputs": []
    },
    {
      "cell_type": "code",
      "metadata": {
        "colab": {
          "base_uri": "https://localhost:8080/"
        },
        "id": "6Uasajt3TN18",
        "outputId": "16b53a85-6b91-433d-8c1f-7b679e631783"
      },
      "source": [
        "history = model.fit(train_features, train_labels, epochs=epochs, batch_size=batch_size,validation_split=0.1,callbacks=[EarlyStopping(monitor='val_loss', patience=3, min_delta=0.0001)])"
      ],
      "execution_count": null,
      "outputs": [
        {
          "output_type": "stream",
          "text": [
            "Epoch 1/10\n",
            "37/37 [==============================] - 20s 483ms/step - loss: 1.0829 - accuracy: 0.4016 - val_loss: 0.9628 - val_accuracy: 0.6233\n",
            "Epoch 2/10\n",
            "37/37 [==============================] - 17s 463ms/step - loss: 0.6670 - accuracy: 0.7421 - val_loss: 0.5933 - val_accuracy: 0.7725\n",
            "Epoch 3/10\n",
            "37/37 [==============================] - 17s 460ms/step - loss: 0.2025 - accuracy: 0.9395 - val_loss: 0.5509 - val_accuracy: 0.7916\n",
            "Epoch 4/10\n",
            "37/37 [==============================] - 17s 460ms/step - loss: 0.0912 - accuracy: 0.9768 - val_loss: 0.5467 - val_accuracy: 0.8069\n",
            "Epoch 5/10\n",
            "37/37 [==============================] - 17s 462ms/step - loss: 0.0798 - accuracy: 0.9783 - val_loss: 0.5595 - val_accuracy: 0.8011\n",
            "Epoch 6/10\n",
            "37/37 [==============================] - 17s 463ms/step - loss: 0.0600 - accuracy: 0.9806 - val_loss: 0.5280 - val_accuracy: 0.8279\n",
            "Epoch 7/10\n",
            "37/37 [==============================] - 17s 462ms/step - loss: 0.0679 - accuracy: 0.9773 - val_loss: 0.5514 - val_accuracy: 0.8088\n",
            "Epoch 8/10\n",
            "37/37 [==============================] - 17s 461ms/step - loss: 0.0462 - accuracy: 0.9852 - val_loss: 0.5844 - val_accuracy: 0.8126\n",
            "Epoch 9/10\n",
            "37/37 [==============================] - 17s 463ms/step - loss: 0.0518 - accuracy: 0.9822 - val_loss: 0.5447 - val_accuracy: 0.8298\n"
          ],
          "name": "stdout"
        }
      ]
    },
    {
      "cell_type": "code",
      "metadata": {
        "colab": {
          "base_uri": "https://localhost:8080/"
        },
        "id": "TL5OT83vTQVk",
        "outputId": "d8a36244-20e1-4dba-99f6-759312dcd11b"
      },
      "source": [
        "accr = model.evaluate(test_features,test_labels)\n",
        "print('Test set\\n  Loss: {:0.3f}\\n  Accuracy: {:0.3f}'.format(accr[0],accr[1]))"
      ],
      "execution_count": null,
      "outputs": [
        {
          "output_type": "stream",
          "text": [
            "19/19 [==============================] - 1s 34ms/step - loss: 0.6219 - accuracy: 0.8247\n",
            "Test set\n",
            "  Loss: 0.622\n",
            "  Accuracy: 0.825\n"
          ],
          "name": "stdout"
        }
      ]
    },
    {
      "cell_type": "code",
      "metadata": {
        "id": "1shmoOnJT5Xh"
      },
      "source": [
        "from google.colab import files"
      ],
      "execution_count": null,
      "outputs": []
    },
    {
      "cell_type": "code",
      "metadata": {
        "colab": {
          "base_uri": "https://localhost:8080/",
          "height": 281
        },
        "id": "ICUKAHm5VjGO",
        "outputId": "146f5f99-86b7-4db6-8697-5fe53020dc7e"
      },
      "source": [
        "from matplotlib import pyplot as plt\n",
        "plt.title('Loss')\n",
        "plt.plot(history.history['loss'],'r', label='train')\n",
        "plt.plot(history.history['val_loss'],'b', label='test')\n",
        "plt.legend()\n",
        "plt.savefig('plot_loss.png',dpi=300, bbox_inches='tight')\n",
        "plt.show()"
      ],
      "execution_count": null,
      "outputs": [
        {
          "output_type": "display_data",
          "data": {
            "image/png": "[encoded data removed]",
            "text/plain": [
              "<Figure size 432x288 with 1 Axes>"
            ]
          },
          "metadata": {
            "tags": [],
            "needs_background": "light"
          }
        }
      ]
    },
    {
      "cell_type": "code",
      "metadata": {
        "colab": {
          "base_uri": "https://localhost:8080/",
          "height": 17
        },
        "id": "vexfdDk9VntW",
        "outputId": "544e8a7d-ce85-4b8b-8599-922cdee3f6dd"
      },
      "source": [
        "files.download(\"plot_loss.png\") "
      ],
      "execution_count": null,
      "outputs": [
        {
          "output_type": "display_data",
          "data": {
            "application/javascript": [
              "\n",
              "    async function download(id, filename, size) {\n",
              "      if (!google.colab.kernel.accessAllowed) {\n",
              "        return;\n",
              "      }\n",
              "      const div = document.createElement('div');\n",
              "      const label = document.createElement('label');\n",
              "      label.textContent = `Downloading \"${filename}\": `;\n",
              "      div.appendChild(label);\n",
              "      const progress = document.createElement('progress');\n",
              "      progress.max = size;\n",
              "      div.appendChild(progress);\n",
              "      document.body.appendChild(div);\n",
              "\n",
              "      const buffers = [];\n",
              "      let downloaded = 0;\n",
              "\n",
              "      const channel = await google.colab.kernel.comms.open(id);\n",
              "      // Send a message to notify the kernel that we're ready.\n",
              "      channel.send({})\n",
              "\n",
              "      for await (const message of channel.messages) {\n",
              "        // Send a message to notify the kernel that we're ready.\n",
              "        channel.send({})\n",
              "        if (message.buffers) {\n",
              "          for (const buffer of message.buffers) {\n",
              "            buffers.push(buffer);\n",
              "            downloaded += buffer.byteLength;\n",
              "            progress.value = downloaded;\n",
              "          }\n",
              "        }\n",
              "      }\n",
              "      const blob = new Blob(buffers, {type: 'application/binary'});\n",
              "      const a = document.createElement('a');\n",
              "      a.href = window.URL.createObjectURL(blob);\n",
              "      a.download = filename;\n",
              "      div.appendChild(a);\n",
              "      a.click();\n",
              "      div.remove();\n",
              "    }\n",
              "  "
            ],
            "text/plain": [
              "<IPython.core.display.Javascript object>"
            ]
          },
          "metadata": {
            "tags": []
          }
        },
        {
          "output_type": "display_data",
          "data": {
            "application/javascript": [
              "download(\"download_5b5348c0-c6c7-4ba9-a8cc-2148cb868b63\", \"plot_loss.png\", 60988)"
            ],
            "text/plain": [
              "<IPython.core.display.Javascript object>"
            ]
          },
          "metadata": {
            "tags": []
          }
        }
      ]
    },
    {
      "cell_type": "code",
      "metadata": {
        "colab": {
          "base_uri": "https://localhost:8080/",
          "height": 281
        },
        "id": "glsg_-5YVseQ",
        "outputId": "4f1ff806-9da5-40d7-a311-5d12b4f7691b"
      },
      "source": [
        "plt.title('Accuracy')\n",
        "plt.plot(history.history['accuracy'],'r', label='train')\n",
        "plt.plot(history.history['val_accuracy'],'b', label='test')\n",
        "plt.legend()\n",
        "plt.savefig('plot_accuracy.png', dpi=300, bbox_inches='tight')\n",
        "plt.show()"
      ],
      "execution_count": null,
      "outputs": [
        {
          "output_type": "display_data",
          "data": {
            "image/png": "[encoded data removed]",
            "text/plain": [
              "<Figure size 432x288 with 1 Axes>"
            ]
          },
          "metadata": {
            "tags": [],
            "needs_background": "light"
          }
        }
      ]
    },
    {
      "cell_type": "code",
      "metadata": {
        "colab": {
          "base_uri": "https://localhost:8080/",
          "height": 17
        },
        "id": "r3bfn2zgVytA",
        "outputId": "2810b6a3-2eba-42c4-b016-90d2a4b9465e"
      },
      "source": [
        "files.download(\"plot_accuracy.png\") "
      ],
      "execution_count": null,
      "outputs": [
        {
          "output_type": "display_data",
          "data": {
            "application/javascript": [
              "\n",
              "    async function download(id, filename, size) {\n",
              "      if (!google.colab.kernel.accessAllowed) {\n",
              "        return;\n",
              "      }\n",
              "      const div = document.createElement('div');\n",
              "      const label = document.createElement('label');\n",
              "      label.textContent = `Downloading \"${filename}\": `;\n",
              "      div.appendChild(label);\n",
              "      const progress = document.createElement('progress');\n",
              "      progress.max = size;\n",
              "      div.appendChild(progress);\n",
              "      document.body.appendChild(div);\n",
              "\n",
              "      const buffers = [];\n",
              "      let downloaded = 0;\n",
              "\n",
              "      const channel = await google.colab.kernel.comms.open(id);\n",
              "      // Send a message to notify the kernel that we're ready.\n",
              "      channel.send({})\n",
              "\n",
              "      for await (const message of channel.messages) {\n",
              "        // Send a message to notify the kernel that we're ready.\n",
              "        channel.send({})\n",
              "        if (message.buffers) {\n",
              "          for (const buffer of message.buffers) {\n",
              "            buffers.push(buffer);\n",
              "            downloaded += buffer.byteLength;\n",
              "            progress.value = downloaded;\n",
              "          }\n",
              "        }\n",
              "      }\n",
              "      const blob = new Blob(buffers, {type: 'application/binary'});\n",
              "      const a = document.createElement('a');\n",
              "      a.href = window.URL.createObjectURL(blob);\n",
              "      a.download = filename;\n",
              "      div.appendChild(a);\n",
              "      a.click();\n",
              "      div.remove();\n",
              "    }\n",
              "  "
            ],
            "text/plain": [
              "<IPython.core.display.Javascript object>"
            ]
          },
          "metadata": {
            "tags": []
          }
        },
        {
          "output_type": "display_data",
          "data": {
            "application/javascript": [
              "download(\"download_028bb4aa-c95a-49eb-a341-199ef261af20\", \"plot_accuracy.png\", 63865)"
            ],
            "text/plain": [
              "<IPython.core.display.Javascript object>"
            ]
          },
          "metadata": {
            "tags": []
          }
        }
      ]
    },
    {
      "cell_type": "code",
      "metadata": {
        "id": "kn1hU4sUV1Rw"
      },
      "source": [
        "predicted_classes = model.predict(test_features)\n",
        "predicted_classes = np.argmax(np.round(predicted_classes),axis=1)\n",
        "#test_Y = np.argmax(np.round(test_labels),axis=1)"
      ],
      "execution_count": null,
      "outputs": []
    },
    {
      "cell_type": "code",
      "metadata": {
        "colab": {
          "base_uri": "https://localhost:8080/"
        },
        "id": "J-l6TIkGX5Dv",
        "outputId": "53f903b0-6c75-49c0-ed4e-a889b4a42f28"
      },
      "source": [
        "predicted_classes.shape, test_labels.shape\n",
        "print(test_labels.shape)"
      ],
      "execution_count": null,
      "outputs": [
        {
          "output_type": "stream",
          "text": [
            "(582, 3)\n"
          ],
          "name": "stdout"
        }
      ]
    },
    {
      "cell_type": "code",
      "metadata": {
        "colab": {
          "base_uri": "https://localhost:8080/"
        },
        "id": "udhrbRiOX9I4",
        "outputId": "35fc54c9-5d20-4bba-810d-c6f7f53ca50a"
      },
      "source": [
        "test_Y=[]\n",
        "for i in range (582):\n",
        "    for j in range (3):\n",
        "        if(test_labels[i][j]==1):\n",
        "            test_Y.append(j)\n",
        "print(len(test_Y))"
      ],
      "execution_count": null,
      "outputs": [
        {
          "output_type": "stream",
          "text": [
            "582\n"
          ],
          "name": "stdout"
        }
      ]
    },
    {
      "cell_type": "code",
      "metadata": {
        "colab": {
          "base_uri": "https://localhost:8080/"
        },
        "id": "YyW1ia4nYFth",
        "outputId": "40849360-87d7-4b20-e142-d20e1f0f5ca6"
      },
      "source": [
        "from sklearn.metrics import classification_report\n",
        "target_names = [\"Class {}\".format(i) for i in range(3)]\n",
        "print(classification_report(test_Y, predicted_classes, target_names=target_names))"
      ],
      "execution_count": null,
      "outputs": [
        {
          "output_type": "stream",
          "text": [
            "              precision    recall  f1-score   support\n",
            "\n",
            "     Class 0       0.84      0.92      0.88       180\n",
            "     Class 1       0.75      0.84      0.80       193\n",
            "     Class 2       0.89      0.72      0.80       209\n",
            "\n",
            "    accuracy                           0.82       582\n",
            "   macro avg       0.83      0.83      0.82       582\n",
            "weighted avg       0.83      0.82      0.82       582\n",
            "\n"
          ],
          "name": "stdout"
        }
      ]
    },
    {
      "cell_type": "code",
      "metadata": {
        "id": "704yo0BiYQSq"
      },
      "source": [
        "name=[]\n",
        "for i in range(3):\n",
        "  name.append(i)\n"
      ],
      "execution_count": null,
      "outputs": []
    },
    {
      "cell_type": "code",
      "metadata": {
        "colab": {
          "base_uri": "https://localhost:8080/",
          "height": 500
        },
        "id": "EJN124SlYem7",
        "outputId": "b98564a2-0792-4996-d7ef-90357af6a179"
      },
      "source": [
        "# Plot confusion matrix\n",
        "conf_mat = confusion_matrix(test_Y, predicted_classes, labels = name)\n",
        "\n",
        "#Normalize confusion_matrix\n",
        "conf_mat = conf_mat.astype('float')/ conf_mat.sum(axis=1)[:, np.newaxis]\n",
        "\n",
        "# Plot Heat Map\n",
        "fig , ax = plt.subplots()\n",
        "fig.set_size_inches(13, 8)\n",
        "sns.heatmap(conf_mat)"
      ],
      "execution_count": null,
      "outputs": [
        {
          "output_type": "execute_result",
          "data": {
            "text/plain": [
              "<matplotlib.axes._subplots.AxesSubplot at 0x7fb426fa51d0>"
            ]
          },
          "metadata": {
            "tags": []
          },
          "execution_count": 84
        },
        {
          "output_type": "display_data",
          "data": {
            "image/png": "[encoded data removed]",
            "text/plain": [
              "<Figure size 936x576 with 2 Axes>"
            ]
          },
          "metadata": {
            "tags": [],
            "needs_background": "light"
          }
        }
      ]
    },
    {
      "cell_type": "code",
      "metadata": {
        "colab": {
          "base_uri": "https://localhost:8080/",
          "height": 758
        },
        "id": "8jecYR3mYh_k",
        "outputId": "b1494321-ed47-430c-dc6a-4bdfa20bba58"
      },
      "source": [
        "print(__doc__)\n",
        "\n",
        "import itertools\n",
        "import numpy as np\n",
        "import matplotlib.pyplot as plt\n",
        "\n",
        "from sklearn import svm, datasets\n",
        "from sklearn.model_selection import train_test_split\n",
        "from sklearn.metrics import confusion_matrix\n",
        "\n",
        "\n",
        "class_names = name\n",
        "\n",
        "def plot_confusion_matrix(cm, classes,\n",
        "                          normalize=False,\n",
        "                          title='Confusion matrix',\n",
        "                          cmap=plt.cm.Blues):\n",
        "    \"\"\"\n",
        "    This function prints and plots the confusion matrix.\n",
        "    Normalization can be applied by setting `normalize=True`.\n",
        "    \"\"\"\n",
        "    if normalize:\n",
        "        cm = cm.astype('float') / cm.sum(axis=1)[:, np.newaxis]\n",
        "        print(\"Normalized confusion matrix\")\n",
        "    else:\n",
        "        print('Confusion matrix, without normalization')\n",
        "\n",
        "    print(cm)\n",
        "\n",
        "    plt.imshow(cm, interpolation='nearest', cmap=cmap)\n",
        "    plt.title(title)\n",
        "    plt.colorbar()\n",
        "    tick_marks = np.arange(len(classes))\n",
        "    plt.xticks(tick_marks, classes, rotation=0)\n",
        "    plt.yticks(tick_marks, classes)\n",
        "\n",
        "    fmt = '.2f' if normalize else 'd'\n",
        "    thresh = cm.max() / 2.\n",
        "    for i, j in itertools.product(range(cm.shape[0]), range(cm.shape[1])):\n",
        "        plt.text(j, i, format(cm[i, j], fmt),\n",
        "                 horizontalalignment=\"center\",\n",
        "                 color=\"white\" if cm[i, j] > thresh else \"black\")\n",
        "\n",
        "    plt.tight_layout()\n",
        "    plt.ylabel('True label')\n",
        "    plt.xlabel('Predicted label')\n",
        "\n",
        "# Compute confusion matrix\n",
        "cnf_matrix = confusion_matrix(test_Y, predicted_classes)\n",
        "np.set_printoptions(precision=2)\n",
        "\n",
        "# Plot non-normalized confusion matrix\n",
        "plt.figure()\n",
        "plot_confusion_matrix(cnf_matrix, classes=class_names,\n",
        "                      title='Confusion matrix, without normalization')\n",
        "plt.savefig('confussion_matrix_without_normalization.png', dpi=300, bbox_inches='tight')\n",
        "\n",
        "\n",
        "# Plot normalized confusion matrix\n",
        "plt.figure()\n",
        "plot_confusion_matrix(cnf_matrix, classes=class_names, normalize=True,\n",
        "                      title='Normalized confusion matrix')\n",
        "plt.savefig('confussion_matrix_with_normalization.png', dpi=300, bbox_inches='tight')\n",
        "\n",
        "\n",
        "plt.show()"
      ],
      "execution_count": null,
      "outputs": [
        {
          "output_type": "stream",
          "text": [
            "Automatically created module for IPython interactive environment\n",
            "Confusion matrix, without normalization\n",
            "[[166  13   1]\n",
            " [ 13 163  17]\n",
            " [ 18  41 150]]\n",
            "Normalized confusion matrix\n",
            "[[0.92 0.07 0.01]\n",
            " [0.07 0.84 0.09]\n",
            " [0.09 0.2  0.72]]\n"
          ],
          "name": "stdout"
        },
        {
          "output_type": "display_data",
          "data": {
            "image/png": "[encoded data removed]",
            "text/plain": [
              "<Figure size 432x288 with 2 Axes>"
            ]
          },
          "metadata": {
            "tags": [],
            "needs_background": "light"
          }
        },
        {
          "output_type": "display_data",
          "data": {
            "image/png": "[encoded data removed]",
            "text/plain": [
              "<Figure size 432x288 with 2 Axes>"
            ]
          },
          "metadata": {
            "tags": [],
            "needs_background": "light"
          }
        }
      ]
    },
    {
      "cell_type": "code",
      "metadata": {
        "colab": {
          "base_uri": "https://localhost:8080/",
          "height": 17
        },
        "id": "lSp6Gp-ZYsil",
        "outputId": "6212c62c-ca0d-4562-ce85-0b4585ceb9ff"
      },
      "source": [
        "files.download(\"confussion_matrix_without_normalization.png\") "
      ],
      "execution_count": null,
      "outputs": [
        {
          "output_type": "display_data",
          "data": {
            "application/javascript": [
              "\n",
              "    async function download(id, filename, size) {\n",
              "      if (!google.colab.kernel.accessAllowed) {\n",
              "        return;\n",
              "      }\n",
              "      const div = document.createElement('div');\n",
              "      const label = document.createElement('label');\n",
              "      label.textContent = `Downloading \"${filename}\": `;\n",
              "      div.appendChild(label);\n",
              "      const progress = document.createElement('progress');\n",
              "      progress.max = size;\n",
              "      div.appendChild(progress);\n",
              "      document.body.appendChild(div);\n",
              "\n",
              "      const buffers = [];\n",
              "      let downloaded = 0;\n",
              "\n",
              "      const channel = await google.colab.kernel.comms.open(id);\n",
              "      // Send a message to notify the kernel that we're ready.\n",
              "      channel.send({})\n",
              "\n",
              "      for await (const message of channel.messages) {\n",
              "        // Send a message to notify the kernel that we're ready.\n",
              "        channel.send({})\n",
              "        if (message.buffers) {\n",
              "          for (const buffer of message.buffers) {\n",
              "            buffers.push(buffer);\n",
              "            downloaded += buffer.byteLength;\n",
              "            progress.value = downloaded;\n",
              "          }\n",
              "        }\n",
              "      }\n",
              "      const blob = new Blob(buffers, {type: 'application/binary'});\n",
              "      const a = document.createElement('a');\n",
              "      a.href = window.URL.createObjectURL(blob);\n",
              "      a.download = filename;\n",
              "      div.appendChild(a);\n",
              "      a.click();\n",
              "      div.remove();\n",
              "    }\n",
              "  "
            ],
            "text/plain": [
              "<IPython.core.display.Javascript object>"
            ]
          },
          "metadata": {
            "tags": []
          }
        },
        {
          "output_type": "display_data",
          "data": {
            "application/javascript": [
              "download(\"download_f6ca5a12-a5a6-4054-b574-7adcd1e991be\", \"confussion_matrix_without_normalization.png\", 74365)"
            ],
            "text/plain": [
              "<IPython.core.display.Javascript object>"
            ]
          },
          "metadata": {
            "tags": []
          }
        }
      ]
    },
    {
      "cell_type": "code",
      "metadata": {
        "colab": {
          "base_uri": "https://localhost:8080/",
          "height": 17
        },
        "id": "r89ZBUo_u_hS",
        "outputId": "6e1e2dff-1385-4051-ce01-39c09d86a30e"
      },
      "source": [
        "files.download(\"confussion_matrix_with_normalization.png\") "
      ],
      "execution_count": null,
      "outputs": [
        {
          "output_type": "display_data",
          "data": {
            "application/javascript": [
              "\n",
              "    async function download(id, filename, size) {\n",
              "      if (!google.colab.kernel.accessAllowed) {\n",
              "        return;\n",
              "      }\n",
              "      const div = document.createElement('div');\n",
              "      const label = document.createElement('label');\n",
              "      label.textContent = `Downloading \"${filename}\": `;\n",
              "      div.appendChild(label);\n",
              "      const progress = document.createElement('progress');\n",
              "      progress.max = size;\n",
              "      div.appendChild(progress);\n",
              "      document.body.appendChild(div);\n",
              "\n",
              "      const buffers = [];\n",
              "      let downloaded = 0;\n",
              "\n",
              "      const channel = await google.colab.kernel.comms.open(id);\n",
              "      // Send a message to notify the kernel that we're ready.\n",
              "      channel.send({})\n",
              "\n",
              "      for await (const message of channel.messages) {\n",
              "        // Send a message to notify the kernel that we're ready.\n",
              "        channel.send({})\n",
              "        if (message.buffers) {\n",
              "          for (const buffer of message.buffers) {\n",
              "            buffers.push(buffer);\n",
              "            downloaded += buffer.byteLength;\n",
              "            progress.value = downloaded;\n",
              "          }\n",
              "        }\n",
              "      }\n",
              "      const blob = new Blob(buffers, {type: 'application/binary'});\n",
              "      const a = document.createElement('a');\n",
              "      a.href = window.URL.createObjectURL(blob);\n",
              "      a.download = filename;\n",
              "      div.appendChild(a);\n",
              "      a.click();\n",
              "      div.remove();\n",
              "    }\n",
              "  "
            ],
            "text/plain": [
              "<IPython.core.display.Javascript object>"
            ]
          },
          "metadata": {
            "tags": []
          }
        },
        {
          "output_type": "display_data",
          "data": {
            "application/javascript": [
              "download(\"download_93f9067d-b761-4d1b-a5ef-95f75c393b73\", \"confussion_matrix_with_normalization.png\", 76093)"
            ],
            "text/plain": [
              "<IPython.core.display.Javascript object>"
            ]
          },
          "metadata": {
            "tags": []
          }
        }
      ]
    },
    {
      "cell_type": "code",
      "metadata": {
        "id": "Ox0tSdU-vJd7"
      },
      "source": [
        ""
      ],
      "execution_count": null,
      "outputs": []
    }
  ]
}